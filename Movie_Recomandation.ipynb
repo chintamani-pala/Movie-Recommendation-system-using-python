{
  "nbformat": 4,
  "nbformat_minor": 0,
  "metadata": {
    "colab": {
      "provenance": []
    },
    "kernelspec": {
      "name": "python3",
      "display_name": "Python 3"
    },
    "language_info": {
      "name": "python"
    }
  },
  "cells": [
    {
      "cell_type": "markdown",
      "source": [
        "# Movie Recomandaion System"
      ],
      "metadata": {
        "id": "AgQzuykc1M7j"
      }
    },
    {
      "cell_type": "markdown",
      "source": [
        "\n",
        "Recommender System is a system that seeks to predict or filter preferences according to the user's choices. Recommender systems are utilized in a variety of areas including movies, music, news, books, research articles, search queries, social tags, and products in general. Recommender systems produce a list of recommendations in any of the two ways -\n",
        "Collaborative filtering: Collaborative filtering approaches build a model from the user's past behavior (i.e. items purchased or searched by the user) as well as similar decisions made by other users. This model is then used to predict items (or ratings for items) that users may have an interest in.\n",
        "Content-based filtering: Content-based filtering approaches uses a series of discrete characteristics of an item in order to recommend additional items with similar properties. Content-based filtering methods are totally based on a description of the item and a profile of the user's preferences. It recommends items based on the user's past preferences. Let's develop a basic recommendation system using Python and Pandas.\n",
        "Let's develop a basic recommendation system by suggesting items that are most similar to a particular item, in this case, movies. It just tells what movies/items are most similar to the user's movie choice."
      ],
      "metadata": {
        "id": "UnNov0ql1a5h"
      }
    },
    {
      "cell_type": "markdown",
      "source": [
        "#Import Library"
      ],
      "metadata": {
        "id": "z-zCHKfT1cbK"
      }
    },
    {
      "cell_type": "code",
      "source": [
        "import pandas as pd\n",
        "import numpy as np"
      ],
      "metadata": {
        "id": "Wxx71Eqi1iu1"
      },
      "execution_count": 1,
      "outputs": []
    },
    {
      "cell_type": "markdown",
      "source": [
        "#Import Data"
      ],
      "metadata": {
        "id": "qeRB6sS01z1o"
      }
    },
    {
      "cell_type": "code",
      "source": [
        "df=pd.read_csv(\"https://raw.githubusercontent.com/YBIFoundation/Dataset/main/Movies%20Recommendation.csv\")\n"
      ],
      "metadata": {
        "id": "vJ6dnJCB14Zg"
      },
      "execution_count": 2,
      "outputs": []
    },
    {
      "cell_type": "code",
      "source": [
        "df.head()"
      ],
      "metadata": {
        "colab": {
          "base_uri": "https://localhost:8080/",
          "height": 672
        },
        "id": "lARzFxEx2Sgl",
        "outputId": "b681b42b-c88c-4385-8be4-11f06bf79e33"
      },
      "execution_count": 3,
      "outputs": [
        {
          "output_type": "execute_result",
          "data": {
            "text/plain": [
              "   Movie_ID      Movie_Title                       Movie_Genre Movie_Language  \\\n",
              "0         1       Four Rooms                      Crime Comedy             en   \n",
              "1         2        Star Wars  Adventure Action Science Fiction             en   \n",
              "2         3     Finding Nemo                  Animation Family             en   \n",
              "3         4     Forrest Gump              Comedy Drama Romance             en   \n",
              "4         5  American Beauty                             Drama             en   \n",
              "\n",
              "   Movie_Budget  Movie_Popularity Movie_Release_Date  Movie_Revenue  \\\n",
              "0       4000000         22.876230         09-12-1995        4300000   \n",
              "1      11000000        126.393695         25-05-1977      775398007   \n",
              "2      94000000         85.688789         30-05-2003      940335536   \n",
              "3      55000000        138.133331         06-07-1994      677945399   \n",
              "4      15000000         80.878605         15-09-1999      356296601   \n",
              "\n",
              "   Movie_Runtime  Movie_Vote  ...  \\\n",
              "0           98.0         6.5  ...   \n",
              "1          121.0         8.1  ...   \n",
              "2          100.0         7.6  ...   \n",
              "3          142.0         8.2  ...   \n",
              "4          122.0         7.9  ...   \n",
              "\n",
              "                                      Movie_Homepage  \\\n",
              "0                                                NaN   \n",
              "1  http://www.starwars.com/films/star-wars-episod...   \n",
              "2              http://movies.disney.com/finding-nemo   \n",
              "3                                                NaN   \n",
              "4                      http://www.dreamworks.com/ab/   \n",
              "\n",
              "                                      Movie_Keywords  \\\n",
              "0          hotel new year's eve witch bet hotel room   \n",
              "1        android galaxy hermit death star lightsaber   \n",
              "2  father son relationship harbor underwater fish...   \n",
              "3  vietnam veteran hippie mentally disabled runni...   \n",
              "4  male nudity female nudity adultery midlife cri...   \n",
              "\n",
              "                                      Movie_Overview  \\\n",
              "0  It's Ted the Bellhop's first night on the job....   \n",
              "1  Princess Leia is captured and held hostage by ...   \n",
              "2  Nemo, an adventurous young clownfish, is unexp...   \n",
              "3  A man with a low IQ has accomplished great thi...   \n",
              "4  Lester Burnham, a depressed suburban father in...   \n",
              "\n",
              "                              Movie_Production_House  \\\n",
              "0  [{\"name\": \"Miramax Films\", \"id\": 14}, {\"name\":...   \n",
              "1  [{\"name\": \"Lucasfilm\", \"id\": 1}, {\"name\": \"Twe...   \n",
              "2     [{\"name\": \"Pixar Animation Studios\", \"id\": 3}]   \n",
              "3          [{\"name\": \"Paramount Pictures\", \"id\": 4}]   \n",
              "4  [{\"name\": \"DreamWorks SKG\", \"id\": 27}, {\"name\"...   \n",
              "\n",
              "                            Movie_Production_Country  \\\n",
              "0  [{\"iso_3166_1\": \"US\", \"name\": \"United States o...   \n",
              "1  [{\"iso_3166_1\": \"US\", \"name\": \"United States o...   \n",
              "2  [{\"iso_3166_1\": \"US\", \"name\": \"United States o...   \n",
              "3  [{\"iso_3166_1\": \"US\", \"name\": \"United States o...   \n",
              "4  [{\"iso_3166_1\": \"US\", \"name\": \"United States o...   \n",
              "\n",
              "                      Movie_Spoken_Language  \\\n",
              "0  [{\"iso_639_1\": \"en\", \"name\": \"English\"}]   \n",
              "1  [{\"iso_639_1\": \"en\", \"name\": \"English\"}]   \n",
              "2  [{\"iso_639_1\": \"en\", \"name\": \"English\"}]   \n",
              "3  [{\"iso_639_1\": \"en\", \"name\": \"English\"}]   \n",
              "4  [{\"iso_639_1\": \"en\", \"name\": \"English\"}]   \n",
              "\n",
              "                                       Movie_Tagline  \\\n",
              "0  Twelve outrageous guests. Four scandalous requ...   \n",
              "1       A long time ago in a galaxy far, far away...   \n",
              "2  There are 3.7 trillion fish in the ocean, they...   \n",
              "3  The world will never be the same, once you've ...   \n",
              "4                                       Look closer.   \n",
              "\n",
              "                                          Movie_Cast  \\\n",
              "0  Tim Roth Antonio Banderas Jennifer Beals Madon...   \n",
              "1  Mark Hamill Harrison Ford Carrie Fisher Peter ...   \n",
              "2  Albert Brooks Ellen DeGeneres Alexander Gould ...   \n",
              "3  Tom Hanks Robin Wright Gary Sinise Mykelti Wil...   \n",
              "4  Kevin Spacey Annette Bening Thora Birch Wes Be...   \n",
              "\n",
              "                                          Movie_Crew   Movie_Director  \n",
              "0  [{'name': 'Allison Anders', 'gender': 1, 'depa...   Allison Anders  \n",
              "1  [{'name': 'George Lucas', 'gender': 2, 'depart...     George Lucas  \n",
              "2  [{'name': 'Andrew Stanton', 'gender': 2, 'depa...   Andrew Stanton  \n",
              "3  [{'name': 'Alan Silvestri', 'gender': 2, 'depa...  Robert Zemeckis  \n",
              "4  [{'name': 'Thomas Newman', 'gender': 2, 'depar...       Sam Mendes  \n",
              "\n",
              "[5 rows x 21 columns]"
            ],
            "text/html": [
              "\n",
              "  <div id=\"df-a9e00f69-2104-49e9-90ce-cf468d0db4b2\" class=\"colab-df-container\">\n",
              "    <div>\n",
              "<style scoped>\n",
              "    .dataframe tbody tr th:only-of-type {\n",
              "        vertical-align: middle;\n",
              "    }\n",
              "\n",
              "    .dataframe tbody tr th {\n",
              "        vertical-align: top;\n",
              "    }\n",
              "\n",
              "    .dataframe thead th {\n",
              "        text-align: right;\n",
              "    }\n",
              "</style>\n",
              "<table border=\"1\" class=\"dataframe\">\n",
              "  <thead>\n",
              "    <tr style=\"text-align: right;\">\n",
              "      <th></th>\n",
              "      <th>Movie_ID</th>\n",
              "      <th>Movie_Title</th>\n",
              "      <th>Movie_Genre</th>\n",
              "      <th>Movie_Language</th>\n",
              "      <th>Movie_Budget</th>\n",
              "      <th>Movie_Popularity</th>\n",
              "      <th>Movie_Release_Date</th>\n",
              "      <th>Movie_Revenue</th>\n",
              "      <th>Movie_Runtime</th>\n",
              "      <th>Movie_Vote</th>\n",
              "      <th>...</th>\n",
              "      <th>Movie_Homepage</th>\n",
              "      <th>Movie_Keywords</th>\n",
              "      <th>Movie_Overview</th>\n",
              "      <th>Movie_Production_House</th>\n",
              "      <th>Movie_Production_Country</th>\n",
              "      <th>Movie_Spoken_Language</th>\n",
              "      <th>Movie_Tagline</th>\n",
              "      <th>Movie_Cast</th>\n",
              "      <th>Movie_Crew</th>\n",
              "      <th>Movie_Director</th>\n",
              "    </tr>\n",
              "  </thead>\n",
              "  <tbody>\n",
              "    <tr>\n",
              "      <th>0</th>\n",
              "      <td>1</td>\n",
              "      <td>Four Rooms</td>\n",
              "      <td>Crime Comedy</td>\n",
              "      <td>en</td>\n",
              "      <td>4000000</td>\n",
              "      <td>22.876230</td>\n",
              "      <td>09-12-1995</td>\n",
              "      <td>4300000</td>\n",
              "      <td>98.0</td>\n",
              "      <td>6.5</td>\n",
              "      <td>...</td>\n",
              "      <td>NaN</td>\n",
              "      <td>hotel new year's eve witch bet hotel room</td>\n",
              "      <td>It's Ted the Bellhop's first night on the job....</td>\n",
              "      <td>[{\"name\": \"Miramax Films\", \"id\": 14}, {\"name\":...</td>\n",
              "      <td>[{\"iso_3166_1\": \"US\", \"name\": \"United States o...</td>\n",
              "      <td>[{\"iso_639_1\": \"en\", \"name\": \"English\"}]</td>\n",
              "      <td>Twelve outrageous guests. Four scandalous requ...</td>\n",
              "      <td>Tim Roth Antonio Banderas Jennifer Beals Madon...</td>\n",
              "      <td>[{'name': 'Allison Anders', 'gender': 1, 'depa...</td>\n",
              "      <td>Allison Anders</td>\n",
              "    </tr>\n",
              "    <tr>\n",
              "      <th>1</th>\n",
              "      <td>2</td>\n",
              "      <td>Star Wars</td>\n",
              "      <td>Adventure Action Science Fiction</td>\n",
              "      <td>en</td>\n",
              "      <td>11000000</td>\n",
              "      <td>126.393695</td>\n",
              "      <td>25-05-1977</td>\n",
              "      <td>775398007</td>\n",
              "      <td>121.0</td>\n",
              "      <td>8.1</td>\n",
              "      <td>...</td>\n",
              "      <td>http://www.starwars.com/films/star-wars-episod...</td>\n",
              "      <td>android galaxy hermit death star lightsaber</td>\n",
              "      <td>Princess Leia is captured and held hostage by ...</td>\n",
              "      <td>[{\"name\": \"Lucasfilm\", \"id\": 1}, {\"name\": \"Twe...</td>\n",
              "      <td>[{\"iso_3166_1\": \"US\", \"name\": \"United States o...</td>\n",
              "      <td>[{\"iso_639_1\": \"en\", \"name\": \"English\"}]</td>\n",
              "      <td>A long time ago in a galaxy far, far away...</td>\n",
              "      <td>Mark Hamill Harrison Ford Carrie Fisher Peter ...</td>\n",
              "      <td>[{'name': 'George Lucas', 'gender': 2, 'depart...</td>\n",
              "      <td>George Lucas</td>\n",
              "    </tr>\n",
              "    <tr>\n",
              "      <th>2</th>\n",
              "      <td>3</td>\n",
              "      <td>Finding Nemo</td>\n",
              "      <td>Animation Family</td>\n",
              "      <td>en</td>\n",
              "      <td>94000000</td>\n",
              "      <td>85.688789</td>\n",
              "      <td>30-05-2003</td>\n",
              "      <td>940335536</td>\n",
              "      <td>100.0</td>\n",
              "      <td>7.6</td>\n",
              "      <td>...</td>\n",
              "      <td>http://movies.disney.com/finding-nemo</td>\n",
              "      <td>father son relationship harbor underwater fish...</td>\n",
              "      <td>Nemo, an adventurous young clownfish, is unexp...</td>\n",
              "      <td>[{\"name\": \"Pixar Animation Studios\", \"id\": 3}]</td>\n",
              "      <td>[{\"iso_3166_1\": \"US\", \"name\": \"United States o...</td>\n",
              "      <td>[{\"iso_639_1\": \"en\", \"name\": \"English\"}]</td>\n",
              "      <td>There are 3.7 trillion fish in the ocean, they...</td>\n",
              "      <td>Albert Brooks Ellen DeGeneres Alexander Gould ...</td>\n",
              "      <td>[{'name': 'Andrew Stanton', 'gender': 2, 'depa...</td>\n",
              "      <td>Andrew Stanton</td>\n",
              "    </tr>\n",
              "    <tr>\n",
              "      <th>3</th>\n",
              "      <td>4</td>\n",
              "      <td>Forrest Gump</td>\n",
              "      <td>Comedy Drama Romance</td>\n",
              "      <td>en</td>\n",
              "      <td>55000000</td>\n",
              "      <td>138.133331</td>\n",
              "      <td>06-07-1994</td>\n",
              "      <td>677945399</td>\n",
              "      <td>142.0</td>\n",
              "      <td>8.2</td>\n",
              "      <td>...</td>\n",
              "      <td>NaN</td>\n",
              "      <td>vietnam veteran hippie mentally disabled runni...</td>\n",
              "      <td>A man with a low IQ has accomplished great thi...</td>\n",
              "      <td>[{\"name\": \"Paramount Pictures\", \"id\": 4}]</td>\n",
              "      <td>[{\"iso_3166_1\": \"US\", \"name\": \"United States o...</td>\n",
              "      <td>[{\"iso_639_1\": \"en\", \"name\": \"English\"}]</td>\n",
              "      <td>The world will never be the same, once you've ...</td>\n",
              "      <td>Tom Hanks Robin Wright Gary Sinise Mykelti Wil...</td>\n",
              "      <td>[{'name': 'Alan Silvestri', 'gender': 2, 'depa...</td>\n",
              "      <td>Robert Zemeckis</td>\n",
              "    </tr>\n",
              "    <tr>\n",
              "      <th>4</th>\n",
              "      <td>5</td>\n",
              "      <td>American Beauty</td>\n",
              "      <td>Drama</td>\n",
              "      <td>en</td>\n",
              "      <td>15000000</td>\n",
              "      <td>80.878605</td>\n",
              "      <td>15-09-1999</td>\n",
              "      <td>356296601</td>\n",
              "      <td>122.0</td>\n",
              "      <td>7.9</td>\n",
              "      <td>...</td>\n",
              "      <td>http://www.dreamworks.com/ab/</td>\n",
              "      <td>male nudity female nudity adultery midlife cri...</td>\n",
              "      <td>Lester Burnham, a depressed suburban father in...</td>\n",
              "      <td>[{\"name\": \"DreamWorks SKG\", \"id\": 27}, {\"name\"...</td>\n",
              "      <td>[{\"iso_3166_1\": \"US\", \"name\": \"United States o...</td>\n",
              "      <td>[{\"iso_639_1\": \"en\", \"name\": \"English\"}]</td>\n",
              "      <td>Look closer.</td>\n",
              "      <td>Kevin Spacey Annette Bening Thora Birch Wes Be...</td>\n",
              "      <td>[{'name': 'Thomas Newman', 'gender': 2, 'depar...</td>\n",
              "      <td>Sam Mendes</td>\n",
              "    </tr>\n",
              "  </tbody>\n",
              "</table>\n",
              "<p>5 rows × 21 columns</p>\n",
              "</div>\n",
              "    <div class=\"colab-df-buttons\">\n",
              "\n",
              "  <div class=\"colab-df-container\">\n",
              "    <button class=\"colab-df-convert\" onclick=\"convertToInteractive('df-a9e00f69-2104-49e9-90ce-cf468d0db4b2')\"\n",
              "            title=\"Convert this dataframe to an interactive table.\"\n",
              "            style=\"display:none;\">\n",
              "\n",
              "  <svg xmlns=\"http://www.w3.org/2000/svg\" height=\"24px\" viewBox=\"0 -960 960 960\">\n",
              "    <path d=\"M120-120v-720h720v720H120Zm60-500h600v-160H180v160Zm220 220h160v-160H400v160Zm0 220h160v-160H400v160ZM180-400h160v-160H180v160Zm440 0h160v-160H620v160ZM180-180h160v-160H180v160Zm440 0h160v-160H620v160Z\"/>\n",
              "  </svg>\n",
              "    </button>\n",
              "\n",
              "  <style>\n",
              "    .colab-df-container {\n",
              "      display:flex;\n",
              "      gap: 12px;\n",
              "    }\n",
              "\n",
              "    .colab-df-convert {\n",
              "      background-color: #E8F0FE;\n",
              "      border: none;\n",
              "      border-radius: 50%;\n",
              "      cursor: pointer;\n",
              "      display: none;\n",
              "      fill: #1967D2;\n",
              "      height: 32px;\n",
              "      padding: 0 0 0 0;\n",
              "      width: 32px;\n",
              "    }\n",
              "\n",
              "    .colab-df-convert:hover {\n",
              "      background-color: #E2EBFA;\n",
              "      box-shadow: 0px 1px 2px rgba(60, 64, 67, 0.3), 0px 1px 3px 1px rgba(60, 64, 67, 0.15);\n",
              "      fill: #174EA6;\n",
              "    }\n",
              "\n",
              "    .colab-df-buttons div {\n",
              "      margin-bottom: 4px;\n",
              "    }\n",
              "\n",
              "    [theme=dark] .colab-df-convert {\n",
              "      background-color: #3B4455;\n",
              "      fill: #D2E3FC;\n",
              "    }\n",
              "\n",
              "    [theme=dark] .colab-df-convert:hover {\n",
              "      background-color: #434B5C;\n",
              "      box-shadow: 0px 1px 3px 1px rgba(0, 0, 0, 0.15);\n",
              "      filter: drop-shadow(0px 1px 2px rgba(0, 0, 0, 0.3));\n",
              "      fill: #FFFFFF;\n",
              "    }\n",
              "  </style>\n",
              "\n",
              "    <script>\n",
              "      const buttonEl =\n",
              "        document.querySelector('#df-a9e00f69-2104-49e9-90ce-cf468d0db4b2 button.colab-df-convert');\n",
              "      buttonEl.style.display =\n",
              "        google.colab.kernel.accessAllowed ? 'block' : 'none';\n",
              "\n",
              "      async function convertToInteractive(key) {\n",
              "        const element = document.querySelector('#df-a9e00f69-2104-49e9-90ce-cf468d0db4b2');\n",
              "        const dataTable =\n",
              "          await google.colab.kernel.invokeFunction('convertToInteractive',\n",
              "                                                    [key], {});\n",
              "        if (!dataTable) return;\n",
              "\n",
              "        const docLinkHtml = 'Like what you see? Visit the ' +\n",
              "          '<a target=\"_blank\" href=https://colab.research.google.com/notebooks/data_table.ipynb>data table notebook</a>'\n",
              "          + ' to learn more about interactive tables.';\n",
              "        element.innerHTML = '';\n",
              "        dataTable['output_type'] = 'display_data';\n",
              "        await google.colab.output.renderOutput(dataTable, element);\n",
              "        const docLink = document.createElement('div');\n",
              "        docLink.innerHTML = docLinkHtml;\n",
              "        element.appendChild(docLink);\n",
              "      }\n",
              "    </script>\n",
              "  </div>\n",
              "\n",
              "\n",
              "<div id=\"df-8a4e7af0-4a71-4233-9304-469ab90cc49e\">\n",
              "  <button class=\"colab-df-quickchart\" onclick=\"quickchart('df-8a4e7af0-4a71-4233-9304-469ab90cc49e')\"\n",
              "            title=\"Suggest charts\"\n",
              "            style=\"display:none;\">\n",
              "\n",
              "<svg xmlns=\"http://www.w3.org/2000/svg\" height=\"24px\"viewBox=\"0 0 24 24\"\n",
              "     width=\"24px\">\n",
              "    <g>\n",
              "        <path d=\"M19 3H5c-1.1 0-2 .9-2 2v14c0 1.1.9 2 2 2h14c1.1 0 2-.9 2-2V5c0-1.1-.9-2-2-2zM9 17H7v-7h2v7zm4 0h-2V7h2v10zm4 0h-2v-4h2v4z\"/>\n",
              "    </g>\n",
              "</svg>\n",
              "  </button>\n",
              "\n",
              "<style>\n",
              "  .colab-df-quickchart {\n",
              "      --bg-color: #E8F0FE;\n",
              "      --fill-color: #1967D2;\n",
              "      --hover-bg-color: #E2EBFA;\n",
              "      --hover-fill-color: #174EA6;\n",
              "      --disabled-fill-color: #AAA;\n",
              "      --disabled-bg-color: #DDD;\n",
              "  }\n",
              "\n",
              "  [theme=dark] .colab-df-quickchart {\n",
              "      --bg-color: #3B4455;\n",
              "      --fill-color: #D2E3FC;\n",
              "      --hover-bg-color: #434B5C;\n",
              "      --hover-fill-color: #FFFFFF;\n",
              "      --disabled-bg-color: #3B4455;\n",
              "      --disabled-fill-color: #666;\n",
              "  }\n",
              "\n",
              "  .colab-df-quickchart {\n",
              "    background-color: var(--bg-color);\n",
              "    border: none;\n",
              "    border-radius: 50%;\n",
              "    cursor: pointer;\n",
              "    display: none;\n",
              "    fill: var(--fill-color);\n",
              "    height: 32px;\n",
              "    padding: 0;\n",
              "    width: 32px;\n",
              "  }\n",
              "\n",
              "  .colab-df-quickchart:hover {\n",
              "    background-color: var(--hover-bg-color);\n",
              "    box-shadow: 0 1px 2px rgba(60, 64, 67, 0.3), 0 1px 3px 1px rgba(60, 64, 67, 0.15);\n",
              "    fill: var(--button-hover-fill-color);\n",
              "  }\n",
              "\n",
              "  .colab-df-quickchart-complete:disabled,\n",
              "  .colab-df-quickchart-complete:disabled:hover {\n",
              "    background-color: var(--disabled-bg-color);\n",
              "    fill: var(--disabled-fill-color);\n",
              "    box-shadow: none;\n",
              "  }\n",
              "\n",
              "  .colab-df-spinner {\n",
              "    border: 2px solid var(--fill-color);\n",
              "    border-color: transparent;\n",
              "    border-bottom-color: var(--fill-color);\n",
              "    animation:\n",
              "      spin 1s steps(1) infinite;\n",
              "  }\n",
              "\n",
              "  @keyframes spin {\n",
              "    0% {\n",
              "      border-color: transparent;\n",
              "      border-bottom-color: var(--fill-color);\n",
              "      border-left-color: var(--fill-color);\n",
              "    }\n",
              "    20% {\n",
              "      border-color: transparent;\n",
              "      border-left-color: var(--fill-color);\n",
              "      border-top-color: var(--fill-color);\n",
              "    }\n",
              "    30% {\n",
              "      border-color: transparent;\n",
              "      border-left-color: var(--fill-color);\n",
              "      border-top-color: var(--fill-color);\n",
              "      border-right-color: var(--fill-color);\n",
              "    }\n",
              "    40% {\n",
              "      border-color: transparent;\n",
              "      border-right-color: var(--fill-color);\n",
              "      border-top-color: var(--fill-color);\n",
              "    }\n",
              "    60% {\n",
              "      border-color: transparent;\n",
              "      border-right-color: var(--fill-color);\n",
              "    }\n",
              "    80% {\n",
              "      border-color: transparent;\n",
              "      border-right-color: var(--fill-color);\n",
              "      border-bottom-color: var(--fill-color);\n",
              "    }\n",
              "    90% {\n",
              "      border-color: transparent;\n",
              "      border-bottom-color: var(--fill-color);\n",
              "    }\n",
              "  }\n",
              "</style>\n",
              "\n",
              "  <script>\n",
              "    async function quickchart(key) {\n",
              "      const quickchartButtonEl =\n",
              "        document.querySelector('#' + key + ' button');\n",
              "      quickchartButtonEl.disabled = true;  // To prevent multiple clicks.\n",
              "      quickchartButtonEl.classList.add('colab-df-spinner');\n",
              "      try {\n",
              "        const charts = await google.colab.kernel.invokeFunction(\n",
              "            'suggestCharts', [key], {});\n",
              "      } catch (error) {\n",
              "        console.error('Error during call to suggestCharts:', error);\n",
              "      }\n",
              "      quickchartButtonEl.classList.remove('colab-df-spinner');\n",
              "      quickchartButtonEl.classList.add('colab-df-quickchart-complete');\n",
              "    }\n",
              "    (() => {\n",
              "      let quickchartButtonEl =\n",
              "        document.querySelector('#df-8a4e7af0-4a71-4233-9304-469ab90cc49e button');\n",
              "      quickchartButtonEl.style.display =\n",
              "        google.colab.kernel.accessAllowed ? 'block' : 'none';\n",
              "    })();\n",
              "  </script>\n",
              "</div>\n",
              "\n",
              "    </div>\n",
              "  </div>\n"
            ]
          },
          "metadata": {},
          "execution_count": 3
        }
      ]
    },
    {
      "cell_type": "code",
      "source": [
        "df.info()"
      ],
      "metadata": {
        "colab": {
          "base_uri": "https://localhost:8080/"
        },
        "id": "uL08BXBh2VF4",
        "outputId": "e755a9c1-10dd-4cd3-91b1-48814fed52fd"
      },
      "execution_count": 4,
      "outputs": [
        {
          "output_type": "stream",
          "name": "stdout",
          "text": [
            "<class 'pandas.core.frame.DataFrame'>\n",
            "RangeIndex: 4760 entries, 0 to 4759\n",
            "Data columns (total 21 columns):\n",
            " #   Column                    Non-Null Count  Dtype  \n",
            "---  ------                    --------------  -----  \n",
            " 0   Movie_ID                  4760 non-null   int64  \n",
            " 1   Movie_Title               4760 non-null   object \n",
            " 2   Movie_Genre               4760 non-null   object \n",
            " 3   Movie_Language            4760 non-null   object \n",
            " 4   Movie_Budget              4760 non-null   int64  \n",
            " 5   Movie_Popularity          4760 non-null   float64\n",
            " 6   Movie_Release_Date        4760 non-null   object \n",
            " 7   Movie_Revenue             4760 non-null   int64  \n",
            " 8   Movie_Runtime             4758 non-null   float64\n",
            " 9   Movie_Vote                4760 non-null   float64\n",
            " 10  Movie_Vote_Count          4760 non-null   int64  \n",
            " 11  Movie_Homepage            1699 non-null   object \n",
            " 12  Movie_Keywords            4373 non-null   object \n",
            " 13  Movie_Overview            4757 non-null   object \n",
            " 14  Movie_Production_House    4760 non-null   object \n",
            " 15  Movie_Production_Country  4760 non-null   object \n",
            " 16  Movie_Spoken_Language     4760 non-null   object \n",
            " 17  Movie_Tagline             3942 non-null   object \n",
            " 18  Movie_Cast                4733 non-null   object \n",
            " 19  Movie_Crew                4760 non-null   object \n",
            " 20  Movie_Director            4738 non-null   object \n",
            "dtypes: float64(3), int64(4), object(14)\n",
            "memory usage: 781.1+ KB\n"
          ]
        }
      ]
    },
    {
      "cell_type": "code",
      "source": [
        "df.describe()"
      ],
      "metadata": {
        "colab": {
          "base_uri": "https://localhost:8080/",
          "height": 300
        },
        "id": "cnGHBCfT2VJb",
        "outputId": "f38c9b56-2ffa-4e33-8a95-f03bc6385336"
      },
      "execution_count": 5,
      "outputs": [
        {
          "output_type": "execute_result",
          "data": {
            "text/plain": [
              "          Movie_ID  Movie_Budget  Movie_Popularity  Movie_Revenue  \\\n",
              "count  4760.000000  4.760000e+03       4760.000000   4.760000e+03   \n",
              "mean   2382.566387  2.920129e+07         21.599510   8.263743e+07   \n",
              "std    1377.270159  4.075620e+07         31.887919   1.630554e+08   \n",
              "min       1.000000  0.000000e+00          0.000372   0.000000e+00   \n",
              "25%    1190.750000  9.257500e+05          4.807074   0.000000e+00   \n",
              "50%    2380.500000  1.500000e+07         13.119058   1.944716e+07   \n",
              "75%    3572.250000  4.000000e+07         28.411929   9.341276e+07   \n",
              "max    4788.000000  3.800000e+08        875.581305   2.787965e+09   \n",
              "\n",
              "       Movie_Runtime   Movie_Vote  Movie_Vote_Count  \n",
              "count    4758.000000  4760.000000       4760.000000  \n",
              "mean      107.184111     6.113866        692.508403  \n",
              "std        21.960332     1.141294       1235.007337  \n",
              "min         0.000000     0.000000          0.000000  \n",
              "25%        94.000000     5.600000         55.000000  \n",
              "50%       104.000000     6.200000        238.000000  \n",
              "75%       118.000000     6.800000        740.250000  \n",
              "max       338.000000    10.000000      13752.000000  "
            ],
            "text/html": [
              "\n",
              "  <div id=\"df-bee31795-cfe9-4290-b597-95e5928192b5\" class=\"colab-df-container\">\n",
              "    <div>\n",
              "<style scoped>\n",
              "    .dataframe tbody tr th:only-of-type {\n",
              "        vertical-align: middle;\n",
              "    }\n",
              "\n",
              "    .dataframe tbody tr th {\n",
              "        vertical-align: top;\n",
              "    }\n",
              "\n",
              "    .dataframe thead th {\n",
              "        text-align: right;\n",
              "    }\n",
              "</style>\n",
              "<table border=\"1\" class=\"dataframe\">\n",
              "  <thead>\n",
              "    <tr style=\"text-align: right;\">\n",
              "      <th></th>\n",
              "      <th>Movie_ID</th>\n",
              "      <th>Movie_Budget</th>\n",
              "      <th>Movie_Popularity</th>\n",
              "      <th>Movie_Revenue</th>\n",
              "      <th>Movie_Runtime</th>\n",
              "      <th>Movie_Vote</th>\n",
              "      <th>Movie_Vote_Count</th>\n",
              "    </tr>\n",
              "  </thead>\n",
              "  <tbody>\n",
              "    <tr>\n",
              "      <th>count</th>\n",
              "      <td>4760.000000</td>\n",
              "      <td>4.760000e+03</td>\n",
              "      <td>4760.000000</td>\n",
              "      <td>4.760000e+03</td>\n",
              "      <td>4758.000000</td>\n",
              "      <td>4760.000000</td>\n",
              "      <td>4760.000000</td>\n",
              "    </tr>\n",
              "    <tr>\n",
              "      <th>mean</th>\n",
              "      <td>2382.566387</td>\n",
              "      <td>2.920129e+07</td>\n",
              "      <td>21.599510</td>\n",
              "      <td>8.263743e+07</td>\n",
              "      <td>107.184111</td>\n",
              "      <td>6.113866</td>\n",
              "      <td>692.508403</td>\n",
              "    </tr>\n",
              "    <tr>\n",
              "      <th>std</th>\n",
              "      <td>1377.270159</td>\n",
              "      <td>4.075620e+07</td>\n",
              "      <td>31.887919</td>\n",
              "      <td>1.630554e+08</td>\n",
              "      <td>21.960332</td>\n",
              "      <td>1.141294</td>\n",
              "      <td>1235.007337</td>\n",
              "    </tr>\n",
              "    <tr>\n",
              "      <th>min</th>\n",
              "      <td>1.000000</td>\n",
              "      <td>0.000000e+00</td>\n",
              "      <td>0.000372</td>\n",
              "      <td>0.000000e+00</td>\n",
              "      <td>0.000000</td>\n",
              "      <td>0.000000</td>\n",
              "      <td>0.000000</td>\n",
              "    </tr>\n",
              "    <tr>\n",
              "      <th>25%</th>\n",
              "      <td>1190.750000</td>\n",
              "      <td>9.257500e+05</td>\n",
              "      <td>4.807074</td>\n",
              "      <td>0.000000e+00</td>\n",
              "      <td>94.000000</td>\n",
              "      <td>5.600000</td>\n",
              "      <td>55.000000</td>\n",
              "    </tr>\n",
              "    <tr>\n",
              "      <th>50%</th>\n",
              "      <td>2380.500000</td>\n",
              "      <td>1.500000e+07</td>\n",
              "      <td>13.119058</td>\n",
              "      <td>1.944716e+07</td>\n",
              "      <td>104.000000</td>\n",
              "      <td>6.200000</td>\n",
              "      <td>238.000000</td>\n",
              "    </tr>\n",
              "    <tr>\n",
              "      <th>75%</th>\n",
              "      <td>3572.250000</td>\n",
              "      <td>4.000000e+07</td>\n",
              "      <td>28.411929</td>\n",
              "      <td>9.341276e+07</td>\n",
              "      <td>118.000000</td>\n",
              "      <td>6.800000</td>\n",
              "      <td>740.250000</td>\n",
              "    </tr>\n",
              "    <tr>\n",
              "      <th>max</th>\n",
              "      <td>4788.000000</td>\n",
              "      <td>3.800000e+08</td>\n",
              "      <td>875.581305</td>\n",
              "      <td>2.787965e+09</td>\n",
              "      <td>338.000000</td>\n",
              "      <td>10.000000</td>\n",
              "      <td>13752.000000</td>\n",
              "    </tr>\n",
              "  </tbody>\n",
              "</table>\n",
              "</div>\n",
              "    <div class=\"colab-df-buttons\">\n",
              "\n",
              "  <div class=\"colab-df-container\">\n",
              "    <button class=\"colab-df-convert\" onclick=\"convertToInteractive('df-bee31795-cfe9-4290-b597-95e5928192b5')\"\n",
              "            title=\"Convert this dataframe to an interactive table.\"\n",
              "            style=\"display:none;\">\n",
              "\n",
              "  <svg xmlns=\"http://www.w3.org/2000/svg\" height=\"24px\" viewBox=\"0 -960 960 960\">\n",
              "    <path d=\"M120-120v-720h720v720H120Zm60-500h600v-160H180v160Zm220 220h160v-160H400v160Zm0 220h160v-160H400v160ZM180-400h160v-160H180v160Zm440 0h160v-160H620v160ZM180-180h160v-160H180v160Zm440 0h160v-160H620v160Z\"/>\n",
              "  </svg>\n",
              "    </button>\n",
              "\n",
              "  <style>\n",
              "    .colab-df-container {\n",
              "      display:flex;\n",
              "      gap: 12px;\n",
              "    }\n",
              "\n",
              "    .colab-df-convert {\n",
              "      background-color: #E8F0FE;\n",
              "      border: none;\n",
              "      border-radius: 50%;\n",
              "      cursor: pointer;\n",
              "      display: none;\n",
              "      fill: #1967D2;\n",
              "      height: 32px;\n",
              "      padding: 0 0 0 0;\n",
              "      width: 32px;\n",
              "    }\n",
              "\n",
              "    .colab-df-convert:hover {\n",
              "      background-color: #E2EBFA;\n",
              "      box-shadow: 0px 1px 2px rgba(60, 64, 67, 0.3), 0px 1px 3px 1px rgba(60, 64, 67, 0.15);\n",
              "      fill: #174EA6;\n",
              "    }\n",
              "\n",
              "    .colab-df-buttons div {\n",
              "      margin-bottom: 4px;\n",
              "    }\n",
              "\n",
              "    [theme=dark] .colab-df-convert {\n",
              "      background-color: #3B4455;\n",
              "      fill: #D2E3FC;\n",
              "    }\n",
              "\n",
              "    [theme=dark] .colab-df-convert:hover {\n",
              "      background-color: #434B5C;\n",
              "      box-shadow: 0px 1px 3px 1px rgba(0, 0, 0, 0.15);\n",
              "      filter: drop-shadow(0px 1px 2px rgba(0, 0, 0, 0.3));\n",
              "      fill: #FFFFFF;\n",
              "    }\n",
              "  </style>\n",
              "\n",
              "    <script>\n",
              "      const buttonEl =\n",
              "        document.querySelector('#df-bee31795-cfe9-4290-b597-95e5928192b5 button.colab-df-convert');\n",
              "      buttonEl.style.display =\n",
              "        google.colab.kernel.accessAllowed ? 'block' : 'none';\n",
              "\n",
              "      async function convertToInteractive(key) {\n",
              "        const element = document.querySelector('#df-bee31795-cfe9-4290-b597-95e5928192b5');\n",
              "        const dataTable =\n",
              "          await google.colab.kernel.invokeFunction('convertToInteractive',\n",
              "                                                    [key], {});\n",
              "        if (!dataTable) return;\n",
              "\n",
              "        const docLinkHtml = 'Like what you see? Visit the ' +\n",
              "          '<a target=\"_blank\" href=https://colab.research.google.com/notebooks/data_table.ipynb>data table notebook</a>'\n",
              "          + ' to learn more about interactive tables.';\n",
              "        element.innerHTML = '';\n",
              "        dataTable['output_type'] = 'display_data';\n",
              "        await google.colab.output.renderOutput(dataTable, element);\n",
              "        const docLink = document.createElement('div');\n",
              "        docLink.innerHTML = docLinkHtml;\n",
              "        element.appendChild(docLink);\n",
              "      }\n",
              "    </script>\n",
              "  </div>\n",
              "\n",
              "\n",
              "<div id=\"df-59c640c6-f3ef-4f7b-ad96-41ec3c4e751e\">\n",
              "  <button class=\"colab-df-quickchart\" onclick=\"quickchart('df-59c640c6-f3ef-4f7b-ad96-41ec3c4e751e')\"\n",
              "            title=\"Suggest charts\"\n",
              "            style=\"display:none;\">\n",
              "\n",
              "<svg xmlns=\"http://www.w3.org/2000/svg\" height=\"24px\"viewBox=\"0 0 24 24\"\n",
              "     width=\"24px\">\n",
              "    <g>\n",
              "        <path d=\"M19 3H5c-1.1 0-2 .9-2 2v14c0 1.1.9 2 2 2h14c1.1 0 2-.9 2-2V5c0-1.1-.9-2-2-2zM9 17H7v-7h2v7zm4 0h-2V7h2v10zm4 0h-2v-4h2v4z\"/>\n",
              "    </g>\n",
              "</svg>\n",
              "  </button>\n",
              "\n",
              "<style>\n",
              "  .colab-df-quickchart {\n",
              "      --bg-color: #E8F0FE;\n",
              "      --fill-color: #1967D2;\n",
              "      --hover-bg-color: #E2EBFA;\n",
              "      --hover-fill-color: #174EA6;\n",
              "      --disabled-fill-color: #AAA;\n",
              "      --disabled-bg-color: #DDD;\n",
              "  }\n",
              "\n",
              "  [theme=dark] .colab-df-quickchart {\n",
              "      --bg-color: #3B4455;\n",
              "      --fill-color: #D2E3FC;\n",
              "      --hover-bg-color: #434B5C;\n",
              "      --hover-fill-color: #FFFFFF;\n",
              "      --disabled-bg-color: #3B4455;\n",
              "      --disabled-fill-color: #666;\n",
              "  }\n",
              "\n",
              "  .colab-df-quickchart {\n",
              "    background-color: var(--bg-color);\n",
              "    border: none;\n",
              "    border-radius: 50%;\n",
              "    cursor: pointer;\n",
              "    display: none;\n",
              "    fill: var(--fill-color);\n",
              "    height: 32px;\n",
              "    padding: 0;\n",
              "    width: 32px;\n",
              "  }\n",
              "\n",
              "  .colab-df-quickchart:hover {\n",
              "    background-color: var(--hover-bg-color);\n",
              "    box-shadow: 0 1px 2px rgba(60, 64, 67, 0.3), 0 1px 3px 1px rgba(60, 64, 67, 0.15);\n",
              "    fill: var(--button-hover-fill-color);\n",
              "  }\n",
              "\n",
              "  .colab-df-quickchart-complete:disabled,\n",
              "  .colab-df-quickchart-complete:disabled:hover {\n",
              "    background-color: var(--disabled-bg-color);\n",
              "    fill: var(--disabled-fill-color);\n",
              "    box-shadow: none;\n",
              "  }\n",
              "\n",
              "  .colab-df-spinner {\n",
              "    border: 2px solid var(--fill-color);\n",
              "    border-color: transparent;\n",
              "    border-bottom-color: var(--fill-color);\n",
              "    animation:\n",
              "      spin 1s steps(1) infinite;\n",
              "  }\n",
              "\n",
              "  @keyframes spin {\n",
              "    0% {\n",
              "      border-color: transparent;\n",
              "      border-bottom-color: var(--fill-color);\n",
              "      border-left-color: var(--fill-color);\n",
              "    }\n",
              "    20% {\n",
              "      border-color: transparent;\n",
              "      border-left-color: var(--fill-color);\n",
              "      border-top-color: var(--fill-color);\n",
              "    }\n",
              "    30% {\n",
              "      border-color: transparent;\n",
              "      border-left-color: var(--fill-color);\n",
              "      border-top-color: var(--fill-color);\n",
              "      border-right-color: var(--fill-color);\n",
              "    }\n",
              "    40% {\n",
              "      border-color: transparent;\n",
              "      border-right-color: var(--fill-color);\n",
              "      border-top-color: var(--fill-color);\n",
              "    }\n",
              "    60% {\n",
              "      border-color: transparent;\n",
              "      border-right-color: var(--fill-color);\n",
              "    }\n",
              "    80% {\n",
              "      border-color: transparent;\n",
              "      border-right-color: var(--fill-color);\n",
              "      border-bottom-color: var(--fill-color);\n",
              "    }\n",
              "    90% {\n",
              "      border-color: transparent;\n",
              "      border-bottom-color: var(--fill-color);\n",
              "    }\n",
              "  }\n",
              "</style>\n",
              "\n",
              "  <script>\n",
              "    async function quickchart(key) {\n",
              "      const quickchartButtonEl =\n",
              "        document.querySelector('#' + key + ' button');\n",
              "      quickchartButtonEl.disabled = true;  // To prevent multiple clicks.\n",
              "      quickchartButtonEl.classList.add('colab-df-spinner');\n",
              "      try {\n",
              "        const charts = await google.colab.kernel.invokeFunction(\n",
              "            'suggestCharts', [key], {});\n",
              "      } catch (error) {\n",
              "        console.error('Error during call to suggestCharts:', error);\n",
              "      }\n",
              "      quickchartButtonEl.classList.remove('colab-df-spinner');\n",
              "      quickchartButtonEl.classList.add('colab-df-quickchart-complete');\n",
              "    }\n",
              "    (() => {\n",
              "      let quickchartButtonEl =\n",
              "        document.querySelector('#df-59c640c6-f3ef-4f7b-ad96-41ec3c4e751e button');\n",
              "      quickchartButtonEl.style.display =\n",
              "        google.colab.kernel.accessAllowed ? 'block' : 'none';\n",
              "    })();\n",
              "  </script>\n",
              "</div>\n",
              "\n",
              "    </div>\n",
              "  </div>\n"
            ]
          },
          "metadata": {},
          "execution_count": 5
        }
      ]
    },
    {
      "cell_type": "code",
      "source": [
        "df.shape"
      ],
      "metadata": {
        "colab": {
          "base_uri": "https://localhost:8080/"
        },
        "id": "S7kuhRT32rH6",
        "outputId": "4bf529c1-156c-480a-9e23-e85464e028d2"
      },
      "execution_count": 6,
      "outputs": [
        {
          "output_type": "execute_result",
          "data": {
            "text/plain": [
              "(4760, 21)"
            ]
          },
          "metadata": {},
          "execution_count": 6
        }
      ]
    },
    {
      "cell_type": "code",
      "source": [
        "df.columns"
      ],
      "metadata": {
        "colab": {
          "base_uri": "https://localhost:8080/"
        },
        "id": "ih1ZKnEN2scd",
        "outputId": "0bc378be-566e-4f87-db72-7c416b2e490d"
      },
      "execution_count": 7,
      "outputs": [
        {
          "output_type": "execute_result",
          "data": {
            "text/plain": [
              "Index(['Movie_ID', 'Movie_Title', 'Movie_Genre', 'Movie_Language',\n",
              "       'Movie_Budget', 'Movie_Popularity', 'Movie_Release_Date',\n",
              "       'Movie_Revenue', 'Movie_Runtime', 'Movie_Vote', 'Movie_Vote_Count',\n",
              "       'Movie_Homepage', 'Movie_Keywords', 'Movie_Overview',\n",
              "       'Movie_Production_House', 'Movie_Production_Country',\n",
              "       'Movie_Spoken_Language', 'Movie_Tagline', 'Movie_Cast', 'Movie_Crew',\n",
              "       'Movie_Director'],\n",
              "      dtype='object')"
            ]
          },
          "metadata": {},
          "execution_count": 7
        }
      ]
    },
    {
      "cell_type": "markdown",
      "source": [
        "#Get Feature Selection"
      ],
      "metadata": {
        "id": "d9YwN_sz2zr_"
      }
    },
    {
      "cell_type": "code",
      "source": [
        "df_features=df[['Movie_Genre','Movie_Keywords','Movie_Tagline', 'Movie_Cast','Movie_Director']].fillna('')"
      ],
      "metadata": {
        "id": "dP27N1dp26Ch"
      },
      "execution_count": 8,
      "outputs": []
    },
    {
      "cell_type": "code",
      "source": [
        "df_features.shape"
      ],
      "metadata": {
        "colab": {
          "base_uri": "https://localhost:8080/"
        },
        "id": "74kQbNqG3esD",
        "outputId": "03dc7292-bc6b-43cd-d40b-81f0f153c5a8"
      },
      "execution_count": 9,
      "outputs": [
        {
          "output_type": "execute_result",
          "data": {
            "text/plain": [
              "(4760, 5)"
            ]
          },
          "metadata": {},
          "execution_count": 9
        }
      ]
    },
    {
      "cell_type": "code",
      "source": [
        "x=df_features['Movie_Genre']+' '+df_features['Movie_Keywords']+' '+df_features['Movie_Tagline']+' '+df_features['Movie_Cast']+' '+df_features['Movie_Director']\n"
      ],
      "metadata": {
        "id": "YuLtpxl33tM-"
      },
      "execution_count": 10,
      "outputs": []
    },
    {
      "cell_type": "code",
      "source": [
        "x.shape"
      ],
      "metadata": {
        "colab": {
          "base_uri": "https://localhost:8080/"
        },
        "id": "NIxvdz_c4TSM",
        "outputId": "862aa876-534e-4ac3-a99a-3ed4f11923eb"
      },
      "execution_count": 11,
      "outputs": [
        {
          "output_type": "execute_result",
          "data": {
            "text/plain": [
              "(4760,)"
            ]
          },
          "metadata": {},
          "execution_count": 11
        }
      ]
    },
    {
      "cell_type": "markdown",
      "source": [
        "#Get Feature text conversion to token"
      ],
      "metadata": {
        "id": "iMBX8GM04ZEt"
      }
    },
    {
      "cell_type": "code",
      "source": [
        "from sklearn.feature_extraction.text import TfidfVectorizer"
      ],
      "metadata": {
        "id": "nxEPgTBC4grA"
      },
      "execution_count": 12,
      "outputs": []
    },
    {
      "cell_type": "code",
      "source": [
        "tfidf=TfidfVectorizer()"
      ],
      "metadata": {
        "id": "Xj89iw3_41Uj"
      },
      "execution_count": 13,
      "outputs": []
    },
    {
      "cell_type": "code",
      "source": [
        "x=tfidf.fit_transform(x)"
      ],
      "metadata": {
        "id": "HMIkqNrJ47UC"
      },
      "execution_count": 14,
      "outputs": []
    },
    {
      "cell_type": "code",
      "source": [
        "x.shape"
      ],
      "metadata": {
        "colab": {
          "base_uri": "https://localhost:8080/"
        },
        "id": "VjKGrziv5BNw",
        "outputId": "6d194df9-9df4-44a2-c115-77388c1effd7"
      },
      "execution_count": 19,
      "outputs": [
        {
          "output_type": "execute_result",
          "data": {
            "text/plain": [
              "(4760, 17258)"
            ]
          },
          "metadata": {},
          "execution_count": 19
        }
      ]
    },
    {
      "cell_type": "code",
      "source": [
        "print(x)"
      ],
      "metadata": {
        "colab": {
          "base_uri": "https://localhost:8080/"
        },
        "id": "CZacdOk_5COa",
        "outputId": "cba7af7e-1ee9-48be-f39f-157cdeacd990"
      },
      "execution_count": 18,
      "outputs": [
        {
          "output_type": "stream",
          "name": "stdout",
          "text": [
            "  (0, 617)\t0.1633382144407513\n",
            "  (0, 492)\t0.1432591540388685\n",
            "  (0, 15413)\t0.1465525095337543\n",
            "  (0, 9675)\t0.14226057295252661\n",
            "  (0, 9465)\t0.1659841367820977\n",
            "  (0, 1390)\t0.16898383612799558\n",
            "  (0, 7825)\t0.09799561597509843\n",
            "  (0, 1214)\t0.13865857545144072\n",
            "  (0, 729)\t0.13415063359531618\n",
            "  (0, 13093)\t0.1432591540388685\n",
            "  (0, 15355)\t0.10477815972666779\n",
            "  (0, 9048)\t0.0866842116160778\n",
            "  (0, 11161)\t0.06250380151644369\n",
            "  (0, 16773)\t0.17654247479915475\n",
            "  (0, 5612)\t0.08603537588547631\n",
            "  (0, 16735)\t0.10690083751525419\n",
            "  (0, 7904)\t0.13348000542112332\n",
            "  (0, 15219)\t0.09800472886453934\n",
            "  (0, 11242)\t0.07277788238484746\n",
            "  (0, 3878)\t0.11998399582562203\n",
            "  (0, 5499)\t0.11454057510303811\n",
            "  (0, 7071)\t0.19822417598406614\n",
            "  (0, 7454)\t0.14745635785412262\n",
            "  (0, 1495)\t0.19712637387361423\n",
            "  (0, 9206)\t0.15186283580984414\n",
            "  :\t:\n",
            "  (4757, 5455)\t0.12491480594769522\n",
            "  (4757, 2967)\t0.16273475835631626\n",
            "  (4757, 8464)\t0.23522565554066333\n",
            "  (4757, 6938)\t0.17088173678136628\n",
            "  (4757, 8379)\t0.17480603856721913\n",
            "  (4757, 15303)\t0.07654356007668191\n",
            "  (4757, 15384)\t0.09754322497537371\n",
            "  (4757, 7649)\t0.11479421494340192\n",
            "  (4757, 10896)\t0.14546473055066447\n",
            "  (4757, 4494)\t0.05675298448720501\n",
            "  (4758, 5238)\t1.0\n",
            "  (4759, 11264)\t0.33947721804318337\n",
            "  (4759, 11708)\t0.33947721804318337\n",
            "  (4759, 205)\t0.3237911628497312\n",
            "  (4759, 8902)\t0.3040290704566037\n",
            "  (4759, 14062)\t0.3237911628497312\n",
            "  (4759, 3058)\t0.2812896191863103\n",
            "  (4759, 7130)\t0.26419662449963793\n",
            "  (4759, 10761)\t0.3126617295732147\n",
            "  (4759, 4358)\t0.18306542312175342\n",
            "  (4759, 14051)\t0.20084315377640435\n",
            "  (4759, 5690)\t0.19534291014627303\n",
            "  (4759, 15431)\t0.19628653185946862\n",
            "  (4759, 1490)\t0.21197258705292082\n",
            "  (4759, 10666)\t0.15888268987343043\n"
          ]
        }
      ]
    },
    {
      "cell_type": "markdown",
      "source": [
        "#Get similarity score using cosine similarity"
      ],
      "metadata": {
        "id": "pqMWsTvu5_VZ"
      }
    },
    {
      "cell_type": "code",
      "source": [
        "from sklearn.metrics.pairwise import cosine_similarity"
      ],
      "metadata": {
        "id": "41kKpSK46FaG"
      },
      "execution_count": null,
      "outputs": []
    },
    {
      "cell_type": "code",
      "source": [
        "Similarity_score=cosine_similarity(x)"
      ],
      "metadata": {
        "id": "T7mQXxcK6bnA"
      },
      "execution_count": 21,
      "outputs": []
    },
    {
      "cell_type": "code",
      "source": [
        "Similarity_score"
      ],
      "metadata": {
        "colab": {
          "base_uri": "https://localhost:8080/"
        },
        "id": "kso8mciV6r8X",
        "outputId": "919e5f03-8430-44d3-f7ac-743678c76c7f"
      },
      "execution_count": 22,
      "outputs": [
        {
          "output_type": "execute_result",
          "data": {
            "text/plain": [
              "array([[1.        , 0.01351235, 0.03570468, ..., 0.        , 0.        ,\n",
              "        0.        ],\n",
              "       [0.01351235, 1.        , 0.00806674, ..., 0.        , 0.        ,\n",
              "        0.        ],\n",
              "       [0.03570468, 0.00806674, 1.        , ..., 0.        , 0.08014876,\n",
              "        0.        ],\n",
              "       ...,\n",
              "       [0.        , 0.        , 0.        , ..., 1.        , 0.        ,\n",
              "        0.        ],\n",
              "       [0.        , 0.        , 0.08014876, ..., 0.        , 1.        ,\n",
              "        0.        ],\n",
              "       [0.        , 0.        , 0.        , ..., 0.        , 0.        ,\n",
              "        1.        ]])"
            ]
          },
          "metadata": {},
          "execution_count": 22
        }
      ]
    },
    {
      "cell_type": "code",
      "source": [
        "Similarity_score.shape"
      ],
      "metadata": {
        "colab": {
          "base_uri": "https://localhost:8080/"
        },
        "id": "S645HSNs60Tg",
        "outputId": "517d5fac-61d6-4c41-e562-c58650995ee8"
      },
      "execution_count": 23,
      "outputs": [
        {
          "output_type": "execute_result",
          "data": {
            "text/plain": [
              "(4760, 4760)"
            ]
          },
          "metadata": {},
          "execution_count": 23
        }
      ]
    },
    {
      "cell_type": "markdown",
      "source": [
        "#Get movie name as input from the user and validate for closet spelling"
      ],
      "metadata": {
        "id": "LDjjs5PX63mI"
      }
    },
    {
      "cell_type": "code",
      "source": [
        "Favorite_movie_name=input(\"Enter your favorite movie name: \")"
      ],
      "metadata": {
        "colab": {
          "base_uri": "https://localhost:8080/"
        },
        "id": "U5bNJ7S66_xj",
        "outputId": "917f727a-70d4-4975-90b0-1e771188924b"
      },
      "execution_count": 32,
      "outputs": [
        {
          "name": "stdout",
          "output_type": "stream",
          "text": [
            "Enter your favorite movie name: pushpa\n"
          ]
        }
      ]
    },
    {
      "cell_type": "code",
      "source": [
        "All_movie_title_list=df['Movie_Title'].tolist()"
      ],
      "metadata": {
        "id": "ZniR2vSW7SGF"
      },
      "execution_count": 29,
      "outputs": []
    },
    {
      "cell_type": "code",
      "source": [
        "import difflib"
      ],
      "metadata": {
        "id": "m1XhkwJh7hYD"
      },
      "execution_count": 30,
      "outputs": []
    },
    {
      "cell_type": "code",
      "source": [
        "movie_recomandation=difflib.get_close_matches(Favorite_movie_name,All_movie_title_list)\n",
        "print(movie_recomandation)"
      ],
      "metadata": {
        "colab": {
          "base_uri": "https://localhost:8080/"
        },
        "id": "4zkhNp9o7pg4",
        "outputId": "ef83192a-0f4a-49b4-8633-dac0f6bbcb32"
      },
      "execution_count": 33,
      "outputs": [
        {
          "output_type": "stream",
          "name": "stdout",
          "text": [
            "['Rush']\n"
          ]
        }
      ]
    },
    {
      "cell_type": "code",
      "source": [
        "close_match=movie_recomandation[0]\n",
        "print(close_match)"
      ],
      "metadata": {
        "colab": {
          "base_uri": "https://localhost:8080/"
        },
        "id": "6Dw2DzPl8JYv",
        "outputId": "7511d3d9-ebdb-427c-aa0f-8243df460311"
      },
      "execution_count": 34,
      "outputs": [
        {
          "output_type": "stream",
          "name": "stdout",
          "text": [
            "Rush\n"
          ]
        }
      ]
    },
    {
      "cell_type": "code",
      "source": [
        "Index_0f_Close_Match_Movie = df[df.Movie_Title==close_match]['Movie_ID'].values[0]\n",
        "print(Index_0f_Close_Match_Movie)"
      ],
      "metadata": {
        "colab": {
          "base_uri": "https://localhost:8080/"
        },
        "id": "G9qaajAq8Uoe",
        "outputId": "a76cc50d-da84-4a61-b2e8-e74c5a7faffb"
      },
      "execution_count": 35,
      "outputs": [
        {
          "output_type": "stream",
          "name": "stdout",
          "text": [
            "3956\n"
          ]
        }
      ]
    },
    {
      "cell_type": "code",
      "source": [
        "#getting a list of similar movies\n",
        "Recomandation_score = list(enumerate(Similarity_score[Index_0f_Close_Match_Movie]))\n",
        "print(Recomandation_score)"
      ],
      "metadata": {
        "colab": {
          "base_uri": "https://localhost:8080/"
        },
        "id": "bQvnzwXC86SJ",
        "outputId": "a3c75df7-632b-41c8-81f2-12ffd54e6ba6"
      },
      "execution_count": 37,
      "outputs": [
        {
          "output_type": "stream",
          "name": "stdout",
          "text": [
            "[(0, 0.005218720586602568), (1, 0.0), (2, 0.06238683905524446), (3, 0.018700511685009146), (4, 0.039105293182730975), (5, 0.028618935719880112), (6, 0.0), (7, 0.001870011214968109), (8, 0.002827072520142396), (9, 0.0), (10, 0.007738840621165324), (11, 0.038379738003708454), (12, 0.002779864697577408), (13, 0.0), (14, 0.047684648847140784), (15, 0.01962069802854819), (16, 0.0021697007036063348), (17, 0.0), (18, 0.009459487755248151), (19, 0.00251159267952188), (20, 0.002722813542177442), (21, 0.03796175546322483), (22, 0.0), (23, 0.0027127138078096463), (24, 0.00170019327261827), (25, 0.0021533305779052243), (26, 0.014434075210538862), (27, 0.021395452373690376), (28, 0.0), (29, 0.002478954232936367), (30, 0.0), (31, 0.0024481959231392285), (32, 0.002282814585002912), (33, 0.0377143394778983), (34, 0.042353326821643424), (35, 0.0), (36, 0.01955929010371753), (37, 0.0), (38, 0.008298955700002438), (39, 0.0), (40, 0.008146057321064312), (41, 0.002896588839991409), (42, 0.007427942008660293), (43, 0.009054899259224331), (44, 0.034852904578123886), (45, 0.04677194699949524), (46, 0.019893371485238096), (47, 0.00644572187174975), (48, 0.03911420336230413), (49, 0.0), (50, 0.05747648438774893), (51, 0.01037920222271729), (52, 0.027282668532535095), (53, 0.04937999706514839), (54, 0.0), (55, 0.0), (56, 0.0), (57, 0.0), (58, 0.010186669327730019), (59, 0.0), (60, 0.002226813104138751), (61, 0.032995936059221104), (62, 0.0028740311394370595), (63, 0.00207176757326572), (64, 0.0), (65, 0.0), (66, 0.002598081295046884), (67, 0.0), (68, 0.01816402347094241), (69, 0.0), (70, 0.02836203943790204), (71, 0.0026668495591454632), (72, 0.0070428156447505125), (73, 0.06049758690993033), (74, 0.022623689890970473), (75, 0.0), (76, 0.0), (77, 0.0), (78, 0.0), (79, 0.0025950420209419497), (80, 0.0), (81, 0.007195068570862824), (82, 0.0019754159637020647), (83, 0.007358875455695228), (84, 0.0182791863397636), (85, 0.05474050859467481), (86, 0.006245291941056877), (87, 0.009523212789203732), (88, 0.021387582764291802), (89, 0.008187931131630324), (90, 0.0), (91, 0.0), (92, 0.0022908812788003494), (93, 0.0), (94, 0.0), (95, 0.0), (96, 0.043687552233057175), (97, 0.002284449633546706), (98, 0.0025489935403967038), (99, 0.022426255651189296), (100, 0.0), (101, 0.0), (102, 0.0), (103, 0.0022547093172337984), (104, 0.0026195930146777203), (105, 0.0097838311845346), (106, 0.007593975180702303), (107, 0.03322941477858743), (108, 0.007018699432074912), (109, 0.05419006492369979), (110, 0.0), (111, 0.009164094508047166), (112, 0.009497432192482991), (113, 0.0021406524511647426), (114, 0.002605634942367615), (115, 0.02175121711239234), (116, 0.02664996153822144), (117, 0.0), (118, 0.0), (119, 0.0025539350363243223), (120, 0.0101741057374443), (121, 0.0023925230305364763), (122, 0.0238870133880882), (123, 0.018738212468555997), (124, 0.009007914437775218), (125, 0.0), (126, 0.06872183895258503), (127, 0.020712501069855404), (128, 0.0), (129, 0.03738848696407945), (130, 0.0), (131, 0.027046216589438375), (132, 0.02503387579295451), (133, 0.0), (134, 0.0), (135, 0.0), (136, 0.002403904770384803), (137, 0.007476521700265472), (138, 0.00697268778238072), (139, 0.00814768883398562), (140, 0.051252457655321985), (141, 0.0), (142, 0.03537833719705689), (143, 0.007617876365036929), (144, 0.07405980524746908), (145, 0.014805986074512898), (146, 0.056210683080885684), (147, 0.00853487579806023), (148, 0.006589915992331017), (149, 0.03359537648065959), (150, 0.0), (151, 0.0), (152, 0.0), (153, 0.0), (154, 0.013847119733368421), (155, 0.0), (156, 0.002114694383273965), (157, 0.0024792286332692777), (158, 0.002335047124375712), (159, 0.0020373628041533472), (160, 0.01711189305745915), (161, 0.0023398568448706894), (162, 0.03613035519978479), (163, 0.017373240379609887), (164, 0.02013646616038573), (165, 0.0022503305730168723), (166, 0.07660042074415156), (167, 0.020443707691175612), (168, 0.0), (169, 0.01449377591181885), (170, 0.0175872899152445), (171, 0.0), (172, 0.009896341708976304), (173, 0.06495424476952007), (174, 0.002571269502392722), (175, 0.012456669995438815), (176, 0.01515831141339215), (177, 0.0), (178, 0.0027384231239098327), (179, 0.011677504943106473), (180, 0.007760086715334871), (181, 0.014427125210057746), (182, 0.02144175830315185), (183, 0.002387396692720078), (184, 0.0022922991288998086), (185, 0.011485532212825512), (186, 0.0), (187, 0.0), (188, 0.02413910912165801), (189, 0.0193324932743811), (190, 0.008418462986746833), (191, 0.0), (192, 0.04319907972590741), (193, 0.00275229602791968), (194, 0.002088577664693566), (195, 0.0178799157824526), (196, 0.0021864991726909338), (197, 0.0024579292291044856), (198, 0.09339790037199142), (199, 0.008995113753960185), (200, 0.002300167605145808), (201, 0.04699618768945274), (202, 0.013885902664028072), (203, 0.002463097307159381), (204, 0.022223562510142125), (205, 0.033945832462548356), (206, 0.010464687072637103), (207, 0.008202433958718348), (208, 0.022466880379594944), (209, 0.009954425534867717), (210, 0.010632058082305733), (211, 0.002720952183548769), (212, 0.002436156907775838), (213, 0.039719119547299495), (214, 0.0), (215, 0.0025574112426147025), (216, 0.010227466463373244), (217, 0.027153495364485695), (218, 0.002376563905799861), (219, 0.0), (220, 0.0), (221, 0.0024750429419508734), (222, 0.0022911972876239507), (223, 0.0), (224, 0.007547747475308857), (225, 0.0), (226, 0.002602802220057822), (227, 0.0027820343015450095), (228, 0.001971512208577585), (229, 0.0024269078576766656), (230, 0.0), (231, 0.0), (232, 0.0), (233, 0.0), (234, 0.0), (235, 0.0029382020381194278), (236, 0.009266406785174425), (237, 0.04827300521562282), (238, 0.002655038429755354), (239, 0.0), (240, 0.01728004034043564), (241, 0.0), (242, 0.002253825145571593), (243, 0.019879537132427644), (244, 0.08915843648482479), (245, 0.0), (246, 0.002768392739446929), (247, 0.05409875502785019), (248, 0.017270882843841377), (249, 0.0022829573555505278), (250, 0.0), (251, 0.008455362707670958), (252, 0.002305836200531648), (253, 0.0028460901927200204), (254, 0.024263856963645775), (255, 0.002725939460195283), (256, 0.12591503772020757), (257, 0.0), (258, 0.0), (259, 0.0), (260, 0.0), (261, 0.0), (262, 0.0027346981894847194), (263, 0.0), (264, 0.0), (265, 0.020645303740338464), (266, 0.002002954699082878), (267, 0.0022060274355034637), (268, 0.0023217620873416294), (269, 0.002233686542283484), (270, 0.05138296479966849), (271, 0.011305644052201098), (272, 0.0), (273, 0.0), (274, 0.011327080827045838), (275, 0.0), (276, 0.00930165536838767), (277, 0.018104978521791198), (278, 0.002242005798071716), (279, 0.031999751337581255), (280, 0.009839267625922613), (281, 0.011136650066306548), (282, 0.009718629338249369), (283, 0.0019049976554864642), (284, 0.0), (285, 0.008934559887669504), (286, 0.01265898738602329), (287, 0.009256569749938503), (288, 0.0), (289, 0.0), (290, 0.0), (291, 0.02363620310912855), (292, 0.014312637473392016), (293, 0.01504673118475191), (294, 0.014864649051126968), (295, 0.0), (296, 0.0019510121697334842), (297, 0.0), (298, 0.0), (299, 0.0), (300, 0.0), (301, 0.0), (302, 0.0), (303, 0.0), (304, 0.04111867749537754), (305, 0.0), (306, 0.0), (307, 0.07029862206064037), (308, 0.002910936165938294), (309, 0.011733348796644288), (310, 0.0), (311, 0.006816094346485291), (312, 0.012232922796074979), (313, 0.0), (314, 0.0), (315, 0.0), (316, 0.0), (317, 0.012917210319616004), (318, 0.0028448169258643466), (319, 0.0), (320, 0.0), (321, 0.0), (322, 0.025241731724705414), (323, 0.0), (324, 0.013596693285155184), (325, 0.0024598989421129357), (326, 0.003187963262020437), (327, 0.0), (328, 0.0), (329, 0.0025252665020577764), (330, 0.0017986775851914984), (331, 0.0), (332, 0.0), (333, 0.006459320727900227), (334, 0.017466258990165316), (335, 0.01725914561237655), (336, 0.0), (337, 0.0), (338, 0.0), (339, 0.0), (340, 0.0), (341, 0.0), (342, 0.010746607170830138), (343, 0.002622900046643451), (344, 0.0), (345, 0.007038162776714958), (346, 0.026730464771920107), (347, 0.0), (348, 0.0025769072946914837), (349, 0.002524735104547003), (350, 0.0028339562375755225), (351, 0.011254880744968613), (352, 0.0), (353, 0.002643836570578889), (354, 0.0), (355, 0.020316624355745407), (356, 0.021016416400622902), (357, 0.0022463637715513275), (358, 0.0025317557820656545), (359, 0.002388934045222237), (360, 0.006890626217981085), (361, 0.0), (362, 0.0), (363, 0.0), (364, 0.0022395113205897535), (365, 0.0), (366, 0.0), (367, 0.027460750437789033), (368, 0.008716746945133741), (369, 0.014855538901909989), (370, 0.009849081262104192), (371, 0.002864489663014214), (372, 0.0024254788122409134), (373, 0.002467070096571566), (374, 0.0025683451013354007), (375, 0.05296804768741828), (376, 0.0), (377, 0.02191757440908472), (378, 0.0026143079030817493), (379, 0.0), (380, 0.0), (381, 0.0), (382, 0.0), (383, 0.0), (384, 0.0), (385, 0.008038972929896379), (386, 0.0), (387, 0.0024550858472649896), (388, 0.020081308136458996), (389, 0.0), (390, 0.0), (391, 0.0), (392, 0.0), (393, 0.0), (394, 0.0), (395, 0.035857336780719076), (396, 0.00947998809149586), (397, 0.03413895812658093), (398, 0.0), (399, 0.0024120994574122322), (400, 0.0025792583188302305), (401, 0.021692715271508543), (402, 0.003173408211124481), (403, 0.002206413189575218), (404, 0.0), (405, 0.0), (406, 0.0026559155156393303), (407, 0.0020886876887022737), (408, 0.026977602131242673), (409, 0.0), (410, 0.002421826913641959), (411, 0.0), (412, 0.047882914850591596), (413, 0.0), (414, 0.0), (415, 0.0), (416, 0.0023854649894796713), (417, 0.006745365813808859), (418, 0.047175644337186726), (419, 0.0029318423136970406), (420, 0.0), (421, 0.0), (422, 0.042139554639294786), (423, 0.03181816913217413), (424, 0.0), (425, 0.0), (426, 0.0), (427, 0.017906956172839675), (428, 0.0023502220138695577), (429, 0.010338849479621336), (430, 0.0028018516421131753), (431, 0.003069969471183358), (432, 0.002214552527128901), (433, 0.0021293682877571154), (434, 0.00933284458462979), (435, 0.00588847371062523), (436, 0.002912488257681652), (437, 0.002470040336443481), (438, 0.01526203330682318), (439, 0.0), (440, 0.0), (441, 0.012190549065115203), (442, 0.031119212437785863), (443, 0.024604093482831695), (444, 0.002900486651793419), (445, 0.0365332764886681), (446, 0.0025394016232546204), (447, 0.029628908563506032), (448, 0.0030046880367405305), (449, 0.002354326637762087), (450, 0.010824816569321638), (451, 0.08698573837547198), (452, 0.0019606172898053525), (453, 0.001990550468300836), (454, 0.011275252703197371), (455, 0.0018472069195721087), (456, 0.0027580110778596617), (457, 0.013539552847119453), (458, 0.011007491797028524), (459, 0.0), (460, 0.021303971187106033), (461, 0.02298652786541871), (462, 0.0), (463, 0.009142652842758888), (464, 0.002573095310517928), (465, 0.013467903988138338), (466, 0.0025736023195669236), (467, 0.0), (468, 0.0), (469, 0.0), (470, 0.022435380234639715), (471, 0.0024309747847696974), (472, 0.0026799600692440162), (473, 0.013346272604866217), (474, 0.007630440433190213), (475, 0.0009100374393659767), (476, 0.002857504937280145), (477, 0.0), (478, 0.002946110815646672), (479, 0.009853412294639511), (480, 0.0022842666721985226), (481, 0.031030977711513627), (482, 0.002717101461810801), (483, 0.010415865297327437), (484, 0.12110060933337319), (485, 0.0105718994424949), (486, 0.0), (487, 0.0024919480014911105), (488, 0.05292247436874732), (489, 0.017647108263742477), (490, 0.05301911068244197), (491, 0.0), (492, 0.0), (493, 0.0027638804822453377), (494, 0.007295237075295815), (495, 0.0023023956757655542), (496, 0.02847421006000067), (497, 0.006462289176672951), (498, 0.0), (499, 0.0028329327443551208), (500, 0.04348749863743669), (501, 0.023186336911497078), (502, 0.0636551059360135), (503, 0.007064127436024583), (504, 0.0026188909957618745), (505, 0.0024729508256069047), (506, 0.0), (507, 0.002444293548322782), (508, 0.04315357857101426), (509, 0.0026695911277126883), (510, 0.0020808054079972807), (511, 0.0), (512, 0.0), (513, 0.0), (514, 0.0), (515, 0.04501302658966403), (516, 0.0202530628260799), (517, 0.04080518798846021), (518, 0.0030517603053924797), (519, 0.0022984516623464385), (520, 0.0), (521, 0.0), (522, 0.0025268865598973567), (523, 0.0), (524, 0.04778601947752686), (525, 0.0), (526, 0.003273429444964847), (527, 0.002060829549173785), (528, 0.0), (529, 0.0), (530, 0.007148456126924185), (531, 0.0), (532, 0.006743277640269371), (533, 0.03294952447563806), (534, 0.009743358873719968), (535, 0.0), (536, 0.0), (537, 0.0), (538, 0.0), (539, 0.04337761164060101), (540, 0.03420996533265607), (541, 0.07474831966933149), (542, 0.0069178364883610306), (543, 0.029718578189905934), (544, 0.010010974560682302), (545, 0.0), (546, 0.0), (547, 0.008317325219846954), (548, 0.04886691789906379), (549, 0.011271761434077399), (550, 0.021461324162521257), (551, 0.002703493542147529), (552, 0.0), (553, 0.0), (554, 0.0), (555, 0.0), (556, 0.03376251760510011), (557, 0.0), (558, 0.009096749712279863), (559, 0.0), (560, 0.007283863799608085), (561, 0.0), (562, 0.017600670088374182), (563, 0.025461676404427015), (564, 0.002727197084243173), (565, 0.06501435304579624), (566, 0.008276401122704271), (567, 0.020085209427213754), (568, 0.0), (569, 0.019611307927325846), (570, 0.043786494601750034), (571, 0.0020070761457853417), (572, 0.0), (573, 0.0), (574, 0.0), (575, 0.01566157049933994), (576, 0.0029345021961516508), (577, 0.05840166117403106), (578, 0.0024568487720607575), (579, 0.0026388228470005408), (580, 0.0027201962056560025), (581, 0.002345863164722533), (582, 0.0), (583, 0.0), (584, 0.010207595945807663), (585, 0.011687063687013886), (586, 0.0), (587, 0.0028629071967131102), (588, 0.0027050122615258237), (589, 0.0024125327092358925), (590, 0.0023992370393755577), (591, 0.0), (592, 0.0), (593, 0.0026551394136086833), (594, 0.03545745136425712), (595, 0.0), (596, 0.002916712871711684), (597, 0.0023400367435532587), (598, 0.0024254217455939005), (599, 0.0), (600, 0.01278352500185243), (601, 0.0), (602, 0.0), (603, 0.0), (604, 0.009072807826927818), (605, 0.018717733843676462), (606, 0.021966105287807132), (607, 0.011367376108027554), (608, 0.002359690674143108), (609, 0.002065437229532044), (610, 0.0), (611, 0.01394179966777975), (612, 0.0027638426239115746), (613, 0.025559420470068997), (614, 0.002986745182740838), (615, 0.019224765583874266), (616, 0.0021693269234619676), (617, 0.0021978219236142567), (618, 0.0), (619, 0.0), (620, 0.03472606625893658), (621, 0.006144200191249661), (622, 0.010482465946276852), (623, 0.0027647614500739925), (624, 0.0023810414604998704), (625, 0.0), (626, 0.002206059476114692), (627, 0.003524893493705846), (628, 0.014873317462113032), (629, 0.02229655432291649), (630, 0.0), (631, 0.002676539143348861), (632, 0.0065632276585945604), (633, 0.0), (634, 0.0), (635, 0.0), (636, 0.0026289835518768837), (637, 0.002695685408979088), (638, 0.03681218154477309), (639, 0.0), (640, 0.0), (641, 0.010563893907417654), (642, 0.002248514632253852), (643, 0.12324504360847417), (644, 0.00247288973028519), (645, 0.0021261086159382776), (646, 0.014186316900131012), (647, 0.018664192597828526), (648, 0.0), (649, 0.0), (650, 0.0), (651, 0.023177220044388425), (652, 0.010090443062892576), (653, 0.008583130143540644), (654, 0.007653810703999566), (655, 0.03729813801912441), (656, 0.0), (657, 0.0023116588587309343), (658, 0.0), (659, 0.019814813949336818), (660, 0.002719207788747171), (661, 0.0), (662, 0.011779126690740693), (663, 0.0), (664, 0.00650950173370662), (665, 0.0), (666, 0.05070918778266456), (667, 0.007634838039798241), (668, 0.005745169625411135), (669, 0.009076966722090232), (670, 0.003208098133939164), (671, 0.05259884092482577), (672, 0.002321239696947537), (673, 0.010765362802708563), (674, 0.0), (675, 0.08187005266875556), (676, 0.03441512064937116), (677, 0.12508530384699504), (678, 0.007916690358688179), (679, 0.0), (680, 0.00276841516690733), (681, 0.0), (682, 0.030019573102031447), (683, 0.04007537720578035), (684, 0.007238844985246333), (685, 0.0), (686, 0.0), (687, 0.0), (688, 0.023564636921897426), (689, 0.014671108522071001), (690, 0.0), (691, 0.06385916955134359), (692, 0.006276424738293899), (693, 0.014358031893986926), (694, 0.0375595066346713), (695, 0.05468638489917875), (696, 0.0026202249866646727), (697, 0.021361058269823926), (698, 0.0024629141467948142), (699, 0.027651925275574567), (700, 0.0), (701, 0.011012137148285278), (702, 0.0), (703, 0.03719122115384533), (704, 0.0), (705, 0.10044240357928988), (706, 0.016808227078994126), (707, 0.0021895211135866564), (708, 0.09107818438560708), (709, 0.05174156959256878), (710, 0.0), (711, 0.0), (712, 0.03274450701107076), (713, 0.0), (714, 0.0), (715, 0.002872564935153082), (716, 0.002729768576458459), (717, 0.002714660286220348), (718, 0.025323949965995244), (719, 0.017089578712913923), (720, 0.0), (721, 0.0029826677249167625), (722, 0.0023390444521140504), (723, 0.021700044446525457), (724, 0.012065085988770667), (725, 0.0), (726, 0.015610155055904537), (727, 0.028785317452071982), (728, 0.002807677893750666), (729, 0.031487165821285044), (730, 0.0250186998664261), (731, 0.0024901110306887564), (732, 0.0023238397567486246), (733, 0.04084132589506867), (734, 0.0024379345648813592), (735, 0.003554617938598565), (736, 0.0), (737, 0.0029360864865001653), (738, 0.0), (739, 0.02427342923111863), (740, 0.015563498091053361), (741, 0.0), (742, 0.03141565319869376), (743, 0.0026749840089296093), (744, 0.002407364283341937), (745, 0.0067142004673783), (746, 0.01823076516754806), (747, 0.0), (748, 0.0), (749, 0.0026047239596161714), (750, 0.05454745454463501), (751, 0.08399680019759176), (752, 0.07395313238342227), (753, 0.008418015553914651), (754, 0.0), (755, 0.014336424468046914), (756, 0.01639349237845239), (757, 0.029203985120553316), (758, 0.0), (759, 0.002370099215948821), (760, 0.008330710206759354), (761, 0.0026035456973310636), (762, 0.0), (763, 0.0), (764, 0.0), (765, 0.0), (766, 0.0024086374803933986), (767, 0.0024693662860304564), (768, 0.0), (769, 0.05140805926402337), (770, 0.0), (771, 0.0), (772, 0.0), (773, 0.03611991479148551), (774, 0.0026972542995974875), (775, 0.0), (776, 0.0), (777, 0.003128706379018548), (778, 0.0), (779, 0.0), (780, 0.0), (781, 0.0), (782, 0.002497943937007782), (783, 0.0027422133633162133), (784, 0.0), (785, 0.0), (786, 0.017250954411929177), (787, 0.013011545482704247), (788, 0.028316091632092682), (789, 0.0), (790, 0.007038468730517195), (791, 0.022852062641640466), (792, 0.010493737895747616), (793, 0.0), (794, 0.002813229676994504), (795, 0.01716624196511975), (796, 0.018292361914359116), (797, 0.0), (798, 0.0024841961125403665), (799, 0.00961693016997172), (800, 0.0023398044652458653), (801, 0.006652055927665706), (802, 0.0), (803, 0.0), (804, 0.00234133847845634), (805, 0.038717319485298565), (806, 0.07877287126556096), (807, 0.014822641364179033), (808, 0.0022948985737286354), (809, 0.0), (810, 0.0748358988498802), (811, 0.0), (812, 0.0), (813, 0.0029237179466193807), (814, 0.0), (815, 0.019684258003870744), (816, 0.038419029561634864), (817, 0.020478806583368772), (818, 0.0024592212923527663), (819, 0.0), (820, 0.0), (821, 0.0), (822, 0.0), (823, 0.07040186226462321), (824, 0.029717886498277227), (825, 0.00704307613049367), (826, 0.0027762463939016275), (827, 0.0068891643550236595), (828, 0.0093190045983808), (829, 0.040717704327237494), (830, 0.05858461825935342), (831, 0.010414298579006727), (832, 0.002646849286865392), (833, 0.006796236599552293), (834, 0.0), (835, 0.0), (836, 0.044906632318510484), (837, 0.0), (838, 0.0024205730003272192), (839, 0.0), (840, 0.0), (841, 0.0), (842, 0.008879490289339098), (843, 0.012131605772986614), (844, 0.005611649437412777), (845, 0.05021761644949693), (846, 0.012439902318899139), (847, 0.01691662087593577), (848, 0.00262529169527835), (849, 0.012140847150624957), (850, 0.029827029053092122), (851, 0.05326657978743456), (852, 0.014111422268557008), (853, 0.007627438422999155), (854, 0.0024843335367714043), (855, 0.023517816177337055), (856, 0.05475711316185764), (857, 0.0028746203300626877), (858, 0.0017576469829978338), (859, 0.0), (860, 0.011430046010534035), (861, 0.002241645865166812), (862, 0.006326422125013648), (863, 0.0023795039037996873), (864, 0.009968320180303943), (865, 0.00267292002009986), (866, 0.00917098013969949), (867, 0.002565530915260684), (868, 0.0024169319249956298), (869, 0.007445587651328271), (870, 0.009646239129377624), (871, 0.02185672227609104), (872, 0.01579288576946907), (873, 0.04291122030658354), (874, 0.008507389274304182), (875, 0.02846035532143347), (876, 0.011260114152362263), (877, 0.0), (878, 0.03352893964242413), (879, 0.010292061266946408), (880, 0.0025657783120052475), (881, 0.0), (882, 0.0), (883, 0.02293233937028067), (884, 0.002708343639501534), (885, 0.0023349119999365167), (886, 0.019942758805328097), (887, 0.002830502137695743), (888, 0.010933463700407365), (889, 0.0033501803827971906), (890, 0.0027149244543696383), (891, 0.0), (892, 0.05088887323208795), (893, 0.018572685963519426), (894, 0.009772389496826898), (895, 0.0024252565943533064), (896, 0.010776858532140166), (897, 0.0026229565686662288), (898, 0.0), (899, 0.022129657154802442), (900, 0.05991293542417504), (901, 0.06391711344863431), (902, 0.0), (903, 0.0024401181166196057), (904, 0.008548353766441417), (905, 0.008400458382187495), (906, 0.0), (907, 0.0023938941407827177), (908, 0.007418686468998193), (909, 0.0), (910, 0.002382925079561606), (911, 0.0024661903267356785), (912, 0.0), (913, 0.0), (914, 0.0), (915, 0.006987805064419475), (916, 0.006728857491894388), (917, 0.002330068325383272), (918, 0.007515140288390423), (919, 0.0), (920, 0.0), (921, 0.0024227177942953595), (922, 0.002920576690608839), (923, 0.051562312305541556), (924, 0.018529024457560873), (925, 0.0029931966399533295), (926, 0.0), (927, 0.01831228918800205), (928, 0.039666129034211295), (929, 0.015344966453603616), (930, 0.07896958385530926), (931, 0.007256888360016626), (932, 0.04658352030888317), (933, 0.002658545282579196), (934, 0.0023724650894820566), (935, 0.013721242369156061), (936, 0.0023422414250969794), (937, 0.01152560391632512), (938, 0.0), (939, 0.009304856049500324), (940, 0.08595671380814329), (941, 0.002438117208200694), (942, 0.008019964285246303), (943, 0.0), (944, 0.0024253113224288235), (945, 0.0), (946, 0.02049646099253848), (947, 0.013307281619403453), (948, 0.009143620342467244), (949, 0.003096355264923947), (950, 0.0), (951, 0.033717805289053646), (952, 0.0028139846020179327), (953, 0.0020959485980701588), (954, 0.0), (955, 0.0), (956, 0.0), (957, 0.0023769930967131774), (958, 0.03588966049413886), (959, 0.03879495704540214), (960, 0.0), (961, 0.0), (962, 0.002468357478112908), (963, 0.002433319165530203), (964, 0.0), (965, 0.0), (966, 0.0024578424197182285), (967, 0.023485625244926204), (968, 0.002358076047011368), (969, 0.02171209501341849), (970, 0.0), (971, 0.012504922773854461), (972, 0.0), (973, 0.060175128983641704), (974, 0.049734909037013), (975, 0.019913978636309407), (976, 0.02733112827441727), (977, 0.0), (978, 0.06780231931108215), (979, 0.061551463132291595), (980, 0.0026904323582002095), (981, 0.002343564221155125), (982, 0.020536644003802215), (983, 0.0), (984, 0.002476140174175711), (985, 0.002977821088133012), (986, 0.009857530569032104), (987, 0.002700033536961172), (988, 0.061558314635528515), (989, 0.009703029483599185), (990, 0.0), (991, 0.0027943001008909458), (992, 0.0), (993, 0.002622304302393716), (994, 0.010025283208700999), (995, 0.0), (996, 0.0), (997, 0.0), (998, 0.016723363730554455), (999, 0.002948609597476526), (1000, 0.008873026701351804), (1001, 0.03532344682547766), (1002, 0.0024802786720266885), (1003, 0.0), (1004, 0.013222505363228177), (1005, 0.00754033349423093), (1006, 0.015412094311516217), (1007, 0.002740479001802815), (1008, 0.0), (1009, 0.013086904061605755), (1010, 0.0174206028862751), (1011, 0.0), (1012, 0.03175759777134307), (1013, 0.0), (1014, 0.0), (1015, 0.010663856178239282), (1016, 0.0), (1017, 0.03450399282135171), (1018, 0.024996958179222713), (1019, 0.004940457048733651), (1020, 0.0024974420365610982), (1021, 0.04614936878988695), (1022, 0.0), (1023, 0.002926129596813251), (1024, 0.02780042270747654), (1025, 0.0), (1026, 0.03919318269051414), (1027, 0.002489224874876376), (1028, 0.0), (1029, 0.018386653445260172), (1030, 0.020591234059800664), (1031, 0.0), (1032, 0.07604047781942533), (1033, 0.0024951948598459857), (1034, 0.0024929302298859835), (1035, 0.07546456153434314), (1036, 0.002455165326581155), (1037, 0.002117575007102549), (1038, 0.04759297228219603), (1039, 0.0), (1040, 0.011521960797970477), (1041, 0.05135892426911478), (1042, 0.002174116622800165), (1043, 0.002844715154759461), (1044, 0.0025217354720503135), (1045, 0.0), (1046, 0.0), (1047, 0.060638666589620145), (1048, 0.002705110197373686), (1049, 0.017492507879113595), (1050, 0.00840429010430525), (1051, 0.0), (1052, 0.03697661091461052), (1053, 0.043002258288209264), (1054, 0.006857164440815354), (1055, 0.0), (1056, 0.0), (1057, 0.0), (1058, 0.008900860594070107), (1059, 0.021056751312842497), (1060, 0.002511607316654796), (1061, 0.006537656426671685), (1062, 0.01015817906901417), (1063, 0.007016453921580188), (1064, 0.011951856986210558), (1065, 0.0023792755891465897), (1066, 0.0), (1067, 0.04098002402731223), (1068, 0.04124592614104144), (1069, 0.0), (1070, 0.0), (1071, 0.002777971622099246), (1072, 0.07825770641934496), (1073, 0.011550125936159032), (1074, 0.13509006703204612), (1075, 0.002742245073734973), (1076, 0.018710846337080412), (1077, 0.01507085761483759), (1078, 0.008215453097852595), (1079, 0.002393848325618965), (1080, 0.07304016215964593), (1081, 0.0), (1082, 0.0), (1083, 0.0027084787185412155), (1084, 0.014455056120321306), (1085, 0.01903218029565986), (1086, 0.0), (1087, 0.0376797062606356), (1088, 0.018090092004997383), (1089, 0.0), (1090, 0.0), (1091, 0.0), (1092, 0.006052818982136064), (1093, 0.0), (1094, 0.019014846504992106), (1095, 0.0), (1096, 0.0025325166352841697), (1097, 0.0), (1098, 0.00212272336849498), (1099, 0.0), (1100, 0.0025600767631543467), (1101, 0.05692750942836092), (1102, 0.002583583429174016), (1103, 0.05332602753049701), (1104, 0.020430734802505665), (1105, 0.0), (1106, 0.0), (1107, 0.09230014821778386), (1108, 0.0), (1109, 0.07519282179192602), (1110, 0.10269831925078313), (1111, 0.027279674607488535), (1112, 0.014693034728243988), (1113, 0.0), (1114, 0.0023976733749304945), (1115, 0.03226727063717394), (1116, 0.007693214765487463), (1117, 0.0281458430887346), (1118, 0.0), (1119, 0.01053259474215404), (1120, 0.0), (1121, 0.0032613497302039583), (1122, 0.002650250176595219), (1123, 0.0024740177452163125), (1124, 0.002698818056923076), (1125, 0.006978312543260776), (1126, 0.0), (1127, 0.0), (1128, 0.007115687143715141), (1129, 0.0), (1130, 0.03658719045374841), (1131, 0.0026118465479200927), (1132, 0.027822713761016665), (1133, 0.018628829725660608), (1134, 0.0), (1135, 0.0), (1136, 0.0022821499445200852), (1137, 0.005962252181082125), (1138, 0.024284370661574878), (1139, 0.0), (1140, 0.022776594497597898), (1141, 0.010542515646142822), (1142, 0.0), (1143, 0.058438051337540806), (1144, 0.002075412426697029), (1145, 0.03046758546197378), (1146, 0.0), (1147, 0.0), (1148, 0.011138306489999557), (1149, 0.0), (1150, 0.0), (1151, 0.0), (1152, 0.0), (1153, 0.07498398602346928), (1154, 0.0), (1155, 0.0), (1156, 0.04597703404530506), (1157, 0.0), (1158, 0.0), (1159, 0.0), (1160, 0.009363575430100897), (1161, 0.002349850158214701), (1162, 0.0281700737742914), (1163, 0.0025985710193360445), (1164, 0.0), (1165, 0.0), (1166, 0.0), (1167, 0.02045298988387774), (1168, 0.0031259490603218537), (1169, 0.0030466367103793787), (1170, 0.0026060838577807353), (1171, 0.0), (1172, 0.0), (1173, 0.042835869334352066), (1174, 0.00266121060877157), (1175, 0.040308560417202), (1176, 0.06825178697640001), (1177, 0.020038411920611045), (1178, 0.0), (1179, 0.002602798084475548), (1180, 0.0), (1181, 0.0), (1182, 0.09369344178074332), (1183, 0.009156742415757776), (1184, 0.011254354595794299), (1185, 0.0076507596794725755), (1186, 0.01934641020646964), (1187, 0.003058463216260873), (1188, 0.002732280749678531), (1189, 0.0), (1190, 0.0), (1191, 0.0026134255761376484), (1192, 0.0027273979468046545), (1193, 0.0), (1194, 0.006344738415317799), (1195, 0.019237574725153708), (1196, 0.0), (1197, 0.0), (1198, 0.0), (1199, 0.0022963635376379845), (1200, 0.0), (1201, 0.0), (1202, 0.045819138933590534), (1203, 0.002444146783005985), (1204, 0.054323833192350915), (1205, 0.0), (1206, 0.0024334698014348934), (1207, 0.0), (1208, 0.003318793209507976), (1209, 0.0021692779136677958), (1210, 0.014977167704943414), (1211, 0.0), (1212, 0.0), (1213, 0.00637913383424911), (1214, 0.006089240268134852), (1215, 0.002228208874250479), (1216, 0.0023605421776441257), (1217, 0.0022599657470092995), (1218, 0.0), (1219, 0.0023353051944497694), (1220, 0.0023495225347722162), (1221, 0.0), (1222, 0.0), (1223, 0.002613227717825737), (1224, 0.037055940610087844), (1225, 0.002746183877294239), (1226, 0.0849297363525339), (1227, 0.0), (1228, 0.0), (1229, 0.002717684687842654), (1230, 0.006970237005914939), (1231, 0.018600403660382757), (1232, 0.03577249552421309), (1233, 0.0), (1234, 0.010446430697517052), (1235, 0.0), (1236, 0.006604188714243121), (1237, 0.032224213236103263), (1238, 0.0), (1239, 0.07448265175667687), (1240, 0.0), (1241, 0.002139998529139511), (1242, 0.0), (1243, 0.046547288832631636), (1244, 0.0), (1245, 0.002523334660956996), (1246, 0.02099021064918118), (1247, 0.0025142960216846992), (1248, 0.06402014515671894), (1249, 0.01618529996342488), (1250, 0.0), (1251, 0.0023035231153523007), (1252, 0.009773938139122001), (1253, 0.018408440196145206), (1254, 0.002667937798157458), (1255, 0.07592042436620657), (1256, 0.0), (1257, 0.002565175675942169), (1258, 0.0), (1259, 0.006637390353393158), (1260, 0.008100599006993624), (1261, 0.041318483634198724), (1262, 0.0), (1263, 0.0), (1264, 0.011883205471223833), (1265, 0.0), (1266, 0.0), (1267, 0.0), (1268, 0.0), (1269, 0.0), (1270, 0.0), (1271, 0.05344527500728199), (1272, 0.036789026726838016), (1273, 0.0024774736369676297), (1274, 0.0), (1275, 0.011382830433275306), (1276, 0.005416506269911088), (1277, 0.0019466555358296752), (1278, 0.0), (1279, 0.0), (1280, 0.0), (1281, 0.07065441240480899), (1282, 0.029783190703326003), (1283, 0.0), (1284, 0.05326170179870682), (1285, 0.0), (1286, 0.0025520060985798117), (1287, 0.0), (1288, 0.0), (1289, 0.0), (1290, 0.015173295323232708), (1291, 0.0), (1292, 0.01908803404514056), (1293, 0.0), (1294, 0.0026723255294935403), (1295, 0.07856051894177943), (1296, 0.0), (1297, 0.0), (1298, 0.0025887373267369424), (1299, 0.06845193712084809), (1300, 0.006140472493048262), (1301, 0.0022742477327232628), (1302, 0.0), (1303, 0.007953786103678785), (1304, 0.002604024061414598), (1305, 0.002152062280624128), (1306, 0.001897664513396442), (1307, 0.018284769629894043), (1308, 0.002388295889147218), (1309, 0.0), (1310, 0.0), (1311, 0.0), (1312, 0.0021967999572194957), (1313, 0.002565170550604675), (1314, 0.046563606029598754), (1315, 0.0), (1316, 0.0), (1317, 0.007992929451530698), (1318, 0.002321603447136899), (1319, 0.09288712085684328), (1320, 0.005700605008558434), (1321, 0.0), (1322, 0.0), (1323, 0.0), (1324, 0.02269110005898991), (1325, 0.010692555862534916), (1326, 0.0), (1327, 0.0), (1328, 0.0), (1329, 0.03759655979200385), (1330, 0.007128653332945266), (1331, 0.0), (1332, 0.0), (1333, 0.0), (1334, 0.010127014038600484), (1335, 0.009963288822261072), (1336, 0.0), (1337, 0.010067354552189867), (1338, 0.009702739392093453), (1339, 0.03032935954332317), (1340, 0.06132484406115893), (1341, 0.03947691700784451), (1342, 0.015589540241413263), (1343, 0.008632690218649408), (1344, 0.020968251584567176), (1345, 0.0), (1346, 0.0), (1347, 0.018032352996524982), (1348, 0.006325469238866965), (1349, 0.0029330949811903176), (1350, 0.002535704158212711), (1351, 0.001919757084141214), (1352, 0.012530925244914006), (1353, 0.05386771676275331), (1354, 0.0), (1355, 0.002665767825684264), (1356, 0.002203283056649547), (1357, 0.002398933893496372), (1358, 0.0), (1359, 0.002797227624098842), (1360, 0.008978386327969733), (1361, 0.04070538439050386), (1362, 0.041620030026025816), (1363, 0.0), (1364, 0.015317868034810368), (1365, 0.012457233770981947), (1366, 0.0023481637534633203), (1367, 0.03335447423356937), (1368, 0.0), (1369, 0.008074259232280067), (1370, 0.002244564914008243), (1371, 0.008066721069459671), (1372, 0.0024419215417291118), (1373, 0.011769797556941998), (1374, 0.0), (1375, 0.0024741602739069765), (1376, 0.017622616436478694), (1377, 0.05134782470874484), (1378, 0.0026009482286093446), (1379, 0.018551546566763385), (1380, 0.0), (1381, 0.0), (1382, 0.002686940205524625), (1383, 0.027099353865942356), (1384, 0.0), (1385, 0.009877467877290165), (1386, 0.0), (1387, 0.032046145108002556), (1388, 0.007293522235379819), (1389, 0.01954299401974123), (1390, 0.0), (1391, 0.0), (1392, 0.018913040940474954), (1393, 0.007625068637611963), (1394, 0.05434996934433698), (1395, 0.02983648129278447), (1396, 0.0), (1397, 0.0022511203085719537), (1398, 0.003013461334240687), (1399, 0.0), (1400, 0.0027440180181109897), (1401, 0.0), (1402, 0.02230618669153386), (1403, 0.0020000443105066194), (1404, 0.0024606783419331914), (1405, 0.05649411106559488), (1406, 0.018970881492968508), (1407, 0.019839594284678498), (1408, 0.0025352932551850694), (1409, 0.058534585454013556), (1410, 0.0026309789600791767), (1411, 0.002572358167513843), (1412, 0.006911998652509673), (1413, 0.002641892560808652), (1414, 0.002322338815421353), (1415, 0.002132790124968315), (1416, 0.0024876130941994066), (1417, 0.007700615851431165), (1418, 0.0), (1419, 0.007270554941464234), (1420, 0.0), (1421, 0.014221450909976691), (1422, 0.0025345765448491005), (1423, 0.0023102807651416706), (1424, 0.0), (1425, 0.03261216084636791), (1426, 0.0), (1427, 0.0021339104874973725), (1428, 0.017697034480428274), (1429, 0.0031294553841932026), (1430, 0.017359167621358973), (1431, 0.0), (1432, 0.05291509629250505), (1433, 0.05090292269337965), (1434, 0.002376677943314291), (1435, 0.0), (1436, 0.030329938133031246), (1437, 0.0), (1438, 0.009769771652450077), (1439, 0.002725610768875621), (1440, 0.010017354598655088), (1441, 0.0), (1442, 0.00515432586588866), (1443, 0.0264468198738877), (1444, 0.0), (1445, 0.0), (1446, 0.002494604272718862), (1447, 0.011982935401644206), (1448, 0.019655603279168807), (1449, 0.0), (1450, 0.0022432975408927477), (1451, 0.0), (1452, 0.0), (1453, 0.032681231515221155), (1454, 0.09765166433531058), (1455, 0.03927197293721933), (1456, 0.002416222191693714), (1457, 0.0), (1458, 0.0), (1459, 0.0), (1460, 0.0), (1461, 0.026109625445827355), (1462, 0.0023876715913195906), (1463, 0.02050970872318159), (1464, 0.012084005001594175), (1465, 0.002256886325118523), (1466, 0.0), (1467, 0.0), (1468, 0.03651355917504046), (1469, 0.038653827582076555), (1470, 0.0), (1471, 0.007315543127161385), (1472, 0.0026334238893256597), (1473, 0.0), (1474, 0.0029030735060494397), (1475, 0.0027137463521523346), (1476, 0.0026373501551945878), (1477, 0.002401047395216901), (1478, 0.028052799058729365), (1479, 0.043806908286132734), (1480, 0.053849201017563034), (1481, 0.009548026884942664), (1482, 0.01061912289703499), (1483, 0.00978854426289437), (1484, 0.06489025784119141), (1485, 0.01684335614010614), (1486, 0.0), (1487, 0.0), (1488, 0.0026097040959764785), (1489, 0.002925077337069878), (1490, 0.0), (1491, 0.0), (1492, 0.0444937594316706), (1493, 0.017998580213242063), (1494, 0.0026817505926371673), (1495, 0.0), (1496, 0.0), (1497, 0.06154337638999347), (1498, 0.0028940622303357567), (1499, 0.0029140424601629368), (1500, 0.037081981992207316), (1501, 0.0), (1502, 0.0), (1503, 0.0023602000336321732), (1504, 0.044172696635546335), (1505, 0.05810247870807988), (1506, 0.011728767388003387), (1507, 0.008315976841392955), (1508, 0.0), (1509, 0.006739305974645345), (1510, 0.0026279838933346115), (1511, 0.0), (1512, 0.0), (1513, 0.010276461204973213), (1514, 0.0024091398432394447), (1515, 0.0), (1516, 0.0026808948157733443), (1517, 0.0), (1518, 0.002803605947070135), (1519, 0.034272846226417866), (1520, 0.0), (1521, 0.0), (1522, 0.0), (1523, 0.04451993545153715), (1524, 0.0), (1525, 0.0), (1526, 0.0), (1527, 0.02867020956785118), (1528, 0.0023644027813086257), (1529, 0.011091958751956116), (1530, 0.0), (1531, 0.0), (1532, 0.04697418593942623), (1533, 0.04051555674239986), (1534, 0.0), (1535, 0.0), (1536, 0.007551496608769864), (1537, 0.0027870225692166756), (1538, 0.024417662901960412), (1539, 0.002321205866716597), (1540, 0.00848313992653534), (1541, 0.0), (1542, 0.007518608879579674), (1543, 0.039820253616172946), (1544, 0.04651460319321662), (1545, 0.017902338882035594), (1546, 0.0), (1547, 0.0030318768392995506), (1548, 0.040579065587828554), (1549, 0.0), (1550, 0.05495497214688174), (1551, 0.01834860791181049), (1552, 0.02323105419583298), (1553, 0.07061670630291637), (1554, 0.0), (1555, 0.020511213826514392), (1556, 0.0), (1557, 0.07851469193789842), (1558, 0.002419841608535006), (1559, 0.032314493864322204), (1560, 0.0), (1561, 0.029621759324856126), (1562, 0.07348733728259504), (1563, 0.0), (1564, 0.01900733130364701), (1565, 0.0022250825055392647), (1566, 0.0), (1567, 0.00657819461126025), (1568, 0.018795820769007123), (1569, 0.04573649555053844), (1570, 0.02317161495218969), (1571, 0.0021521960729859566), (1572, 0.018223849478264987), (1573, 0.0), (1574, 0.002626933015149803), (1575, 0.019989145769259278), (1576, 0.12240247470989034), (1577, 0.0), (1578, 0.012795477327271211), (1579, 0.0), (1580, 0.0028724870783402635), (1581, 0.0), (1582, 0.06771588737930202), (1583, 0.0), (1584, 0.0), (1585, 0.02653517093603227), (1586, 0.0), (1587, 0.0), (1588, 0.0), (1589, 0.01828743328513317), (1590, 0.0), (1591, 0.008410360253564163), (1592, 0.018106132190390863), (1593, 0.0031547049680254653), (1594, 0.037418930146530575), (1595, 0.11470984520916333), (1596, 0.0), (1597, 0.002507596391270366), (1598, 0.0025696948041179627), (1599, 0.0), (1600, 0.0), (1601, 0.0), (1602, 0.0), (1603, 0.0), (1604, 0.0), (1605, 0.0023517607166335577), (1606, 0.0), (1607, 0.0), (1608, 0.0022977647512855263), (1609, 0.0), (1610, 0.0), (1611, 0.0), (1612, 0.0025922029642246737), (1613, 0.01941864799803671), (1614, 0.039943436040571295), (1615, 0.0), (1616, 0.02109679116617673), (1617, 0.002541363533064002), (1618, 0.0), (1619, 0.0027741509882568353), (1620, 0.00922439570594116), (1621, 0.021701809604387088), (1622, 0.04844396117271698), (1623, 0.0), (1624, 0.002118314499346536), (1625, 0.013265199401416291), (1626, 0.0), (1627, 0.0022252009008462835), (1628, 0.002381878040071011), (1629, 0.032276837686751096), (1630, 0.006890452967501923), (1631, 0.0), (1632, 0.0), (1633, 0.0), (1634, 0.0025800455482998526), (1635, 0.0), (1636, 0.0), (1637, 0.0027923081630674513), (1638, 0.0), (1639, 0.0), (1640, 0.0), (1641, 0.056639065159338586), (1642, 0.002409259936696048), (1643, 0.025203510897807358), (1644, 0.0), (1645, 0.02055014402264015), (1646, 0.009775072070919138), (1647, 0.10402414453663618), (1648, 0.0019440087320960738), (1649, 0.0), (1650, 0.002413861090428306), (1651, 0.03363568803125597), (1652, 0.0), (1653, 0.002538520650714578), (1654, 0.01782020229847909), (1655, 0.003166532848211442), (1656, 0.0029844974259602306), (1657, 0.0), (1658, 0.002882048191217567), (1659, 0.0), (1660, 0.0027198627279165777), (1661, 0.0), (1662, 0.0), (1663, 0.032201904988989206), (1664, 0.0), (1665, 0.009236742951763492), (1666, 0.0025670816483554302), (1667, 0.020288193286255897), (1668, 0.0), (1669, 0.0), (1670, 0.0027398509569433547), (1671, 0.0165818105822156), (1672, 0.0023830365760586546), (1673, 0.05295942916238966), (1674, 0.00792170602982397), (1675, 0.002371470161687739), (1676, 0.0), (1677, 0.002048005949503123), (1678, 0.009808698741022151), (1679, 0.0), (1680, 0.008959413365391156), (1681, 0.00797265037627633), (1682, 0.0024428448554539256), (1683, 0.002785616705667877), (1684, 0.0), (1685, 0.0027541824513182423), (1686, 0.0), (1687, 0.04699576100274933), (1688, 0.03779307029295904), (1689, 0.0), (1690, 0.0023453559604600213), (1691, 0.002221167387927888), (1692, 0.0), (1693, 0.002444144720835315), (1694, 0.024734733896166778), (1695, 0.0), (1696, 0.0), (1697, 0.0), (1698, 0.0), (1699, 0.016152273994587015), (1700, 0.0), (1701, 0.0), (1702, 0.0), (1703, 0.0026933797762106566), (1704, 0.0), (1705, 0.007776297120338483), (1706, 0.0026268680923139235), (1707, 0.010652640286016183), (1708, 0.002795922183784643), (1709, 0.0), (1710, 0.020871060339658583), (1711, 0.0032644204059373767), (1712, 0.05995372403175936), (1713, 0.0), (1714, 0.0), (1715, 0.04667163066078826), (1716, 0.011063586751538606), (1717, 0.0026809667917883587), (1718, 0.0), (1719, 0.0023493375623819214), (1720, 0.06932986377531883), (1721, 0.013590611694058171), (1722, 0.002628730819110958), (1723, 0.0), (1724, 0.0), (1725, 0.0), (1726, 0.03151113305984214), (1727, 0.010256964715076231), (1728, 0.0), (1729, 0.0), (1730, 0.002373269277414651), (1731, 0.0), (1732, 0.0), (1733, 0.002854258123931627), (1734, 0.0), (1735, 0.0074889545682066665), (1736, 0.010327331413279794), (1737, 0.0), (1738, 0.006893915186806828), (1739, 0.008870162655656046), (1740, 0.010063362938494294), (1741, 0.012247156114099442), (1742, 0.020832977394467853), (1743, 0.0022157822431664344), (1744, 0.002483362147931812), (1745, 0.0), (1746, 0.0), (1747, 0.01655453359908223), (1748, 0.003047763891092831), (1749, 0.0), (1750, 0.016684309794663395), (1751, 0.0), (1752, 0.015435218741944123), (1753, 0.0), (1754, 0.010867257574514575), (1755, 0.0), (1756, 0.0), (1757, 0.0), (1758, 0.0), (1759, 0.01393858500820035), (1760, 0.020371033151621025), (1761, 0.0), (1762, 0.013160311561440399), (1763, 0.0022292045886682112), (1764, 0.03253181462649142), (1765, 0.0026923528334676823), (1766, 0.0), (1767, 0.0), (1768, 0.015167149371275212), (1769, 0.0), (1770, 0.0), (1771, 0.0), (1772, 0.0), (1773, 0.0), (1774, 0.04311977436059903), (1775, 0.019480151197964292), (1776, 0.008687978395243361), (1777, 0.0), (1778, 0.022631772323660364), (1779, 0.022647704715369955), (1780, 0.0016981369695293093), (1781, 0.006178892544317168), (1782, 0.01945573161181371), (1783, 0.0), (1784, 0.03638765082131367), (1785, 0.020252918105349363), (1786, 0.0), (1787, 0.0), (1788, 0.0), (1789, 0.00670573863480099), (1790, 0.0), (1791, 0.0), (1792, 0.003059164833482995), (1793, 0.07420871488082321), (1794, 0.0), (1795, 0.016880629397031967), (1796, 0.009000952158345203), (1797, 0.006366475497916198), (1798, 0.0027945852262125353), (1799, 0.0), (1800, 0.0), (1801, 0.0021861609171144407), (1802, 0.031801973508063956), (1803, 0.0), (1804, 0.0), (1805, 0.002836189736132085), (1806, 0.00792804509338536), (1807, 0.002553380708750196), (1808, 0.002334596113344002), (1809, 0.0), (1810, 0.0), (1811, 0.002582225157816668), (1812, 0.02286405105218597), (1813, 0.002527268668846556), (1814, 0.0023968657093500125), (1815, 0.08847777623671213), (1816, 0.006546099091382834), (1817, 0.0), (1818, 0.0), (1819, 0.002425205974144566), (1820, 0.0), (1821, 0.010352072714650903), (1822, 0.0027479500856256124), (1823, 0.0), (1824, 0.01936068149012853), (1825, 0.0), (1826, 0.002353938165919283), (1827, 0.03611801746762083), (1828, 0.0022461680269500683), (1829, 0.041470824849696164), (1830, 0.047441783376763025), (1831, 0.0210328249237186), (1832, 0.007416657373710389), (1833, 0.012631975880635865), (1834, 0.0), (1835, 0.0), (1836, 0.0), (1837, 0.0), (1838, 0.01608863969424546), (1839, 0.0), (1840, 0.01767842102643118), (1841, 0.0), (1842, 0.042597970544857096), (1843, 0.02400213401013641), (1844, 0.0), (1845, 0.012474987579537501), (1846, 0.01807913575549819), (1847, 0.007497672158989175), (1848, 0.0028022761187619484), (1849, 0.0), (1850, 0.0), (1851, 0.002710108928004258), (1852, 0.0), (1853, 0.010442033779747716), (1854, 0.00941882896319298), (1855, 0.0), (1856, 0.0), (1857, 0.0), (1858, 0.0319282181142906), (1859, 0.0), (1860, 0.06281369758394861), (1861, 0.04697739788192738), (1862, 0.002915431943508549), (1863, 0.01612332575039417), (1864, 0.023090025247824428), (1865, 0.02561618150860856), (1866, 0.002842449215408648), (1867, 0.0), (1868, 0.0), (1869, 0.002356899832598245), (1870, 0.030799079260503234), (1871, 0.0020718952496869333), (1872, 0.002632888212310576), (1873, 0.018687452540949646), (1874, 0.010661289167064172), (1875, 0.026904868994875698), (1876, 0.002618113414533674), (1877, 0.014076995739915422), (1878, 0.002471676932951032), (1879, 0.0), (1880, 0.0), (1881, 0.0), (1882, 0.002550539892904446), (1883, 0.0), (1884, 0.002433091621555575), (1885, 0.0030501193751350255), (1886, 0.002069047217255854), (1887, 0.0029499978791809513), (1888, 0.018339114958243568), (1889, 0.0), (1890, 0.0028884923948112842), (1891, 0.002580572300001646), (1892, 0.002363787592992012), (1893, 0.002745623630860043), (1894, 0.0), (1895, 0.04834650352475224), (1896, 0.00276157443631114), (1897, 0.002822459571285952), (1898, 0.0), (1899, 0.0), (1900, 0.0), (1901, 0.03285484933585298), (1902, 0.022243426235490825), (1903, 0.038197599305275824), (1904, 0.0), (1905, 0.0028380440014920067), (1906, 0.0), (1907, 0.0028020403072795915), (1908, 0.0), (1909, 0.002954679892419442), (1910, 0.0), (1911, 0.0), (1912, 0.011631443818657402), (1913, 0.018423353988588822), (1914, 0.0), (1915, 0.017754373274695378), (1916, 0.0027431960411434895), (1917, 0.0), (1918, 0.002749663459142617), (1919, 0.04287614202833952), (1920, 0.022196841111508176), (1921, 0.002326444885025456), (1922, 0.009958533273061721), (1923, 0.010956082023304408), (1924, 0.002973959590902057), (1925, 0.0), (1926, 0.022743209862891717), (1927, 0.05133705891177523), (1928, 0.0), (1929, 0.0024816501834847497), (1930, 0.0), (1931, 0.002659692672087706), (1932, 0.0), (1933, 0.020076958185160858), (1934, 0.002324360801334488), (1935, 0.011027553723459253), (1936, 0.021741034282737264), (1937, 0.014266122222771299), (1938, 0.0), (1939, 0.0), (1940, 0.0), (1941, 0.0), (1942, 0.010036660230394234), (1943, 0.020895489413714517), (1944, 0.0842776769825895), (1945, 0.007317027121689747), (1946, 0.00267498041175024), (1947, 0.0030219206509328853), (1948, 0.01829222152091996), (1949, 0.0075285624918352435), (1950, 0.002126303410511807), (1951, 0.01565154440223907), (1952, 0.0), (1953, 0.011804261900787505), (1954, 0.02382952416349072), (1955, 0.0), (1956, 0.01965311440467832), (1957, 0.0), (1958, 0.026355749241518837), (1959, 0.05918549772596032), (1960, 0.024394871757088835), (1961, 0.0), (1962, 0.0), (1963, 0.00982934731749612), (1964, 0.07407149779967616), (1965, 0.0), (1966, 0.0), (1967, 0.04072690161860324), (1968, 0.0030570660705186155), (1969, 0.002512181480103537), (1970, 0.04544130101731073), (1971, 0.008361607417114877), (1972, 0.0), (1973, 0.04337278481022452), (1974, 0.05294535155482616), (1975, 0.0), (1976, 0.0), (1977, 0.002317727039749439), (1978, 0.01663932184494864), (1979, 0.011178461853380126), (1980, 0.0023348489897531267), (1981, 0.0060644912941899215), (1982, 0.0), (1983, 0.04916112084125099), (1984, 0.0), (1985, 0.00996836198968804), (1986, 0.0071818329494605145), (1987, 0.0066659299839663165), (1988, 0.0), (1989, 0.00792348665832194), (1990, 0.0), (1991, 0.019710651991646067), (1992, 0.0067843161158771745), (1993, 0.01782468770471456), (1994, 0.0), (1995, 0.002799130695498975), (1996, 0.0), (1997, 0.01860785865466979), (1998, 0.0), (1999, 0.0), (2000, 0.016951514709650874), (2001, 0.043863331504992414), (2002, 0.0), (2003, 0.018036020531356438), (2004, 0.0024466350539288475), (2005, 0.0), (2006, 0.0), (2007, 0.0), (2008, 0.00253155749886089), (2009, 0.014388956407048415), (2010, 0.0020557523495170005), (2011, 0.0023670581241934372), (2012, 0.0), (2013, 0.0), (2014, 0.018568105757980242), (2015, 0.0), (2016, 0.010241171590703034), (2017, 0.0), (2018, 0.0), (2019, 0.0), (2020, 0.0), (2021, 0.0), (2022, 0.0), (2023, 0.07753456746880252), (2024, 0.009446735245854104), (2025, 0.0), (2026, 0.007256129121515745), (2027, 0.0025110290982941173), (2028, 0.0), (2029, 0.027857623452128614), (2030, 0.0), (2031, 0.0023490431481467925), (2032, 0.0), (2033, 0.0), (2034, 0.002144672709718962), (2035, 0.0022052768319561315), (2036, 0.0), (2037, 0.0107509099826737), (2038, 0.0), (2039, 0.0021896908729451717), (2040, 0.034544342269882906), (2041, 0.0), (2042, 0.0), (2043, 0.0), (2044, 0.0), (2045, 0.037665877777632244), (2046, 0.0), (2047, 0.0023003200572212306), (2048, 0.0026793148117271125), (2049, 0.0028698400660803476), (2050, 0.0), (2051, 0.0029576074740216562), (2052, 0.0), (2053, 0.0705556768203702), (2054, 0.020402020708193337), (2055, 0.008940961385043267), (2056, 0.0), (2057, 0.025147510509758393), (2058, 0.0), (2059, 0.0), (2060, 0.027950034326412077), (2061, 0.0026366099972854125), (2062, 0.0), (2063, 0.0), (2064, 0.0), (2065, 0.03189272235034733), (2066, 0.008169283834707986), (2067, 0.0026188100112018863), (2068, 0.002473610193287183), (2069, 0.020900229468290964), (2070, 0.008438041416214667), (2071, 0.0), (2072, 0.0026974185792028506), (2073, 0.002653052476676588), (2074, 0.0), (2075, 0.028869984841364812), (2076, 0.008320183933997997), (2077, 0.008856324150125881), (2078, 0.0), (2079, 0.0), (2080, 0.009531421501606342), (2081, 0.01945050397788168), (2082, 0.007878115006154684), (2083, 0.0027242446216906766), (2084, 0.0), (2085, 0.019450747049978016), (2086, 0.0), (2087, 0.002546072808460056), (2088, 0.002727346871555282), (2089, 0.0030588272036473347), (2090, 0.0), (2091, 0.0026393913255612217), (2092, 0.0), (2093, 0.01343239441028595), (2094, 0.0), (2095, 0.018764915054700283), (2096, 0.010514873598111605), (2097, 0.010735149562636988), (2098, 0.017618254721823337), (2099, 0.00243311760069044), (2100, 0.03775736007084887), (2101, 0.0), (2102, 0.0025448745868653557), (2103, 0.0025347660197867178), (2104, 0.0646526160111832), (2105, 0.0027719796883211886), (2106, 0.0), (2107, 0.0), (2108, 0.07526540153722218), (2109, 0.014870445644139727), (2110, 0.0066628885024988364), (2111, 0.03890814449075362), (2112, 0.010888274086798934), (2113, 0.04077871276068516), (2114, 0.0), (2115, 0.0), (2116, 0.015921600010939042), (2117, 0.014150334210807003), (2118, 0.011610866296055365), (2119, 0.006736608554069778), (2120, 0.0), (2121, 0.031712425220220386), (2122, 0.0026279547045984105), (2123, 0.002694436555624617), (2124, 0.0), (2125, 0.0), (2126, 0.03021156957597033), (2127, 0.0021853360361287428), (2128, 0.0), (2129, 0.019710891934302994), (2130, 0.0), (2131, 0.040995871975056296), (2132, 0.002174762730994739), (2133, 0.002462210750518936), (2134, 0.041979319832939094), (2135, 0.016924169080707523), (2136, 0.0), (2137, 0.0036895218678887525), (2138, 0.013769421282548827), (2139, 0.0), (2140, 0.0), (2141, 0.002488140000225262), (2142, 0.00303602707220465), (2143, 0.014104312391917277), (2144, 0.014880222149726459), (2145, 0.0), (2146, 0.002224644625851527), (2147, 0.0), (2148, 0.002698158817404983), (2149, 0.002432253827622576), (2150, 0.0), (2151, 0.0027754552224520585), (2152, 0.01587558170587486), (2153, 0.0), (2154, 0.012636113456816611), (2155, 0.037710421310281135), (2156, 0.0), (2157, 0.0021888975268633975), (2158, 0.030234175963848007), (2159, 0.00287049882703167), (2160, 0.0), (2161, 0.0), (2162, 0.03064208962012372), (2163, 0.0023227598582395113), (2164, 0.0), (2165, 0.0), (2166, 0.0024516101101154982), (2167, 0.0), (2168, 0.0), (2169, 0.0026199860381452794), (2170, 0.0), (2171, 0.0), (2172, 0.0), (2173, 0.0025633667007956495), (2174, 0.00977840365671856), (2175, 0.0), (2176, 0.0028736767253502928), (2177, 0.022950162102119448), (2178, 0.007063496193231755), (2179, 0.0), (2180, 0.02134041778065498), (2181, 0.0), (2182, 0.0), (2183, 0.0), (2184, 0.006821585277861405), (2185, 0.0), (2186, 0.0), (2187, 0.025287192341640185), (2188, 0.0031769455572961255), (2189, 0.0036541464993156037), (2190, 0.015901305551981704), (2191, 0.029910747011969503), (2192, 0.014856080546106333), (2193, 0.0026268390982399827), (2194, 0.0), (2195, 0.002596295217077977), (2196, 0.03017464295886494), (2197, 0.017420429145755336), (2198, 0.0), (2199, 0.003388582437944459), (2200, 0.0), (2201, 0.025024440140024792), (2202, 0.0289679188592277), (2203, 0.0), (2204, 0.018143848534976203), (2205, 0.0), (2206, 0.006941225516674411), (2207, 0.0), (2208, 0.0), (2209, 0.0028980799790734608), (2210, 0.017413477424641163), (2211, 0.04341951827550115), (2212, 0.009843675016385701), (2213, 0.018969663959964085), (2214, 0.010726057591656936), (2215, 0.0), (2216, 0.009668289361882687), (2217, 0.0), (2218, 0.022898110786844388), (2219, 0.0), (2220, 0.0), (2221, 0.0021641090915298293), (2222, 0.0), (2223, 0.002959812024883262), (2224, 0.00936102897861834), (2225, 0.0), (2226, 0.0025454310801377496), (2227, 0.032627860997947775), (2228, 0.009398791237123404), (2229, 0.01078086165712022), (2230, 0.03854319456603241), (2231, 0.0), (2232, 0.0), (2233, 0.0), (2234, 0.012477665917301919), (2235, 0.007462069570292015), (2236, 0.0023621832018824087), (2237, 0.0022842309189564022), (2238, 0.0), (2239, 0.0), (2240, 0.002284402014965045), (2241, 0.0), (2242, 0.0024742949181456183), (2243, 0.0), (2244, 0.0), (2245, 0.011734189980830947), (2246, 0.0), (2247, 0.0), (2248, 0.002340295314707845), (2249, 0.0), (2250, 0.08901074656787555), (2251, 0.0036219564098697496), (2252, 0.007824299639919284), (2253, 0.0), (2254, 0.01058615453986108), (2255, 0.028426416520199116), (2256, 0.06254299433938486), (2257, 0.0033515216948159982), (2258, 0.06428864932953474), (2259, 0.0), (2260, 0.002784711213938588), (2261, 0.0), (2262, 0.0), (2263, 0.0), (2264, 0.03785583675365932), (2265, 0.0023632008526061556), (2266, 0.0032053203218862687), (2267, 0.0), (2268, 0.002514077308199219), (2269, 0.07119737141856444), (2270, 0.002249175945220063), (2271, 0.0), (2272, 0.0), (2273, 0.0), (2274, 0.0), (2275, 0.009834171672319786), (2276, 0.014918659468123933), (2277, 0.0026387899639953123), (2278, 0.0), (2279, 0.009611987113527655), (2280, 0.025687137568083458), (2281, 0.0), (2282, 0.0), (2283, 0.0), (2284, 0.009918287598836322), (2285, 0.0023423777021944567), (2286, 0.00332672929133219), (2287, 0.0021717888939499163), (2288, 0.0027534618705418105), (2289, 0.0025851327719864496), (2290, 0.0), (2291, 0.0), (2292, 0.05572611246672948), (2293, 0.0028374983843356383), (2294, 0.0), (2295, 0.010021905218990459), (2296, 0.0), (2297, 0.08841804566146416), (2298, 0.06434718845877752), (2299, 0.004162732502428054), (2300, 0.0), (2301, 0.0023812294673811085), (2302, 0.0770217368144876), (2303, 0.002455128663198577), (2304, 0.008113808781300516), (2305, 0.0), (2306, 0.0032934995317342158), (2307, 0.0), (2308, 0.0), (2309, 0.0024866793915152277), (2310, 0.029458845326014813), (2311, 0.0), (2312, 0.0), (2313, 0.0026429120841994676), (2314, 0.03790766666516411), (2315, 0.0), (2316, 0.0077783716130697235), (2317, 0.002408623141537522), (2318, 0.011991890729048596), (2319, 0.002704275519836657), (2320, 0.0030262315396506726), (2321, 0.010135416596684843), (2322, 0.040126774808133515), (2323, 0.05535878987599186), (2324, 0.006717355406466558), (2325, 0.0), (2326, 0.0), (2327, 0.011326921640966457), (2328, 0.0), (2329, 0.0), (2330, 0.0), (2331, 0.0), (2332, 0.0), (2333, 0.0), (2334, 0.010153835571815963), (2335, 0.0), (2336, 0.007221141790811322), (2337, 0.0), (2338, 0.0023519078770216006), (2339, 0.0), (2340, 0.05875527781086787), (2341, 0.0), (2342, 0.0), (2343, 0.0), (2344, 0.0026085699562812367), (2345, 0.0), (2346, 0.011216485225455361), (2347, 0.03923034017362991), (2348, 0.002451963021265713), (2349, 0.003604306503283774), (2350, 0.00334504662394915), (2351, 0.048482377290539086), (2352, 0.02633775868449115), (2353, 0.06043221383429126), (2354, 0.002605754414200119), (2355, 0.02001420847229871), (2356, 0.0029100416307721744), (2357, 0.0), (2358, 0.0), (2359, 0.0021727402599556233), (2360, 0.018202966431267342), (2361, 0.002761171619057075), (2362, 0.002386225651152545), (2363, 0.008974212526143327), (2364, 0.0), (2365, 0.0), (2366, 0.018981297509064788), (2367, 0.00249181471807105), (2368, 0.022250994482834092), (2369, 0.04180816178369631), (2370, 0.057002901416300426), (2371, 0.0), (2372, 0.013509129533914295), (2373, 0.0), (2374, 0.002638205069531763), (2375, 0.0028598242812073633), (2376, 0.0), (2377, 0.0), (2378, 0.003063525234109664), (2379, 0.003756848168071356), (2380, 0.0), (2381, 0.0), (2382, 0.0022299249981659443), (2383, 0.008074462845943523), (2384, 0.0), (2385, 0.0027417806684211666), (2386, 0.0026614244316301356), (2387, 0.0025974982535068567), (2388, 0.0063918518119914095), (2389, 0.0), (2390, 0.016171926998919284), (2391, 0.0027803134039518906), (2392, 0.0033988938269169547), (2393, 0.05838981980567849), (2394, 0.002742957029304632), (2395, 0.0), (2396, 0.0026268182780675203), (2397, 0.0026474932190411445), (2398, 0.009172361682609393), (2399, 0.002402919082966794), (2400, 0.002944310953164685), (2401, 0.002529922815977054), (2402, 0.01335975669969254), (2403, 0.0030002861940315447), (2404, 0.0035406643252898374), (2405, 0.01534301650392615), (2406, 0.011587713582189737), (2407, 0.003598369941810667), (2408, 0.018486414764861528), (2409, 0.017780746252911372), (2410, 0.023336168577419915), (2411, 0.0029476543225399206), (2412, 0.008565871083895659), (2413, 0.0), (2414, 0.0), (2415, 0.0031587510859030416), (2416, 0.002565610573813522), (2417, 0.003047913219567354), (2418, 0.0027593314277981596), (2419, 0.0027348847595856413), (2420, 0.0), (2421, 0.0), (2422, 0.0025268911757119574), (2423, 0.003280624752669995), (2424, 0.006582208050216065), (2425, 0.0033737887623122723), (2426, 0.0), (2427, 0.0030237511698481974), (2428, 0.0028728089262119692), (2429, 0.006731589376358579), (2430, 0.002641106288221916), (2431, 0.0), (2432, 0.0), (2433, 0.0), (2434, 0.0031120286109995177), (2435, 0.0), (2436, 0.0029094643867182773), (2437, 0.002954711867247215), (2438, 0.0032243968524323903), (2439, 0.04736546767819856), (2440, 0.024246941915128502), (2441, 0.027063491953406797), (2442, 0.0), (2443, 0.02749717651138093), (2444, 0.007407411442117234), (2445, 0.018957219881407805), (2446, 0.0024178026156176187), (2447, 0.00846100664604154), (2448, 0.0033996517402789537), (2449, 0.0), (2450, 0.011293755462305365), (2451, 0.0), (2452, 0.021316051817276804), (2453, 0.0023925314983917977), (2454, 0.003143390740273692), (2455, 0.0), (2456, 0.0), (2457, 0.0023416494299814887), (2458, 0.029091932173658255), (2459, 0.003168469736131868), (2460, 0.010587570899581802), (2461, 0.0025239840271721486), (2462, 0.0), (2463, 0.002558794944639692), (2464, 0.04912522589372429), (2465, 0.03598566674303667), (2466, 0.002673406221073758), (2467, 0.0025115323408494133), (2468, 0.008484858291995847), (2469, 0.002038114996417394), (2470, 0.0), (2471, 0.0), (2472, 0.0), (2473, 0.020153998390440166), (2474, 0.016320342643872263), (2475, 0.0027994673823017718), (2476, 0.0), (2477, 0.02298291208475147), (2478, 0.0029883497213194893), (2479, 0.0), (2480, 0.0370170367243959), (2481, 0.00216782208109667), (2482, 0.0023994676002791304), (2483, 0.0), (2484, 0.0034806015975787823), (2485, 0.0), (2486, 0.030475034842394416), (2487, 0.022078806694798), (2488, 0.003181346687723677), (2489, 0.010053461925043094), (2490, 0.0037519698996135546), (2491, 0.0), (2492, 0.0026194514448708364), (2493, 0.0), (2494, 0.002806569438261321), (2495, 0.0026029289638857434), (2496, 0.02245038641682332), (2497, 0.017242157350000054), (2498, 0.0), (2499, 0.02065848545868488), (2500, 0.0), (2501, 0.0), (2502, 0.0022967429285150475), (2503, 0.0), (2504, 0.0), (2505, 0.002890987930166235), (2506, 0.0), (2507, 0.0028278087737730576), (2508, 0.0), (2509, 0.017480945864012998), (2510, 0.0), (2511, 0.0), (2512, 0.00979427255009398), (2513, 0.0), (2514, 0.04832506558192529), (2515, 0.0), (2516, 0.019780948166501857), (2517, 0.0), (2518, 0.0), (2519, 0.007490618361285536), (2520, 0.0022566315204146114), (2521, 0.0), (2522, 0.010513910905593156), (2523, 0.044020959984247966), (2524, 0.005851606774636628), (2525, 0.002451248474476603), (2526, 0.0021298839059843808), (2527, 0.0022389152101772174), (2528, 0.013699510792473186), (2529, 0.003778772548203142), (2530, 0.0033085939304293285), (2531, 0.002712959806527432), (2532, 0.0), (2533, 0.002618189031641589), (2534, 0.0011612430293695335), (2535, 0.0028852060162352007), (2536, 0.0), (2537, 0.003571026285751172), (2538, 0.0015575499058607689), (2539, 0.0), (2540, 0.00248101192669993), (2541, 0.0), (2542, 0.0), (2543, 0.0), (2544, 0.007771077850279591), (2545, 0.0027120882541195666), (2546, 0.01026968641248233), (2547, 0.03375543263608968), (2548, 0.03628181660588439), (2549, 0.0), (2550, 0.0019465891895478825), (2551, 0.0), (2552, 0.020599558270631722), (2553, 0.04442645188989541), (2554, 0.00262608727543156), (2555, 0.005920433466635142), (2556, 0.002413803293819244), (2557, 0.0032285108606166417), (2558, 0.021274935304154505), (2559, 0.0034220284977827145), (2560, 0.002987686022983071), (2561, 0.0027158163683444507), (2562, 0.0), (2563, 0.019187478657154085), (2564, 0.0), (2565, 0.0027614495215720005), (2566, 0.0), (2567, 0.0), (2568, 0.06691740703756299), (2569, 0.002572232247123121), (2570, 0.0030638373243785815), (2571, 0.020551986443755325), (2572, 0.002465901442621894), (2573, 0.0), (2574, 0.018198350604651733), (2575, 0.0), (2576, 0.0), (2577, 0.0), (2578, 0.01745027032777156), (2579, 0.016535530450552935), (2580, 0.002324710491778619), (2581, 0.009074620213418151), (2582, 0.0), (2583, 0.0), (2584, 0.0), (2585, 0.07043590463620363), (2586, 0.0), (2587, 0.0023101155705697205), (2588, 0.0), (2589, 0.02401847708624979), (2590, 0.0), (2591, 0.0634196994554419), (2592, 0.002881864695161872), (2593, 0.0024017258403905162), (2594, 0.0), (2595, 0.023897765068894954), (2596, 0.0), (2597, 0.0), (2598, 0.037788648770944525), (2599, 0.0), (2600, 0.009161834236433308), (2601, 0.002714828507589492), (2602, 0.008185529672316592), (2603, 0.002186337115200003), (2604, 0.0), (2605, 0.0), (2606, 0.0026211374418025346), (2607, 0.008842501862250291), (2608, 0.0), (2609, 0.002776586001049206), (2610, 0.02328501743340259), (2611, 0.04593438386101028), (2612, 0.0025141008943611685), (2613, 0.0030667390734154315), (2614, 0.005653110480668471), (2615, 0.011285455799015383), (2616, 0.0), (2617, 0.0604873565769543), (2618, 0.017780285459227888), (2619, 0.0031348530308860853), (2620, 0.03059054481183028), (2621, 0.046460915861878574), (2622, 0.03167800354373809), (2623, 0.04248722199340195), (2624, 0.06712421031816716), (2625, 0.011334055785533339), (2626, 0.0), (2627, 0.015710967663722656), (2628, 0.003407754618192661), (2629, 0.002955013613878267), (2630, 0.0), (2631, 0.0), (2632, 0.0025419704467890877), (2633, 0.0027328918551810205), (2634, 0.0024323480395311322), (2635, 0.008508947875764724), (2636, 0.0019543564042153933), (2637, 0.0), (2638, 0.01120871224577252), (2639, 0.06000172339077975), (2640, 0.041506822850332394), (2641, 0.0), (2642, 0.0025080316415074405), (2643, 0.003366675561348413), (2644, 0.0), (2645, 0.012695864300486116), (2646, 0.0), (2647, 0.0026365533698502904), (2648, 0.0), (2649, 0.024192518759344906), (2650, 0.042288352877724256), (2651, 0.0024628960089187984), (2652, 0.002631701918626598), (2653, 0.002512013503345793), (2654, 0.04749172616466053), (2655, 0.0034497680930378883), (2656, 0.04679998363834416), (2657, 0.0), (2658, 0.0), (2659, 0.0), (2660, 0.0), (2661, 0.0727514850643638), (2662, 0.0), (2663, 0.011877233416054837), (2664, 0.00277523209110431), (2665, 0.0), (2666, 0.0), (2667, 0.0), (2668, 0.03652548868512645), (2669, 0.0), (2670, 0.0), (2671, 0.0), (2672, 0.0), (2673, 0.003462909463566547), (2674, 0.0023962733944411195), (2675, 0.022437094293393346), (2676, 0.0), (2677, 0.0), (2678, 0.0042395259045868655), (2679, 0.0024632859121423325), (2680, 0.0), (2681, 0.0), (2682, 0.0), (2683, 0.02078790668579343), (2684, 0.0), (2685, 0.012329448960666777), (2686, 0.029777479479132514), (2687, 0.05267704071809401), (2688, 0.018362685501852914), (2689, 0.03958027207204149), (2690, 0.0), (2691, 0.0), (2692, 0.00856647521911965), (2693, 0.0), (2694, 0.00346755209785885), (2695, 0.009877230278545309), (2696, 0.0030260710569022828), (2697, 0.03666966775815167), (2698, 0.0025362666672411366), (2699, 0.0), (2700, 0.0), (2701, 0.0), (2702, 0.0029752261211652004), (2703, 0.0), (2704, 0.0197821123363179), (2705, 0.002818650294806152), (2706, 0.0024748148751821504), (2707, 0.003055218522287628), (2708, 0.0), (2709, 0.0), (2710, 0.023158525175344738), (2711, 0.0), (2712, 0.002781345157771561), (2713, 0.0), (2714, 0.0027550160565944066), (2715, 0.0), (2716, 0.0025074157306556027), (2717, 0.0), (2718, 0.0), (2719, 0.0), (2720, 0.02719092856875022), (2721, 0.002261923347908749), (2722, 0.0036543897197253007), (2723, 0.02269574049539561), (2724, 0.002313160977913003), (2725, 0.0027839895272705317), (2726, 0.0), (2727, 0.008734377402848423), (2728, 0.00236946531480924), (2729, 0.0), (2730, 0.0), (2731, 0.003494243979019215), (2732, 0.012390080826498982), (2733, 0.0), (2734, 0.024406575525590356), (2735, 0.002403494896440821), (2736, 0.017776258804628416), (2737, 0.0), (2738, 0.0030720019877188286), (2739, 0.031313588216466105), (2740, 0.03755213234253343), (2741, 0.013282551413514632), (2742, 0.05439267794749573), (2743, 0.002231852682542102), (2744, 0.022834971738217226), (2745, 0.0026275263657072525), (2746, 0.04257100818562183), (2747, 0.03794953461336649), (2748, 0.002830717165791363), (2749, 0.0), (2750, 0.0), (2751, 0.006886437814541162), (2752, 0.009435448468343443), (2753, 0.002293285813202407), (2754, 0.0), (2755, 0.0027526132818147028), (2756, 0.0), (2757, 0.09348473497242686), (2758, 0.1738516022820248), (2759, 0.10841306538523605), (2760, 0.03485404911752716), (2761, 0.0022401250229922543), (2762, 0.03159746375620904), (2763, 0.0), (2764, 0.0037086966014699407), (2765, 0.0024744061377815338), (2766, 0.031692430725282605), (2767, 0.002030913450351923), (2768, 0.014023104569034248), (2769, 0.003072580885066242), (2770, 0.0), (2771, 0.00837079405261982), (2772, 0.0030836388982516177), (2773, 0.0), (2774, 0.0), (2775, 0.003533949075165922), (2776, 0.0028036623454148523), (2777, 0.01584747381878435), (2778, 0.003147673538956185), (2779, 0.027968928064487187), (2780, 0.0075191233200194016), (2781, 0.0), (2782, 0.026723311898337446), (2783, 0.0026197446385454043), (2784, 0.010083224161322148), (2785, 0.0), (2786, 0.002787692432150476), (2787, 0.0), (2788, 0.00739306821531736), (2789, 0.010098329242370075), (2790, 0.019628904142340604), (2791, 0.006659924630691872), (2792, 0.002757906548665865), (2793, 0.0), (2794, 0.0), (2795, 0.012458287993089043), (2796, 0.002979071804308903), (2797, 0.0031862384844926575), (2798, 0.0026434274307295755), (2799, 0.0), (2800, 0.0024594163052698826), (2801, 0.034375140452232), (2802, 0.0025454283110423696), (2803, 0.02005103640212373), (2804, 0.0), (2805, 0.01632518103915494), (2806, 0.0), (2807, 0.0), (2808, 0.009559061824656719), (2809, 0.08843065358217932), (2810, 0.0), (2811, 0.0), (2812, 0.0024532720283316533), (2813, 0.0), (2814, 0.0), (2815, 0.014609509019680356), (2816, 0.033170226963456895), (2817, 0.0), (2818, 0.0), (2819, 0.019776806622619398), (2820, 0.0), (2821, 0.02258266360631739), (2822, 0.036943483004258294), (2823, 0.05790018284794675), (2824, 0.02006638079913761), (2825, 0.00717388923908733), (2826, 0.0026170591645762486), (2827, 0.017366545160344422), (2828, 0.0), (2829, 0.0), (2830, 0.002897157131388272), (2831, 0.0026061498819518465), (2832, 0.0034162567199398945), (2833, 0.006472972446451898), (2834, 0.003229559197037058), (2835, 0.037645002635346966), (2836, 0.0), (2837, 0.0), (2838, 0.0033267779409825787), (2839, 0.0), (2840, 0.0029033473729745624), (2841, 0.0014540121469141403), (2842, 0.0161409423171269), (2843, 0.0), (2844, 0.002149974850865952), (2845, 0.07364539573392263), (2846, 0.003045965612802377), (2847, 0.0), (2848, 0.003177485966209573), (2849, 0.0104292583888487), (2850, 0.0), (2851, 0.0), (2852, 0.02300113645550491), (2853, 0.02116555461436173), (2854, 0.002891058681554947), (2855, 0.0), (2856, 0.0), (2857, 0.0032133059016482505), (2858, 0.0036897278360671555), (2859, 0.0024679807851201285), (2860, 0.0), (2861, 0.0034504322508748255), (2862, 0.0024260070110283106), (2863, 0.0026840570458947356), (2864, 0.03490533166107344), (2865, 0.0), (2866, 0.0), (2867, 0.0), (2868, 0.002408404146739651), (2869, 0.0), (2870, 0.0035288978136047405), (2871, 0.006457042081572652), (2872, 0.0029964829859817424), (2873, 0.0), (2874, 0.006739852794880148), (2875, 0.0), (2876, 0.0021741172550235168), (2877, 0.0), (2878, 0.03088462049712916), (2879, 0.0031702434465116073), (2880, 0.0), (2881, 0.0029482461175845956), (2882, 0.002828754248630866), (2883, 0.003522700032695014), (2884, 0.025434642484528803), (2885, 0.0), (2886, 0.009411819194000675), (2887, 0.002637679957465409), (2888, 0.0028198333834917), (2889, 0.0035835174152319747), (2890, 0.002872467621144137), (2891, 0.0), (2892, 0.002471028186833175), (2893, 0.002952037072079017), (2894, 0.021829450821622732), (2895, 0.003115904863254776), (2896, 0.0), (2897, 0.03243499916236279), (2898, 0.0), (2899, 0.03754625685707714), (2900, 0.0025948810532808813), (2901, 0.0033422209637521978), (2902, 0.001914553060176274), (2903, 0.011062995092980542), (2904, 0.002707569404322772), (2905, 0.0), (2906, 0.0), (2907, 0.00241426383981471), (2908, 0.02876579887777001), (2909, 0.0025388162021771792), (2910, 0.009652153618428154), (2911, 0.0027092332840832896), (2912, 0.002520619332210611), (2913, 0.011912775127887019), (2914, 0.0029439997976281446), (2915, 0.0160424007129606), (2916, 0.002915827419605103), (2917, 0.017354540907374295), (2918, 0.006996277628014131), (2919, 0.036671976081641626), (2920, 0.0023817928339349387), (2921, 0.0), (2922, 0.0), (2923, 0.0035074106343055), (2924, 0.024670170396988933), (2925, 0.00792061862720653), (2926, 0.002722422563176168), (2927, 0.0), (2928, 0.0), (2929, 0.0), (2930, 0.0), (2931, 0.04995956858400276), (2932, 0.013043198343908314), (2933, 0.0022106902657979205), (2934, 0.009936935101623828), (2935, 0.0), (2936, 0.002946796744108527), (2937, 0.0037380286711444135), (2938, 0.0), (2939, 0.009044509001331405), (2940, 0.0027823609121539715), (2941, 0.0), (2942, 0.002252571584402518), (2943, 0.0025938032775039655), (2944, 0.007516550809167985), (2945, 0.0025481622350344377), (2946, 0.0025618433855321794), (2947, 0.0), (2948, 0.009456860954686017), (2949, 0.04559790280865334), (2950, 0.0), (2951, 0.0), (2952, 0.0), (2953, 0.0027553853935131556), (2954, 0.0023769052388092895), (2955, 0.0), (2956, 0.03441663015498424), (2957, 0.003184698167040355), (2958, 0.011318175670899697), (2959, 0.0), (2960, 0.0), (2961, 0.009710364652512356), (2962, 0.06896276445737184), (2963, 0.007753713648373582), (2964, 0.02565340153322052), (2965, 0.022038296034725128), (2966, 0.003164531816291036), (2967, 0.0), (2968, 0.020377593935582097), (2969, 0.0021590304254655323), (2970, 0.0027746860501022203), (2971, 0.006318651251030599), (2972, 0.002453732455981118), (2973, 0.0), (2974, 0.0029226468737612505), (2975, 0.00228697639148301), (2976, 0.00233192353857647), (2977, 0.0026653902221641917), (2978, 0.04849552098295121), (2979, 0.0), (2980, 0.014467973487865632), (2981, 0.06835119711211313), (2982, 0.0), (2983, 0.0), (2984, 0.0), (2985, 0.002171325230466923), (2986, 0.0030791319132104987), (2987, 0.0030052457553794583), (2988, 0.021939771289671922), (2989, 0.0036272759557996847), (2990, 0.0), (2991, 0.0), (2992, 0.0), (2993, 0.0031398221384480855), (2994, 0.0073089821243814785), (2995, 0.002467145228862904), (2996, 0.010856455935093018), (2997, 0.0024604665150216426), (2998, 0.003908020215413125), (2999, 0.014668368988877946), (3000, 0.02177986702048421), (3001, 0.0), (3002, 0.0), (3003, 0.0028917777970376276), (3004, 0.0032062937176451922), (3005, 0.03773819209313082), (3006, 0.0), (3007, 0.0027809808357118714), (3008, 0.0), (3009, 0.0), (3010, 0.020512722948816963), (3011, 0.01802758932337855), (3012, 0.011060223073452448), (3013, 0.0029365729297016587), (3014, 0.050545313476642637), (3015, 0.0032987026006479777), (3016, 0.002672381817205949), (3017, 0.0), (3018, 0.007583798154973795), (3019, 0.011484166625448494), (3020, 0.0031602096131053345), (3021, 0.0), (3022, 0.0), (3023, 0.0), (3024, 0.002153412561612389), (3025, 0.0), (3026, 0.002876064953622594), (3027, 0.02160259139518351), (3028, 0.00251555611539189), (3029, 0.03360843006080565), (3030, 0.0035264974937846377), (3031, 0.0031798972955255993), (3032, 0.002913782479171014), (3033, 0.0), (3034, 0.01222791485975428), (3035, 0.002478186966037363), (3036, 0.002474932904982703), (3037, 0.0027477797788195446), (3038, 0.0), (3039, 0.0), (3040, 0.0036353597223580105), (3041, 0.0), (3042, 0.003527116815973649), (3043, 0.011167651817171128), (3044, 0.002837560588742938), (3045, 0.0059969351310885845), (3046, 0.002553170561568633), (3047, 0.018703627640353142), (3048, 0.0), (3049, 0.0), (3050, 0.002384982274194591), (3051, 0.003713241250503208), (3052, 0.003555644664569139), (3053, 0.0), (3054, 0.0), (3055, 0.0035422364288037293), (3056, 0.0021565215664132407), (3057, 0.022520668708317714), (3058, 0.04884020657153327), (3059, 0.0), (3060, 0.0), (3061, 0.1064075874909284), (3062, 0.002886021357012671), (3063, 0.0), (3064, 0.0028325498803342805), (3065, 0.017974873031827664), (3066, 0.0), (3067, 0.002571638945557079), (3068, 0.0), (3069, 0.002542115210634567), (3070, 0.006486882735590946), (3071, 0.01992463382782753), (3072, 0.00302556687335055), (3073, 0.0), (3074, 0.003193794421836572), (3075, 0.002528200272293472), (3076, 0.012910611271428299), (3077, 0.017630313995598945), (3078, 0.0), (3079, 0.0), (3080, 0.0), (3081, 0.0030635628310964327), (3082, 0.0), (3083, 0.05206406346719826), (3084, 0.002760937497212137), (3085, 0.06305382632593655), (3086, 0.010656902036539522), (3087, 0.0), (3088, 0.0), (3089, 0.0), (3090, 0.0), (3091, 0.002178881692244159), (3092, 0.1262898725339139), (3093, 0.0025618734311523505), (3094, 0.017261078901869016), (3095, 0.010591095330567036), (3096, 0.002262848004863375), (3097, 0.018885491496287137), (3098, 0.01103655519766524), (3099, 0.006459281980179841), (3100, 0.0), (3101, 0.04625686600504139), (3102, 0.019027221766610338), (3103, 0.02820514398712043), (3104, 0.03769397286509082), (3105, 0.0), (3106, 0.0), (3107, 0.0), (3108, 0.0197752187685066), (3109, 0.021936036908993303), (3110, 0.00816921409884239), (3111, 0.02991241729863895), (3112, 0.0027992051969403875), (3113, 0.0026550886548557654), (3114, 0.0), (3115, 0.0), (3116, 0.0028605587444938602), (3117, 0.0214019497361143), (3118, 0.006738975349781209), (3119, 0.013524443920216123), (3120, 0.009133314662622884), (3121, 0.0), (3122, 0.002483335078751966), (3123, 0.0031752149891133706), (3124, 0.031924062226934655), (3125, 0.002616017120130194), (3126, 0.0), (3127, 0.027766491055763433), (3128, 0.0032814374773868418), (3129, 0.01603956359417302), (3130, 0.0), (3131, 0.020787486224722172), (3132, 0.0), (3133, 0.0), (3134, 0.0), (3135, 0.0), (3136, 0.0), (3137, 0.004832170118982227), (3138, 0.0), (3139, 0.003685583128342274), (3140, 0.0032760664380796336), (3141, 0.017986281022558052), (3142, 0.03585188301106984), (3143, 0.0), (3144, 0.0), (3145, 0.0), (3146, 0.002911761341680119), (3147, 0.03972870153934015), (3148, 0.01670245694750613), (3149, 0.06366453574470012), (3150, 0.0027236070753121695), (3151, 0.0024796936325112233), (3152, 0.0020313766829826063), (3153, 0.0026805733688889197), (3154, 0.020962455843001312), (3155, 0.00993254405036802), (3156, 0.0), (3157, 0.002897454132615989), (3158, 0.06039946705516469), (3159, 0.003221800501464509), (3160, 0.0), (3161, 0.0), (3162, 0.0), (3163, 0.037506791919123504), (3164, 0.0), (3165, 0.0029899273513799974), (3166, 0.003610890149478264), (3167, 0.01905031325739926), (3168, 0.0), (3169, 0.0), (3170, 0.002476488100246424), (3171, 0.00938406453827085), (3172, 0.02262428695346257), (3173, 0.014528005516634381), (3174, 0.0025962093427056385), (3175, 0.02000509248442213), (3176, 0.0), (3177, 0.0), (3178, 0.004115733375192964), (3179, 0.060317676656253136), (3180, 0.0), (3181, 0.0), (3182, 0.0026517869802568056), (3183, 0.002850581726886272), (3184, 0.0027959768936302943), (3185, 0.0), (3186, 0.02498256771836106), (3187, 0.0027393802578850645), (3188, 0.03078271058509514), (3189, 0.0), (3190, 0.0), (3191, 0.0), (3192, 0.008022451318619938), (3193, 0.0), (3194, 0.0024570444077450988), (3195, 0.0025617557992345615), (3196, 0.002919055105884331), (3197, 0.0), (3198, 0.002689165226512038), (3199, 0.047334173712221886), (3200, 0.03393669426725055), (3201, 0.0), (3202, 0.0), (3203, 0.0), (3204, 0.0), (3205, 0.0), (3206, 0.003149557678547961), (3207, 0.0), (3208, 0.02165157291709194), (3209, 0.0), (3210, 0.009950776367270339), (3211, 0.0022538649563958913), (3212, 0.0556705759777644), (3213, 0.0), (3214, 0.002485211628963508), (3215, 0.0), (3216, 0.021058745412410207), (3217, 0.0), (3218, 0.025593499074777485), (3219, 0.0034019340835059874), (3220, 0.0025441588406112845), (3221, 0.0), (3222, 0.0), (3223, 0.0), (3224, 0.0027102095722651163), (3225, 0.09713245429012499), (3226, 0.02185753212553452), (3227, 0.0026247317978172974), (3228, 0.0031591252471124304), (3229, 0.01927467513240643), (3230, 0.0030053170068893346), (3231, 0.0), (3232, 0.006349222664301038), (3233, 0.055082009606245506), (3234, 0.023251635189628434), (3235, 0.02559196139595782), (3236, 0.05417745930002775), (3237, 0.002571160039441924), (3238, 0.056862347625869794), (3239, 0.003281980217442254), (3240, 0.005031070110738679), (3241, 0.0027157678708009452), (3242, 0.002733043688535731), (3243, 0.0574550630810325), (3244, 0.0), (3245, 0.007337198624868762), (3246, 0.002495555326332962), (3247, 0.0), (3248, 0.0029031927232860957), (3249, 0.0032558039849792577), (3250, 0.03231846233521447), (3251, 0.0), (3252, 0.002169096054180178), (3253, 0.0), (3254, 0.0021284591879067644), (3255, 0.0), (3256, 0.0), (3257, 0.003136677304144059), (3258, 0.00283065805832453), (3259, 0.007658534015006615), (3260, 0.053682113789894605), (3261, 0.0), (3262, 0.0033495054707531518), (3263, 0.0), (3264, 0.0027486897830114572), (3265, 0.0), (3266, 0.0), (3267, 0.008951306047250963), (3268, 0.002484540569495487), (3269, 0.0028158637454829905), (3270, 0.0), (3271, 0.002812711058750833), (3272, 0.0), (3273, 0.0028980997388959417), (3274, 0.0029330407822129997), (3275, 0.011530252422943322), (3276, 0.003929573029073714), (3277, 0.0), (3278, 0.002367010909624253), (3279, 0.03199441470492451), (3280, 0.006760939155624451), (3281, 0.0), (3282, 0.003375921958866502), (3283, 0.044610298217375007), (3284, 0.0023841445165115743), (3285, 0.04406158434922589), (3286, 0.0), (3287, 0.0), (3288, 0.05098685139881673), (3289, 0.040932718118349413), (3290, 0.0026789303652768074), (3291, 0.0034981952334976947), (3292, 0.0033982111504948127), (3293, 0.0093372342898137), (3294, 0.0), (3295, 0.0), (3296, 0.0029607470718472305), (3297, 0.07204225421728586), (3298, 0.002514588067290933), (3299, 0.002586708737020089), (3300, 0.04061693683849353), (3301, 0.0020384912245964408), (3302, 0.003171709240066115), (3303, 0.002649073010567848), (3304, 0.002357127103563522), (3305, 0.0), (3306, 0.015701682831604717), (3307, 0.0030238267989127813), (3308, 0.02518374564873062), (3309, 0.0), (3310, 0.06489437770349102), (3311, 0.002354774550482063), (3312, 0.008434547495764364), (3313, 0.0021252835973452765), (3314, 0.002760844776522355), (3315, 0.002486750789033596), (3316, 0.0020024292895395746), (3317, 0.008080014903838667), (3318, 0.061832720293558324), (3319, 0.0), (3320, 0.0), (3321, 0.0), (3322, 0.003350298466895818), (3323, 0.0), (3324, 0.0), (3325, 0.004650943170422459), (3326, 0.0027570902644561226), (3327, 0.002334943439240198), (3328, 0.053328763630874826), (3329, 0.03721009486094636), (3330, 0.002594293869795153), (3331, 0.036508619576584134), (3332, 0.0), (3333, 0.05477305181310336), (3334, 0.00764052985921181), (3335, 0.021492871817013932), (3336, 0.03595013461304185), (3337, 0.0030036428835747138), (3338, 0.0), (3339, 0.0), (3340, 0.0), (3341, 0.0026104488388731363), (3342, 0.00241724930935459), (3343, 0.0), (3344, 0.03392048615325626), (3345, 0.0), (3346, 0.03961519257024846), (3347, 0.0021848675641349354), (3348, 0.0025192320864004035), (3349, 0.0027007280973458656), (3350, 0.011985419370599415), (3351, 0.0027168703288692536), (3352, 0.0204564903316124), (3353, 0.002706335244144724), (3354, 0.0032774100912539507), (3355, 0.0029948479495604417), (3356, 0.01933368611632163), (3357, 0.0032357523391185875), (3358, 0.0031603337317389177), (3359, 0.04313227717467259), (3360, 0.04737158758627844), (3361, 0.0), (3362, 0.03162754780288285), (3363, 0.0032465543138497956), (3364, 0.0030051132381970175), (3365, 0.0018357575783363488), (3366, 0.0), (3367, 0.01946051308545539), (3368, 0.0), (3369, 0.0024011603697894224), (3370, 0.00957570458662517), (3371, 0.0), (3372, 0.0027339333966310557), (3373, 0.011103331536673606), (3374, 0.00979029648513264), (3375, 0.0), (3376, 0.01259716243471119), (3377, 0.052189475510324324), (3378, 0.06381472786317119), (3379, 0.002552158842570849), (3380, 0.03545561548951719), (3381, 0.0025720753996837315), (3382, 0.010293843498066706), (3383, 0.0), (3384, 0.008513628451598667), (3385, 0.0), (3386, 0.02155386747999751), (3387, 0.02061586237262015), (3388, 0.002742714802124025), (3389, 0.039249075092041376), (3390, 0.09020674048563104), (3391, 0.005803562092809516), (3392, 0.0264656793815132), (3393, 0.00223885791391798), (3394, 0.032562405073361014), (3395, 0.0), (3396, 0.0030026096403952887), (3397, 0.0), (3398, 0.0), (3399, 0.0024320372730242657), (3400, 0.0), (3401, 0.0), (3402, 0.002536724338982698), (3403, 0.06623582564900873), (3404, 0.0), (3405, 0.043294927553469656), (3406, 0.1854082416725458), (3407, 0.009261271607896845), (3408, 0.02459961697745102), (3409, 0.0022209139700278967), (3410, 0.0020947840731949724), (3411, 0.0), (3412, 0.00253882253664166), (3413, 0.017718939465204774), (3414, 0.002913960320293988), (3415, 0.043111953610933), (3416, 0.04428695212534102), (3417, 0.002867076925223127), (3418, 0.026585607795338955), (3419, 0.0030041282542477192), (3420, 0.0), (3421, 0.07517308967632139), (3422, 0.0), (3423, 0.002978597936330649), (3424, 0.0), (3425, 0.003016266988193339), (3426, 0.0), (3427, 0.0), (3428, 0.0), (3429, 0.0), (3430, 0.012279110879102426), (3431, 0.0020904138650189937), (3432, 0.0), (3433, 0.03760825848034246), (3434, 0.0027694140527675733), (3435, 0.021065378102356532), (3436, 0.002619895969309549), (3437, 0.010327419736492436), (3438, 0.0), (3439, 0.0), (3440, 0.0), (3441, 0.002581778283857502), (3442, 0.012886525450637535), (3443, 0.0), (3444, 0.0), (3445, 0.03000552491504681), (3446, 0.0), (3447, 0.0025437015186622895), (3448, 0.0), (3449, 0.0028129622894258106), (3450, 0.019891221086186857), (3451, 0.0), (3452, 0.0024273926979847134), (3453, 0.03618200221938127), (3454, 0.0), (3455, 0.0023902076870276926), (3456, 0.0), (3457, 0.0), (3458, 0.01457364245228791), (3459, 0.0), (3460, 0.01956083707352483), (3461, 0.04049354341528298), (3462, 0.019671214137946758), (3463, 0.01925818729677677), (3464, 0.028288638046869225), (3465, 0.09048883456532951), (3466, 0.03124794362322135), (3467, 0.0), (3468, 0.0), (3469, 0.0), (3470, 0.0), (3471, 0.016913552461276668), (3472, 0.0), (3473, 0.0), (3474, 0.019329292809324963), (3475, 0.0), (3476, 0.0), (3477, 0.002581283572148227), (3478, 0.0026031651537748953), (3479, 0.0034764544448538303), (3480, 0.025212462154264433), (3481, 0.0), (3482, 0.0), (3483, 0.031017199304851778), (3484, 0.016158489247809178), (3485, 0.0), (3486, 0.0), (3487, 0.0025028518037128367), (3488, 0.0), (3489, 0.0), (3490, 0.0), (3491, 0.0026133787870281874), (3492, 0.0025999559367243597), (3493, 0.0639279784458414), (3494, 0.0), (3495, 0.0), (3496, 0.0027942423774116906), (3497, 0.002844225022825515), (3498, 0.038162079005125055), (3499, 0.002557311137950699), (3500, 0.0024151060374922907), (3501, 0.014995311725685892), (3502, 0.0), (3503, 0.002496173273553045), (3504, 0.009448976646838159), (3505, 0.0), (3506, 0.0030023392601523304), (3507, 0.043250182052816596), (3508, 0.02541071543323794), (3509, 0.0), (3510, 0.020126291560873935), (3511, 0.015528516679992884), (3512, 0.003991717807266845), (3513, 0.0), (3514, 0.0027176098102713736), (3515, 0.0), (3516, 0.0028311171533724313), (3517, 0.015274354582705648), (3518, 0.0), (3519, 0.0), (3520, 0.0), (3521, 0.0032069687554498404), (3522, 0.0), (3523, 0.003731689411678079), (3524, 0.025027838582770696), (3525, 0.026732248832905238), (3526, 0.002664047914536818), (3527, 0.0026908677511227014), (3528, 0.017197407696216055), (3529, 0.0), (3530, 0.0), (3531, 0.007043520718972969), (3532, 0.0), (3533, 0.03806715841903971), (3534, 0.004298996992032334), (3535, 0.008599049376001032), (3536, 0.002701016954489349), (3537, 0.0032288221482449273), (3538, 0.00207567265575148), (3539, 0.04638395967179098), (3540, 0.06381558138789234), (3541, 0.07252744013239223), (3542, 0.002663420112862666), (3543, 0.0), (3544, 0.003168711635310413), (3545, 0.0), (3546, 0.03994657083090878), (3547, 0.0), (3548, 0.03500360205195298), (3549, 0.0), (3550, 0.03200914947187271), (3551, 0.0026273251496129702), (3552, 0.004233771407135246), (3553, 0.00977717623010743), (3554, 0.0), (3555, 0.0), (3556, 0.00232756519349188), (3557, 0.0025527269245986077), (3558, 0.002403270372560125), (3559, 0.03452777301343898), (3560, 0.002924890216853588), (3561, 0.003528847619227866), (3562, 0.0), (3563, 0.0023725438309993418), (3564, 0.002613258741714043), (3565, 0.0025762747459962803), (3566, 0.0), (3567, 0.0), (3568, 0.0), (3569, 0.0022318810646861347), (3570, 0.033744890005028554), (3571, 0.0026618826534571378), (3572, 0.0), (3573, 0.0), (3574, 0.0), (3575, 0.00210303533109424), (3576, 0.0), (3577, 0.003217073910836665), (3578, 0.0), (3579, 0.002222004010871691), (3580, 0.01829077928965665), (3581, 0.0), (3582, 0.006995752988658234), (3583, 0.0), (3584, 0.0), (3585, 0.0), (3586, 0.007815236841453473), (3587, 0.002932380999220191), (3588, 0.0), (3589, 0.018993624940719937), (3590, 0.00276520559360318), (3591, 0.0), (3592, 0.0), (3593, 0.0029059087386328567), (3594, 0.03062730355541854), (3595, 0.0), (3596, 0.021805455889795617), (3597, 0.03397056263923074), (3598, 0.0), (3599, 0.002718018572239358), (3600, 0.0), (3601, 0.002776227689051299), (3602, 0.01910470647204241), (3603, 0.0), (3604, 0.0), (3605, 0.0), (3606, 0.02742819518034109), (3607, 0.0), (3608, 0.001695566720666873), (3609, 0.03284176688782873), (3610, 0.0), (3611, 0.024169920050476926), (3612, 0.009868832936097882), (3613, 0.0032108241272581248), (3614, 0.06994828276378838), (3615, 0.013891830757245881), (3616, 0.003237132913081818), (3617, 0.0), (3618, 0.0027593143165889882), (3619, 0.032520563799942726), (3620, 0.003169847685824135), (3621, 0.0030631584589507653), (3622, 0.0), (3623, 0.0026853778614864404), (3624, 0.0025790370580021107), (3625, 0.0), (3626, 0.011317863285839329), (3627, 0.01958020934528454), (3628, 0.0), (3629, 0.002235628527831805), (3630, 0.0), (3631, 0.0), (3632, 0.0), (3633, 0.0), (3634, 0.0022009574229354665), (3635, 0.00351949231642616), (3636, 0.0026826614884376504), (3637, 0.06701687850060756), (3638, 0.0032455483717024956), (3639, 0.002979238463093199), (3640, 0.011001828071126703), (3641, 0.0025140764785995125), (3642, 0.010697568553767493), (3643, 0.0026445412270356796), (3644, 0.0), (3645, 0.007435725807836006), (3646, 0.002461457798306699), (3647, 0.0025611738040308032), (3648, 0.0), (3649, 0.0), (3650, 0.039786528357752385), (3651, 0.002977910624685983), (3652, 0.008023995332386036), (3653, 0.015037713875991983), (3654, 0.002737738059609308), (3655, 0.002265459058506808), (3656, 0.01950279019175895), (3657, 0.00219676691752363), (3658, 0.006102229210341851), (3659, 0.05070986340024548), (3660, 0.06590272505046221), (3661, 0.0029688913812815697), (3662, 0.052085037820636844), (3663, 0.0), (3664, 0.0), (3665, 0.02111160916088357), (3666, 0.0027028922349556887), (3667, 0.003980445196197142), (3668, 0.002203368224189521), (3669, 0.002206056358072959), (3670, 0.009949398491983582), (3671, 0.0), (3672, 0.0036990331363135867), (3673, 0.014692274922745944), (3674, 0.006129958164310071), (3675, 0.011759578045036068), (3676, 0.0), (3677, 0.0028574417793938416), (3678, 0.023439730132202376), (3679, 0.0), (3680, 0.0029436644586338834), (3681, 0.013486622970271813), (3682, 0.0), (3683, 0.0), (3684, 0.0063023068002001454), (3685, 0.0), (3686, 0.03655462469094804), (3687, 0.003251372004768756), (3688, 0.045006516607175605), (3689, 0.0026925690776130867), (3690, 0.0), (3691, 0.0024770266423977945), (3692, 0.0028028362657900544), (3693, 0.0), (3694, 0.010676263963832477), (3695, 0.0), (3696, 0.014226504134117088), (3697, 0.029409508606166458), (3698, 0.032244417258466336), (3699, 0.029032014055214994), (3700, 0.0), (3701, 0.002668722796015166), (3702, 0.02552387642052454), (3703, 0.0), (3704, 0.0028131121568657686), (3705, 0.002355556876007869), (3706, 0.0025404989207856834), (3707, 0.0026494243901364414), (3708, 0.00838462119777488), (3709, 0.0), (3710, 0.0), (3711, 0.006690764871010475), (3712, 0.0), (3713, 0.006054591209934766), (3714, 0.002845339058491765), (3715, 0.0), (3716, 0.01923677384684307), (3717, 0.0), (3718, 0.0), (3719, 0.002540829083807026), (3720, 0.0), (3721, 0.0), (3722, 0.012491036170698694), (3723, 0.0), (3724, 0.0), (3725, 0.002423847633167668), (3726, 0.0), (3727, 0.002581008951102946), (3728, 0.0027836563945319004), (3729, 0.003016829238315741), (3730, 0.0), (3731, 0.006192979064642787), (3732, 0.0), (3733, 0.0024792638721271043), (3734, 0.0024552321417906247), (3735, 0.0), (3736, 0.0), (3737, 0.023629952126409573), (3738, 0.04149342829543606), (3739, 0.0026317779455487214), (3740, 0.0), (3741, 0.008435387853164219), (3742, 0.002377783477061024), (3743, 0.0), (3744, 0.0), (3745, 0.0030622053421468986), (3746, 0.011959402730328436), (3747, 0.019717904157398287), (3748, 0.0), (3749, 0.03194521506763423), (3750, 0.0), (3751, 0.0021395999600484507), (3752, 0.027234713599767035), (3753, 0.0), (3754, 0.0030189122240128247), (3755, 0.0023006556428747907), (3756, 0.008069429511342435), (3757, 0.0028080619067073673), (3758, 0.0), (3759, 0.0), (3760, 0.0), (3761, 0.0), (3762, 0.0033913757503027083), (3763, 0.003067897265484867), (3764, 0.0), (3765, 0.0025286654020620857), (3766, 0.011764396513777356), (3767, 0.0023912678090360203), (3768, 0.020857895823194167), (3769, 0.0), (3770, 0.002722170959730123), (3771, 0.002819546609794616), (3772, 0.002962387046957677), (3773, 0.0), (3774, 0.019991078809143293), (3775, 0.006739038089233209), (3776, 0.0), (3777, 0.010423099480508598), (3778, 0.0027039534588787976), (3779, 0.0031434015550065694), (3780, 0.0027794527565007535), (3781, 0.015806113197666536), (3782, 0.03691111422210372), (3783, 0.0), (3784, 0.0024777739830080595), (3785, 0.0), (3786, 0.0), (3787, 0.0), (3788, 0.0), (3789, 0.0), (3790, 0.0), (3791, 0.03657973867845914), (3792, 0.021520682548122574), (3793, 0.0), (3794, 0.006878169651866253), (3795, 0.0023285987053083992), (3796, 0.0), (3797, 0.12528019301994642), (3798, 0.0), (3799, 0.0024675872568413865), (3800, 0.0), (3801, 0.008838409414830575), (3802, 0.020442166653202608), (3803, 0.0), (3804, 0.002903851729588048), (3805, 0.0), (3806, 0.01574959946050345), (3807, 0.02838442466330764), (3808, 0.05785879693034392), (3809, 0.015114466054836533), (3810, 0.0), (3811, 0.0024540318314693094), (3812, 0.0), (3813, 0.00284031512411932), (3814, 0.018362754501735617), (3815, 0.0), (3816, 0.02127804321629475), (3817, 0.0), (3818, 0.0), (3819, 0.06452592017160112), (3820, 0.021965977209760335), (3821, 0.0021831263025693087), (3822, 0.0029228897432885302), (3823, 0.0), (3824, 0.011595356700324204), (3825, 0.0), (3826, 0.0025026115688233136), (3827, 0.0025523367363594306), (3828, 0.012476325121189876), (3829, 0.013712881038503029), (3830, 0.01644759703461223), (3831, 0.0), (3832, 0.0031779127738965638), (3833, 0.037918265610599966), (3834, 0.0), (3835, 0.008884722152270354), (3836, 0.0), (3837, 0.0), (3838, 0.0), (3839, 0.030826460564526405), (3840, 0.0), (3841, 0.0023344716185349475), (3842, 0.02360178178981872), (3843, 0.029487848827093717), (3844, 0.0), (3845, 0.00271522179480513), (3846, 0.0), (3847, 0.019335575220201306), (3848, 0.003302599675493052), (3849, 0.007542533592589928), (3850, 0.0), (3851, 0.0), (3852, 0.0746406706559333), (3853, 0.035255617591530654), (3854, 0.009122689965723381), (3855, 0.0022088130141444083), (3856, 0.04912919733464386), (3857, 0.04739957685128054), (3858, 0.0), (3859, 0.0), (3860, 0.02525872993768434), (3861, 0.010757513450615295), (3862, 0.07137406900216314), (3863, 0.013256142751301804), (3864, 0.03166305502996648), (3865, 0.0), (3866, 0.07349330091631952), (3867, 0.039375070332750804), (3868, 0.0203538211596732), (3869, 0.0), (3870, 0.06718004921026442), (3871, 0.05438986530132291), (3872, 0.017989862233208608), (3873, 0.002783511685961348), (3874, 0.003183239267855814), (3875, 0.0021158599353080154), (3876, 0.058525648596547096), (3877, 0.002898339011124293), (3878, 0.0034213544773535466), (3879, 0.0), (3880, 0.002271105009716788), (3881, 0.0), (3882, 0.0283120595119866), (3883, 0.011245025077981186), (3884, 0.00302872857416389), (3885, 0.0), (3886, 0.03309370781159131), (3887, 0.0), (3888, 0.009760968626571102), (3889, 0.023069965103076913), (3890, 0.026025512163476917), (3891, 0.0), (3892, 0.0033840156195621097), (3893, 0.002812190908032536), (3894, 0.0022830268269808983), (3895, 0.01928763148707705), (3896, 0.0), (3897, 0.0), (3898, 0.002470305047749034), (3899, 0.02635992115761979), (3900, 0.002503176530093255), (3901, 0.00313941095477884), (3902, 0.0027085211684519015), (3903, 0.0029817037670072898), (3904, 0.0027843532095799184), (3905, 0.007681505859202417), (3906, 0.014514156848782976), (3907, 0.0), (3908, 0.0), (3909, 0.04865766168808634), (3910, 0.01867557165061303), (3911, 0.044286632679100824), (3912, 0.05204161819198126), (3913, 0.00240323391311677), (3914, 0.0), (3915, 0.02310517068303986), (3916, 0.04340514908563034), (3917, 0.0025041082991978988), (3918, 0.0), (3919, 0.022237070313920006), (3920, 0.03887413803969241), (3921, 0.0), (3922, 0.0032135317371153466), (3923, 0.0), (3924, 0.010844261902481975), (3925, 0.0038747329658151246), (3926, 0.01216838219506387), (3927, 0.002166736249599557), (3928, 0.0021744529924191233), (3929, 0.0), (3930, 0.0), (3931, 0.0), (3932, 0.004801949937679305), (3933, 0.0), (3934, 0.0), (3935, 0.0030674329659207173), (3936, 0.0), (3937, 0.0), (3938, 0.0202418694430301), (3939, 0.0034671093506545535), (3940, 0.0), (3941, 0.009244586312466052), (3942, 0.0), (3943, 0.033007115679816824), (3944, 0.027777380630437973), (3945, 0.007580133030585554), (3946, 0.016894589424258016), (3947, 0.04543811305193099), (3948, 0.04503811627144045), (3949, 0.009982395173339258), (3950, 0.0), (3951, 0.03891595736294764), (3952, 0.0029852618344911605), (3953, 0.002368507650812214), (3954, 0.0024568082852948693), (3955, 0.0), (3956, 1.0000000000000002), (3957, 0.0021456508797134304), (3958, 0.01600972054787969), (3959, 0.05613016715869621), (3960, 0.0029511735245511266), (3961, 0.010888607071924603), (3962, 0.0029236140440050003), (3963, 0.0), (3964, 0.0), (3965, 0.0664785972269992), (3966, 0.0), (3967, 0.03831632718437694), (3968, 0.0), (3969, 0.0), (3970, 0.0), (3971, 0.0), (3972, 0.0), (3973, 0.02345853260338447), (3974, 0.0023429959440673205), (3975, 0.0), (3976, 0.020244250414355413), (3977, 0.0), (3978, 0.04179872001410014), (3979, 0.09761325150569394), (3980, 0.0), (3981, 0.0), (3982, 0.0), (3983, 0.05080194556553344), (3984, 0.010374819840961986), (3985, 0.017846811179993278), (3986, 0.04922962773768734), (3987, 0.0027725479801127277), (3988, 0.0), (3989, 0.0), (3990, 0.0035931090942399437), (3991, 0.0), (3992, 0.04012686987608929), (3993, 0.006709484314451126), (3994, 0.0), (3995, 0.0), (3996, 0.0), (3997, 0.0), (3998, 0.0), (3999, 0.01214700387986931), (4000, 0.009785104158726188), (4001, 0.05102477346926757), (4002, 0.0030231476577998583), (4003, 0.022752161380019193), (4004, 0.010004527990036528), (4005, 0.0027815545107902394), (4006, 0.018657978140622884), (4007, 0.010325847526739073), (4008, 0.0), (4009, 0.0), (4010, 0.0), (4011, 0.0024447609037890864), (4012, 0.0), (4013, 0.0028341422998036585), (4014, 0.002633875312876108), (4015, 0.045134032391938944), (4016, 0.002595992167002668), (4017, 0.003532519650404821), (4018, 0.015912022008388184), (4019, 0.0033745394751174235), (4020, 0.020868929295106982), (4021, 0.0), (4022, 0.05298246910338607), (4023, 0.0030741911907985397), (4024, 0.0028111470426566156), (4025, 0.002700634659596394), (4026, 0.0), (4027, 0.0), (4028, 0.022690923796504624), (4029, 0.018295462618766724), (4030, 0.0030469049886971368), (4031, 0.0), (4032, 0.0030375197354493813), (4033, 0.06414650162139039), (4034, 0.0), (4035, 0.0), (4036, 0.002543520770082105), (4037, 0.029128902547144158), (4038, 0.05724109191304217), (4039, 0.0), (4040, 0.025072224901805846), (4041, 0.061854756424596966), (4042, 0.0028751439546791605), (4043, 0.060065879265039604), (4044, 0.0), (4045, 0.027394957425659745), (4046, 0.0028537661727052774), (4047, 0.04414600229263389), (4048, 0.010799661637743601), (4049, 0.0026419252099119093), (4050, 0.020622875034190923), (4051, 0.0029042105036379794), (4052, 0.0027512273235183915), (4053, 0.008951483594937843), (4054, 0.08071147386764879), (4055, 0.023120470601930274), (4056, 0.021157187648450974), (4057, 0.022784500328459308), (4058, 0.0), (4059, 0.04987242052938002), (4060, 0.009801110440100798), (4061, 0.0), (4062, 0.0031529634536954796), (4063, 0.08399166067364125), (4064, 0.0), (4065, 0.0), (4066, 0.002286071419663193), (4067, 0.027417409497222704), (4068, 0.010022181685712938), (4069, 0.0025143728084023246), (4070, 0.0), (4071, 0.0), (4072, 0.0), (4073, 0.0), (4074, 0.019143426997278522), (4075, 0.003037462949291619), (4076, 0.0), (4077, 0.0), (4078, 0.0), (4079, 0.0026985491507572224), (4080, 0.0023340649541302703), (4081, 0.002617567075743459), (4082, 0.0036774191313795434), (4083, 0.0027177283406331996), (4084, 0.04122192104901636), (4085, 0.0024776205238373076), (4086, 0.0), (4087, 0.002829824676850287), (4088, 0.014883965393134895), (4089, 0.09869405962074199), (4090, 0.0), (4091, 0.0), (4092, 0.002945895088418926), (4093, 0.007428375463646136), (4094, 0.007782597692333046), (4095, 0.03102733126106999), (4096, 0.0062913051604210745), (4097, 0.0), (4098, 0.028943927917164426), (4099, 0.052097366282215174), (4100, 0.0), (4101, 0.002841214294867897), (4102, 0.0033052177932222427), (4103, 0.0), (4104, 0.013076025251620781), (4105, 0.00815132408968554), (4106, 0.010876721244542512), (4107, 0.003214351885114852), (4108, 0.0), (4109, 0.0), (4110, 0.0), (4111, 0.015792322115095105), (4112, 0.0), (4113, 0.0028913519185949387), (4114, 0.0), (4115, 0.0), (4116, 0.01075515750557641), (4117, 0.0029715623230087474), (4118, 0.007831068480567182), (4119, 0.0), (4120, 0.0), (4121, 0.008259450019328641), (4122, 0.009018759393324636), (4123, 0.010416233224175077), (4124, 0.00933454280419653), (4125, 0.040782331498844616), (4126, 0.0030291430218329974), (4127, 0.0), (4128, 0.0), (4129, 0.002519675522175885), (4130, 0.0028452364589945075), (4131, 0.0), (4132, 0.0028020092564349348), (4133, 0.0028384554813755567), (4134, 0.0), (4135, 0.0026400822190499476), (4136, 0.0027117987734050913), (4137, 0.002627053203072841), (4138, 0.04476456931074453), (4139, 0.0025137562272192), (4140, 0.03201214214161827), (4141, 0.015270515681680944), (4142, 0.0033281483440441937), (4143, 0.0023399610827235452), (4144, 0.0), (4145, 0.0030578652949909786), (4146, 0.0), (4147, 0.04162098051617591), (4148, 0.06995862573038594), (4149, 0.0), (4150, 0.021191964635383455), (4151, 0.004472584744298975), (4152, 0.052201863731760785), (4153, 0.034025361211085195), (4154, 0.0023522480265707026), (4155, 0.0388844453378277), (4156, 0.0022818722004681355), (4157, 0.0), (4158, 0.0), (4159, 0.03499292206988848), (4160, 0.0029186328597235983), (4161, 0.002800484447311413), (4162, 0.0), (4163, 0.003018058645378673), (4164, 0.006631919098427922), (4165, 0.006696804394459702), (4166, 0.0), (4167, 0.0), (4168, 0.0), (4169, 0.022659366096693646), (4170, 0.0), (4171, 0.0018397560167767377), (4172, 0.003441418311944467), (4173, 0.02203701322803372), (4174, 0.03253575109330685), (4175, 0.002771881850731128), (4176, 0.01956001322407325), (4177, 0.017159344903297364), (4178, 0.0707485763810423), (4179, 0.0), (4180, 0.0), (4181, 0.0), (4182, 0.01821341986408948), (4183, 0.09279060690273415), (4184, 0.0072915359086117085), (4185, 0.0), (4186, 0.011121008146386915), (4187, 0.08058359630838202), (4188, 0.0), (4189, 0.0100908545183423), (4190, 0.0), (4191, 0.05902895213134327), (4192, 0.009552910900314637), (4193, 0.01697787190617872), (4194, 0.0), (4195, 0.0), (4196, 0.0), (4197, 0.027423964549161968), (4198, 0.0), (4199, 0.0), (4200, 0.0021522631094271407), (4201, 0.0), (4202, 0.003639959818354892), (4203, 0.011435048743816914), (4204, 0.0), (4205, 0.0023251415609329925), (4206, 0.002472700458412756), (4207, 0.0), (4208, 0.0), (4209, 0.0031898613834702395), (4210, 0.03203055070630617), (4211, 0.0), (4212, 0.0), (4213, 0.0024753218859153636), (4214, 0.0), (4215, 0.0), (4216, 0.02505965780445549), (4217, 0.0), (4218, 0.0), (4219, 0.0), (4220, 0.002296444270636675), (4221, 0.0034804216744423896), (4222, 0.0034912096505501722), (4223, 0.0), (4224, 0.0), (4225, 0.002732611718093837), (4226, 0.02040965623270658), (4227, 0.008016572445479323), (4228, 0.0025717814415640314), (4229, 0.0), (4230, 0.003335444724847961), (4231, 0.010523387348183009), (4232, 0.03086112621223967), (4233, 0.02950678952104121), (4234, 0.0), (4235, 0.0066537479894815685), (4236, 0.0), (4237, 0.01833692988363857), (4238, 0.0), (4239, 0.0), (4240, 0.0), (4241, 0.06048167950657654), (4242, 0.021277284215115787), (4243, 0.0029634927325952183), (4244, 0.01130160845172362), (4245, 0.0158497358479374), (4246, 0.01621632780104148), (4247, 0.00228797803537673), (4248, 0.0), (4249, 0.0026859171570237134), (4250, 0.0), (4251, 0.0), (4252, 0.0), (4253, 0.1366794103855924), (4254, 0.019870102650343734), (4255, 0.00263887988092255), (4256, 0.0272020509093758), (4257, 0.0024522503836795937), (4258, 0.0), (4259, 0.002891509261674125), (4260, 0.0), (4261, 0.0053877548105321655), (4262, 0.02208459742014268), (4263, 0.046114880058486206), (4264, 0.026306917303316833), (4265, 0.007685361033997849), (4266, 0.0026267676872657347), (4267, 0.0029891306758377564), (4268, 0.009825218796570289), (4269, 0.002792237382310243), (4270, 0.0), (4271, 0.0), (4272, 0.0), (4273, 0.002663850097987366), (4274, 0.017118425916686636), (4275, 0.019356852306183777), (4276, 0.0), (4277, 0.021988987620514686), (4278, 0.0), (4279, 0.0), (4280, 0.06484386545139602), (4281, 0.021577014521436705), (4282, 0.0023962280888697313), (4283, 0.002653514817241652), (4284, 0.0025541836097769033), (4285, 0.0), (4286, 0.06196674391322624), (4287, 0.002689387871292792), (4288, 0.05067256742580223), (4289, 0.04440585129167663), (4290, 0.0), (4291, 0.0), (4292, 0.017589523548238128), (4293, 0.011008204746041042), (4294, 0.0), (4295, 0.016842901315878022), (4296, 0.00226746233844294), (4297, 0.017006790769104115), (4298, 0.00319359300316834), (4299, 0.03899095822546857), (4300, 0.0), (4301, 0.0019313403121179564), (4302, 0.0), (4303, 0.0), (4304, 0.05678750632746428), (4305, 0.0), (4306, 0.0032183418876900655), (4307, 0.0), (4308, 0.0028547327681944477), (4309, 0.02076223330683318), (4310, 0.0), (4311, 0.002114926251404017), (4312, 0.0), (4313, 0.0), (4314, 0.0), (4315, 0.0), (4316, 0.0), (4317, 0.0), (4318, 0.0027507274838352675), (4319, 0.0), (4320, 0.0025965481675226582), (4321, 0.09624775885115419), (4322, 0.0), (4323, 0.0), (4324, 0.020696094213789772), (4325, 0.006735658460691936), (4326, 0.0023866313561401917), (4327, 0.030033771289458357), (4328, 0.032191576897011145), (4329, 0.03164338496317719), (4330, 0.002604610790083445), (4331, 0.0), (4332, 0.0), (4333, 0.0029292023284668593), (4334, 0.00269050204768985), (4335, 0.008271523413572127), (4336, 0.002514427775620324), (4337, 0.04359867675430086), (4338, 0.0), (4339, 0.0), (4340, 0.0026923305242106065), (4341, 0.0), (4342, 0.0), (4343, 0.00230253703148918), (4344, 0.0022252194260271954), (4345, 0.002469212039773317), (4346, 0.0), (4347, 0.0), (4348, 0.0023939243550865617), (4349, 0.0025597160694616167), (4350, 0.002346340053171436), (4351, 0.0), (4352, 0.0), (4353, 0.0), (4354, 0.002723182043229314), (4355, 0.0027732414533073583), (4356, 0.002420960945329325), (4357, 0.00277486359740755), (4358, 0.010718706997870843), (4359, 0.03646503885488453), (4360, 0.0), (4361, 0.0027083169410780884), (4362, 0.01444449932776502), (4363, 0.0027264299968714377), (4364, 0.0), (4365, 0.01711399411263628), (4366, 0.0065295237129897685), (4367, 0.0), (4368, 0.0029297242297346357), (4369, 0.02447314502790292), (4370, 0.0), (4371, 0.022693108989282063), (4372, 0.0), (4373, 0.0), (4374, 0.05141800495706847), (4375, 0.05227869291041102), (4376, 0.0), (4377, 0.0), (4378, 0.0), (4379, 0.010221141635948384), (4380, 0.027144177854480398), (4381, 0.0025236609891045665), (4382, 0.03629059618115065), (4383, 0.0), (4384, 0.0), (4385, 0.0), (4386, 0.0022451123493389194), (4387, 0.00961916667280693), (4388, 0.0), (4389, 0.0), (4390, 0.007546231226926873), (4391, 0.0026307470176514117), (4392, 0.0), (4393, 0.0), (4394, 0.07270983843537626), (4395, 0.0025324689726550632), (4396, 0.016504675852549455), (4397, 0.0028971256516180897), (4398, 0.003008010059800723), (4399, 0.02010370104311883), (4400, 0.003318442627217932), (4401, 0.11804314264374285), (4402, 0.0024070601225408337), (4403, 0.036368812320650645), (4404, 0.019073399578265423), (4405, 0.0), (4406, 0.0), (4407, 0.0034049988843682833), (4408, 0.0), (4409, 0.002587759646522677), (4410, 0.012785210734672777), (4411, 0.012638079415403437), (4412, 0.003049383470772043), (4413, 0.0), (4414, 0.0), (4415, 0.0), (4416, 0.0030641730120602247), (4417, 0.0), (4418, 0.0034188784187395437), (4419, 0.0027137964329539497), (4420, 0.022314276574184437), (4421, 0.02536396431957419), (4422, 0.015244700626479766), (4423, 0.003375581169462137), (4424, 0.0), (4425, 0.0), (4426, 0.016013339189073165), (4427, 0.02124825915125428), (4428, 0.002471834127393493), (4429, 0.0022602166429054387), (4430, 0.0027254868771225665), (4431, 0.0027839212311667177), (4432, 0.002278475658038367), (4433, 0.03416392049971774), (4434, 0.0), (4435, 0.009912124086796046), (4436, 0.007830621594186012), (4437, 0.0), (4438, 0.0), (4439, 0.0), (4440, 0.0566898788442504), (4441, 0.0), (4442, 0.009568703968910084), (4443, 0.00318892735289237), (4444, 0.0034099951352811173), (4445, 0.001954216482756833), (4446, 0.002855623559215355), (4447, 0.0), (4448, 0.002718571344969111), (4449, 0.0), (4450, 0.006437343466654111), (4451, 0.03782382876456705), (4452, 0.0), (4453, 0.0), (4454, 0.022415987805921), (4455, 0.0), (4456, 0.0), (4457, 0.0), (4458, 0.003104671424498284), (4459, 0.0), (4460, 0.0), (4461, 0.0025060306999817204), (4462, 0.0), (4463, 0.0), (4464, 0.0), (4465, 0.05022375491498545), (4466, 0.019439824868728906), (4467, 0.0), (4468, 0.0), (4469, 0.012325760428584385), (4470, 0.0026838298483275783), (4471, 0.002760476990524252), (4472, 0.002516349776222239), (4473, 0.0022671815825007747), (4474, 0.010387114864906347), (4475, 0.008871141342903342), (4476, 0.002227527852230325), (4477, 0.011525212366900963), (4478, 0.0), (4479, 0.013586804692396384), (4480, 0.0), (4481, 0.0069383577648265615), (4482, 0.018516275127841104), (4483, 0.0), (4484, 0.003470748009789139), (4485, 0.03535469648037358), (4486, 0.007527072548304794), (4487, 0.002564662248165529), (4488, 0.0), (4489, 0.002760893341675505), (4490, 0.07429940210180025), (4491, 0.0), (4492, 0.0), (4493, 0.0), (4494, 0.0029408093619074415), (4495, 0.002788274672346665), (4496, 0.0), (4497, 0.002725383697891023), (4498, 0.0458990214836922), (4499, 0.0), (4500, 0.0), (4501, 0.0026299998869383197), (4502, 0.009010036810176827), (4503, 0.009949199741486845), (4504, 0.002512439574517877), (4505, 0.0027554365314131244), (4506, 0.0), (4507, 0.07323319243375195), (4508, 0.0), (4509, 0.0), (4510, 0.06177447013991166), (4511, 0.014672523362982453), (4512, 0.008136810884410678), (4513, 0.0), (4514, 0.0), (4515, 0.0), (4516, 0.0029850427032953033), (4517, 0.021400805605065625), (4518, 0.0), (4519, 0.0), (4520, 0.0025769600839726666), (4521, 0.0032492256026774705), (4522, 0.002836857405323173), (4523, 0.07281481022955202), (4524, 0.0), (4525, 0.0), (4526, 0.0), (4527, 0.0), (4528, 0.002827032711308926), (4529, 0.0034903046110405602), (4530, 0.014427372853823093), (4531, 0.010932818815108216), (4532, 0.09959294280238867), (4533, 0.0026641907623290956), (4534, 0.01815729952143334), (4535, 0.0029136372577665895), (4536, 0.0024870398747682174), (4537, 0.0), (4538, 0.0), (4539, 0.0), (4540, 0.002797093208509162), (4541, 0.0), (4542, 0.01845760853192343), (4543, 0.006994680722608414), (4544, 0.0032473974370017793), (4545, 0.0028170248422750657), (4546, 0.003364854039576954), (4547, 0.0), (4548, 0.0), (4549, 0.0), (4550, 0.0025236057964711065), (4551, 0.010917595447202541), (4552, 0.0), (4553, 0.006349802074984213), (4554, 0.04219721390188336), (4555, 0.003923338314048793), (4556, 0.0), (4557, 0.027506336902969837), (4558, 0.0106447265526626), (4559, 0.0), (4560, 0.0), (4561, 0.0), (4562, 0.0), (4563, 0.0026693508807741563), (4564, 0.01870834242465373), (4565, 0.0), (4566, 0.0027441602996582048), (4567, 0.0024879442446905007), (4568, 0.0), (4569, 0.0), (4570, 0.0), (4571, 0.004136479224305415), (4572, 0.0031948389985301784), (4573, 0.0025235441009223702), (4574, 0.06826703127517664), (4575, 0.0027543229128739848), (4576, 0.02140033845081557), (4577, 0.0), (4578, 0.0), (4579, 0.002805880450314133), (4580, 0.0), (4581, 0.007329541698179651), (4582, 0.07292614770765178), (4583, 0.018862402139095277), (4584, 0.003060392387891905), (4585, 0.018180925263536766), (4586, 0.0), (4587, 0.01779296790375275), (4588, 0.0), (4589, 0.0030468898026007538), (4590, 0.0023309787175928892), (4591, 0.002421079274656098), (4592, 0.0), (4593, 0.0028946312242966207), (4594, 0.0030661761603110473), (4595, 0.0), (4596, 0.0), (4597, 0.022512323639357252), (4598, 0.04749378028819952), (4599, 0.0), (4600, 0.01778114441244491), (4601, 0.0028492734953412284), (4602, 0.02417392542868136), (4603, 0.00242822508541545), (4604, 0.0026172200464234623), (4605, 0.01638628375393465), (4606, 0.0032955927882970595), (4607, 0.0037800790744109323), (4608, 0.0023100545098061307), (4609, 0.012232373958514568), (4610, 0.008279424484531528), (4611, 0.0034697895045722347), (4612, 0.0032406871862923356), (4613, 0.0), (4614, 0.05386458563223715), (4615, 0.0), (4616, 0.013627245746579471), (4617, 0.013492301387740567), (4618, 0.0), (4619, 0.010884462890202659), (4620, 0.020131332668375294), (4621, 0.0), (4622, 0.0), (4623, 0.0072356794586715106), (4624, 0.0027297126541012866), (4625, 0.002702894445965176), (4626, 0.0021046327342991956), (4627, 0.002233680317136339), (4628, 0.038538545929701136), (4629, 0.002715591250732809), (4630, 0.0), (4631, 0.0), (4632, 0.0030689783456872774), (4633, 0.07178031730176365), (4634, 0.0024290348764600066), (4635, 0.0), (4636, 0.002195242109401173), (4637, 0.01170588477241213), (4638, 0.0023746057030628698), (4639, 0.0), (4640, 0.0333724358350452), (4641, 0.0025429735252281674), (4642, 0.0), (4643, 0.0026776919068261782), (4644, 0.08787418339000888), (4645, 0.0), (4646, 0.0), (4647, 0.010985730515454548), (4648, 0.0), (4649, 0.0023906382310678377), (4650, 0.0029999801226347988), (4651, 0.0), (4652, 0.0019897323458028917), (4653, 0.022825309648951367), (4654, 0.0), (4655, 0.0), (4656, 0.007830699214326746), (4657, 0.1016816089844609), (4658, 0.009484096476882935), (4659, 0.0), (4660, 0.0032100124004082694), (4661, 0.0023074789571432613), (4662, 0.0), (4663, 0.02653396718756064), (4664, 0.0), (4665, 0.0), (4666, 0.0), (4667, 0.0), (4668, 0.002564985790464564), (4669, 0.010744372307917908), (4670, 0.002493573302227387), (4671, 0.0), (4672, 0.0), (4673, 0.03438210863153001), (4674, 0.0020907763829159454), (4675, 0.0), (4676, 0.0), (4677, 0.06444214701638794), (4678, 0.0), (4679, 0.015057314783575847), (4680, 0.0027832834804538873), (4681, 0.0), (4682, 0.0), (4683, 0.018731847320448147), (4684, 0.026462113338601764), (4685, 0.0025557204634312986), (4686, 0.0026190294834016426), (4687, 0.002545361249019702), (4688, 0.021252262203589906), (4689, 0.0), (4690, 0.0), (4691, 0.043422706679820636), (4692, 0.0032494510724949185), (4693, 0.002528634662891598), (4694, 0.003058636638098271), (4695, 0.0), (4696, 0.0034103521715461347), (4697, 0.0), (4698, 0.0), (4699, 0.024000966009787593), (4700, 0.0), (4701, 0.0031025374268751262), (4702, 0.0), (4703, 0.061319625697141715), (4704, 0.0035562344126790113), (4705, 0.003721842644009271), (4706, 0.002892082630532519), (4707, 0.008133581641388228), (4708, 0.0), (4709, 0.00987075698449443), (4710, 0.003290453811522176), (4711, 0.0), (4712, 0.06505058696911005), (4713, 0.0030134551385632446), (4714, 0.0), (4715, 0.03715815387235162), (4716, 0.0), (4717, 0.0030737667820686415), (4718, 0.0029195265459660636), (4719, 0.005041741610219134), (4720, 0.023582974053818352), (4721, 0.023235292580039195), (4722, 0.05643229331135091), (4723, 0.003182797735882401), (4724, 0.012160721243643062), (4725, 0.0), (4726, 0.015226207285113976), (4727, 0.007801194209405137), (4728, 0.0), (4729, 0.00250047195467559), (4730, 0.0), (4731, 0.002947324667864787), (4732, 0.002839283263036916), (4733, 0.002172043092152407), (4734, 0.002813212074387441), (4735, 0.011673639808082519), (4736, 0.0), (4737, 0.057757547819266425), (4738, 0.0), (4739, 0.020116923427166138), (4740, 0.04534388063586901), (4741, 0.0), (4742, 0.0), (4743, 0.0025399546984415785), (4744, 0.0021102619198517143), (4745, 0.0), (4746, 0.0), (4747, 0.008357506279563595), (4748, 0.0022545107856798917), (4749, 0.0034935322406976746), (4750, 0.0), (4751, 0.0), (4752, 0.0018646603215131752), (4753, 0.0029683220313697373), (4754, 0.0), (4755, 0.0), (4756, 0.0027019815024624293), (4757, 0.0027336975494391728), (4758, 0.0), (4759, 0.0)]\n"
          ]
        }
      ]
    },
    {
      "cell_type": "code",
      "source": [
        "len(Recomandation_score)"
      ],
      "metadata": {
        "colab": {
          "base_uri": "https://localhost:8080/"
        },
        "id": "TL89DUtX9W3p",
        "outputId": "8162b9f4-9b15-4fe0-a7cf-083148bee6b5"
      },
      "execution_count": 38,
      "outputs": [
        {
          "output_type": "execute_result",
          "data": {
            "text/plain": [
              "4760"
            ]
          },
          "metadata": {},
          "execution_count": 38
        }
      ]
    },
    {
      "cell_type": "markdown",
      "source": [
        "#Get all movie sort based on recomandation score wrt favorite movie"
      ],
      "metadata": {
        "id": "eT492Xje9fBt"
      }
    },
    {
      "cell_type": "code",
      "source": [
        "sorted_similar_movie = sorted(Recomandation_score,key = lambda x:x[1],reverse = True)\n",
        "print(sorted_similar_movie)"
      ],
      "metadata": {
        "colab": {
          "base_uri": "https://localhost:8080/"
        },
        "id": "H-mD-PsN9rv7",
        "outputId": "dde0ea88-c4ee-49e4-c371-5d92c9bbfc82"
      },
      "execution_count": 40,
      "outputs": [
        {
          "output_type": "stream",
          "name": "stdout",
          "text": [
            "[(3956, 1.0000000000000002), (3406, 0.1854082416725458), (2758, 0.1738516022820248), (4253, 0.1366794103855924), (1074, 0.13509006703204612), (3092, 0.1262898725339139), (256, 0.12591503772020757), (3797, 0.12528019301994642), (677, 0.12508530384699504), (643, 0.12324504360847417), (1576, 0.12240247470989034), (484, 0.12110060933337319), (4401, 0.11804314264374285), (1595, 0.11470984520916333), (2759, 0.10841306538523605), (3061, 0.1064075874909284), (1647, 0.10402414453663618), (1110, 0.10269831925078313), (4657, 0.1016816089844609), (705, 0.10044240357928988), (4532, 0.09959294280238867), (4089, 0.09869405962074199), (1454, 0.09765166433531058), (3979, 0.09761325150569394), (3225, 0.09713245429012499), (4321, 0.09624775885115419), (1182, 0.09369344178074332), (2757, 0.09348473497242686), (198, 0.09339790037199142), (1319, 0.09288712085684328), (4183, 0.09279060690273415), (1107, 0.09230014821778386), (708, 0.09107818438560708), (3465, 0.09048883456532951), (3390, 0.09020674048563104), (244, 0.08915843648482479), (2250, 0.08901074656787555), (1815, 0.08847777623671213), (2809, 0.08843065358217932), (2297, 0.08841804566146416), (4644, 0.08787418339000888), (451, 0.08698573837547198), (940, 0.08595671380814329), (1226, 0.0849297363525339), (1944, 0.0842776769825895), (751, 0.08399680019759176), (4063, 0.08399166067364125), (675, 0.08187005266875556), (4054, 0.08071147386764879), (4187, 0.08058359630838202), (930, 0.07896958385530926), (806, 0.07877287126556096), (1295, 0.07856051894177943), (1557, 0.07851469193789842), (1072, 0.07825770641934496), (2023, 0.07753456746880252), (2302, 0.0770217368144876), (166, 0.07660042074415156), (1032, 0.07604047781942533), (1255, 0.07592042436620657), (1035, 0.07546456153434314), (2108, 0.07526540153722218), (1109, 0.07519282179192602), (3421, 0.07517308967632139), (1153, 0.07498398602346928), (810, 0.0748358988498802), (541, 0.07474831966933149), (3852, 0.0746406706559333), (1239, 0.07448265175667687), (4490, 0.07429940210180025), (1793, 0.07420871488082321), (1964, 0.07407149779967616), (144, 0.07405980524746908), (752, 0.07395313238342227), (2845, 0.07364539573392263), (3866, 0.07349330091631952), (1562, 0.07348733728259504), (4507, 0.07323319243375195), (1080, 0.07304016215964593), (4582, 0.07292614770765178), (4523, 0.07281481022955202), (2661, 0.0727514850643638), (4394, 0.07270983843537626), (3541, 0.07252744013239223), (3297, 0.07204225421728586), (4633, 0.07178031730176365), (3862, 0.07137406900216314), (2269, 0.07119737141856444), (4178, 0.0707485763810423), (1281, 0.07065441240480899), (1553, 0.07061670630291637), (2053, 0.0705556768203702), (2585, 0.07043590463620363), (823, 0.07040186226462321), (307, 0.07029862206064037), (4148, 0.06995862573038594), (3614, 0.06994828276378838), (1720, 0.06932986377531883), (2962, 0.06896276445737184), (126, 0.06872183895258503), (1299, 0.06845193712084809), (2981, 0.06835119711211313), (4574, 0.06826703127517664), (1176, 0.06825178697640001), (978, 0.06780231931108215), (1582, 0.06771588737930202), (3870, 0.06718004921026442), (2624, 0.06712421031816716), (3637, 0.06701687850060756), (2568, 0.06691740703756299), (3965, 0.0664785972269992), (3403, 0.06623582564900873), (3660, 0.06590272505046221), (4712, 0.06505058696911005), (565, 0.06501435304579624), (173, 0.06495424476952007), (3310, 0.06489437770349102), (1484, 0.06489025784119141), (4280, 0.06484386545139602), (2104, 0.0646526160111832), (3819, 0.06452592017160112), (4677, 0.06444214701638794), (2298, 0.06434718845877752), (2258, 0.06428864932953474), (4033, 0.06414650162139039), (1248, 0.06402014515671894), (3493, 0.0639279784458414), (901, 0.06391711344863431), (691, 0.06385916955134359), (3540, 0.06381558138789234), (3378, 0.06381472786317119), (3149, 0.06366453574470012), (502, 0.0636551059360135), (2591, 0.0634196994554419), (3085, 0.06305382632593655), (1860, 0.06281369758394861), (2256, 0.06254299433938486), (2, 0.06238683905524446), (4286, 0.06196674391322624), (4041, 0.061854756424596966), (3318, 0.061832720293558324), (4510, 0.06177447013991166), (988, 0.061558314635528515), (979, 0.061551463132291595), (1497, 0.06154337638999347), (1340, 0.06132484406115893), (4703, 0.061319625697141715), (1047, 0.060638666589620145), (73, 0.06049758690993033), (2617, 0.0604873565769543), (4241, 0.06048167950657654), (2353, 0.06043221383429126), (3158, 0.06039946705516469), (3179, 0.060317676656253136), (973, 0.060175128983641704), (4043, 0.060065879265039604), (2639, 0.06000172339077975), (1712, 0.05995372403175936), (900, 0.05991293542417504), (1959, 0.05918549772596032), (4191, 0.05902895213134327), (2340, 0.05875527781086787), (830, 0.05858461825935342), (1409, 0.058534585454013556), (3876, 0.058525648596547096), (1143, 0.058438051337540806), (577, 0.05840166117403106), (2393, 0.05838981980567849), (1505, 0.05810247870807988), (2823, 0.05790018284794675), (3808, 0.05785879693034392), (4737, 0.057757547819266425), (50, 0.05747648438774893), (3243, 0.0574550630810325), (4038, 0.05724109191304217), (2370, 0.057002901416300426), (1101, 0.05692750942836092), (3238, 0.056862347625869794), (4304, 0.05678750632746428), (4440, 0.0566898788442504), (1641, 0.056639065159338586), (1405, 0.05649411106559488), (4722, 0.05643229331135091), (146, 0.056210683080885684), (3959, 0.05613016715869621), (2292, 0.05572611246672948), (3212, 0.0556705759777644), (2323, 0.05535878987599186), (3233, 0.055082009606245506), (1550, 0.05495497214688174), (3333, 0.05477305181310336), (856, 0.05475711316185764), (85, 0.05474050859467481), (695, 0.05468638489917875), (750, 0.05454745454463501), (2742, 0.05439267794749573), (3871, 0.05438986530132291), (1394, 0.05434996934433698), (1204, 0.054323833192350915), (109, 0.05419006492369979), (3236, 0.05417745930002775), (247, 0.05409875502785019), (1353, 0.05386771676275331), (4614, 0.05386458563223715), (1480, 0.053849201017563034), (3260, 0.053682113789894605), (1271, 0.05344527500728199), (3328, 0.053328763630874826), (1103, 0.05332602753049701), (851, 0.05326657978743456), (1284, 0.05326170179870682), (490, 0.05301911068244197), (4022, 0.05298246910338607), (375, 0.05296804768741828), (1673, 0.05295942916238966), (1974, 0.05294535155482616), (488, 0.05292247436874732), (1432, 0.05291509629250505), (2687, 0.05267704071809401), (671, 0.05259884092482577), (4375, 0.05227869291041102), (4152, 0.052201863731760785), (3377, 0.052189475510324324), (4099, 0.052097366282215174), (3662, 0.052085037820636844), (3083, 0.05206406346719826), (3912, 0.05204161819198126), (709, 0.05174156959256878), (923, 0.051562312305541556), (4374, 0.05141800495706847), (769, 0.05140805926402337), (270, 0.05138296479966849), (1041, 0.05135892426911478), (1377, 0.05134782470874484), (1927, 0.05133705891177523), (140, 0.051252457655321985), (4001, 0.05102477346926757), (3288, 0.05098685139881673), (1433, 0.05090292269337965), (892, 0.05088887323208795), (3983, 0.05080194556553344), (3659, 0.05070986340024548), (666, 0.05070918778266456), (4288, 0.05067256742580223), (3014, 0.050545313476642637), (4465, 0.05022375491498545), (845, 0.05021761644949693), (2931, 0.04995956858400276), (4059, 0.04987242052938002), (974, 0.049734909037013), (53, 0.04937999706514839), (3986, 0.04922962773768734), (1983, 0.04916112084125099), (3856, 0.04912919733464386), (2464, 0.04912522589372429), (548, 0.04886691789906379), (3058, 0.04884020657153327), (3909, 0.04865766168808634), (2978, 0.04849552098295121), (2351, 0.048482377290539086), (1622, 0.04844396117271698), (1895, 0.04834650352475224), (2514, 0.04832506558192529), (237, 0.04827300521562282), (412, 0.047882914850591596), (524, 0.04778601947752686), (14, 0.047684648847140784), (1038, 0.04759297228219603), (4598, 0.04749378028819952), (2654, 0.04749172616466053), (1830, 0.047441783376763025), (3857, 0.04739957685128054), (3360, 0.04737158758627844), (2439, 0.04736546767819856), (3199, 0.047334173712221886), (418, 0.047175644337186726), (201, 0.04699618768945274), (1687, 0.04699576100274933), (1861, 0.04697739788192738), (1532, 0.04697418593942623), (2656, 0.04679998363834416), (45, 0.04677194699949524), (1715, 0.04667163066078826), (932, 0.04658352030888317), (1314, 0.046563606029598754), (1243, 0.046547288832631636), (1544, 0.04651460319321662), (2621, 0.046460915861878574), (3539, 0.04638395967179098), (3101, 0.04625686600504139), (1021, 0.04614936878988695), (4263, 0.046114880058486206), (1156, 0.04597703404530506), (2611, 0.04593438386101028), (4498, 0.0458990214836922), (1202, 0.045819138933590534), (1569, 0.04573649555053844), (2949, 0.04559790280865334), (1970, 0.04544130101731073), (3947, 0.04543811305193099), (4740, 0.04534388063586901), (4015, 0.045134032391938944), (3948, 0.04503811627144045), (515, 0.04501302658966403), (3688, 0.045006516607175605), (836, 0.044906632318510484), (4138, 0.04476456931074453), (3283, 0.044610298217375007), (1523, 0.04451993545153715), (1492, 0.0444937594316706), (2553, 0.04442645188989541), (4289, 0.04440585129167663), (3416, 0.04428695212534102), (3911, 0.044286632679100824), (1504, 0.044172696635546335), (4047, 0.04414600229263389), (3285, 0.04406158434922589), (2523, 0.044020959984247966), (2001, 0.043863331504992414), (1479, 0.043806908286132734), (570, 0.043786494601750034), (96, 0.043687552233057175), (4337, 0.04359867675430086), (500, 0.04348749863743669), (4691, 0.043422706679820636), (2211, 0.04341951827550115), (3916, 0.04340514908563034), (539, 0.04337761164060101), (1973, 0.04337278481022452), (3405, 0.043294927553469656), (3507, 0.043250182052816596), (192, 0.04319907972590741), (508, 0.04315357857101426), (3359, 0.04313227717467259), (1774, 0.04311977436059903), (3415, 0.043111953610933), (1053, 0.043002258288209264), (873, 0.04291122030658354), (1919, 0.04287614202833952), (1173, 0.042835869334352066), (1842, 0.042597970544857096), (2746, 0.04257100818562183), (2623, 0.04248722199340195), (34, 0.042353326821643424), (2650, 0.042288352877724256), (4554, 0.04219721390188336), (422, 0.042139554639294786), (2134, 0.041979319832939094), (2369, 0.04180816178369631), (3978, 0.04179872001410014), (4147, 0.04162098051617591), (1362, 0.041620030026025816), (2640, 0.041506822850332394), (3738, 0.04149342829543606), (1829, 0.041470824849696164), (1261, 0.041318483634198724), (1068, 0.04124592614104144), (4084, 0.04122192104901636), (304, 0.04111867749537754), (2131, 0.040995871975056296), (1067, 0.04098002402731223), (3289, 0.040932718118349413), (733, 0.04084132589506867), (517, 0.04080518798846021), (4125, 0.040782331498844616), (2113, 0.04077871276068516), (1967, 0.04072690161860324), (829, 0.040717704327237494), (1361, 0.04070538439050386), (3300, 0.04061693683849353), (1548, 0.040579065587828554), (1533, 0.04051555674239986), (3461, 0.04049354341528298), (1175, 0.040308560417202), (3992, 0.04012686987608929), (2322, 0.040126774808133515), (683, 0.04007537720578035), (3546, 0.03994657083090878), (1614, 0.039943436040571295), (1543, 0.039820253616172946), (3650, 0.039786528357752385), (3147, 0.03972870153934015), (213, 0.039719119547299495), (928, 0.039666129034211295), (3346, 0.03961519257024846), (2689, 0.03958027207204149), (1341, 0.03947691700784451), (3867, 0.039375070332750804), (1455, 0.03927197293721933), (3389, 0.039249075092041376), (2347, 0.03923034017362991), (1026, 0.03919318269051414), (48, 0.03911420336230413), (4, 0.039105293182730975), (4299, 0.03899095822546857), (3951, 0.03891595736294764), (2111, 0.03890814449075362), (4155, 0.0388844453378277), (3920, 0.03887413803969241), (959, 0.03879495704540214), (805, 0.038717319485298565), (1469, 0.038653827582076555), (2230, 0.03854319456603241), (4628, 0.038538545929701136), (816, 0.038419029561634864), (11, 0.038379738003708454), (3967, 0.03831632718437694), (1903, 0.038197599305275824), (3498, 0.038162079005125055), (3533, 0.03806715841903971), (21, 0.03796175546322483), (2747, 0.03794953461336649), (3833, 0.037918265610599966), (2314, 0.03790766666516411), (2264, 0.03785583675365932), (4451, 0.03782382876456705), (1688, 0.03779307029295904), (2598, 0.037788648770944525), (2100, 0.03775736007084887), (3005, 0.03773819209313082), (33, 0.0377143394778983), (2155, 0.037710421310281135), (3104, 0.03769397286509082), (1087, 0.0376797062606356), (2045, 0.037665877777632244), (2835, 0.037645002635346966), (3433, 0.03760825848034246), (1329, 0.03759655979200385), (694, 0.0375595066346713), (2740, 0.03755213234253343), (2899, 0.03754625685707714), (3163, 0.037506791919123504), (1594, 0.037418930146530575), (129, 0.03738848696407945), (655, 0.03729813801912441), (3329, 0.03721009486094636), (703, 0.03719122115384533), (4715, 0.03715815387235162), (1500, 0.037081981992207316), (1224, 0.037055940610087844), (2480, 0.0370170367243959), (1052, 0.03697661091461052), (2822, 0.036943483004258294), (3782, 0.03691111422210372), (638, 0.03681218154477309), (1272, 0.036789026726838016), (2919, 0.036671976081641626), (2697, 0.03666966775815167), (1130, 0.03658719045374841), (3791, 0.03657973867845914), (3686, 0.03655462469094804), (445, 0.0365332764886681), (2668, 0.03652548868512645), (1468, 0.03651355917504046), (3331, 0.036508619576584134), (4359, 0.03646503885488453), (1784, 0.03638765082131367), (4403, 0.036368812320650645), (4382, 0.03629059618115065), (2548, 0.03628181660588439), (3453, 0.03618200221938127), (162, 0.03613035519978479), (773, 0.03611991479148551), (1827, 0.03611801746762083), (2465, 0.03598566674303667), (3336, 0.03595013461304185), (958, 0.03588966049413886), (395, 0.035857336780719076), (3142, 0.03585188301106984), (1232, 0.03577249552421309), (594, 0.03545745136425712), (3380, 0.03545561548951719), (142, 0.03537833719705689), (4485, 0.03535469648037358), (1001, 0.03532344682547766), (3853, 0.035255617591530654), (3548, 0.03500360205195298), (4159, 0.03499292206988848), (2864, 0.03490533166107344), (2760, 0.03485404911752716), (44, 0.034852904578123886), (620, 0.03472606625893658), (2040, 0.034544342269882906), (3559, 0.03452777301343898), (1017, 0.03450399282135171), (2956, 0.03441663015498424), (676, 0.03441512064937116), (4673, 0.03438210863153001), (2801, 0.034375140452232), (1519, 0.034272846226417866), (540, 0.03420996533265607), (4433, 0.03416392049971774), (397, 0.03413895812658093), (4153, 0.034025361211085195), (3597, 0.03397056263923074), (205, 0.033945832462548356), (3200, 0.03393669426725055), (3344, 0.03392048615325626), (556, 0.03376251760510011), (2547, 0.03375543263608968), (3570, 0.033744890005028554), (951, 0.033717805289053646), (1651, 0.03363568803125597), (3029, 0.03360843006080565), (149, 0.03359537648065959), (878, 0.03352893964242413), (4640, 0.0333724358350452), (1367, 0.03335447423356937), (107, 0.03322941477858743), (2816, 0.033170226963456895), (3886, 0.03309370781159131), (3943, 0.033007115679816824), (61, 0.032995936059221104), (533, 0.03294952447563806), (1901, 0.03285484933585298), (3609, 0.03284176688782873), (712, 0.03274450701107076), (1453, 0.032681231515221155), (2227, 0.032627860997947775), (1425, 0.03261216084636791), (3394, 0.032562405073361014), (4174, 0.03253575109330685), (1764, 0.03253181462649142), (3619, 0.032520563799942726), (2897, 0.03243499916236279), (3250, 0.03231846233521447), (1559, 0.032314493864322204), (1629, 0.032276837686751096), (1115, 0.03226727063717394), (3698, 0.032244417258466336), (1237, 0.032224213236103263), (1663, 0.032201904988989206), (4328, 0.032191576897011145), (1387, 0.032046145108002556), (4210, 0.03203055070630617), (4140, 0.03201214214161827), (3550, 0.03200914947187271), (279, 0.031999751337581255), (3279, 0.03199441470492451), (3749, 0.03194521506763423), (1858, 0.0319282181142906), (3124, 0.031924062226934655), (2065, 0.03189272235034733), (423, 0.03181816913217413), (1802, 0.031801973508063956), (1012, 0.03175759777134307), (2121, 0.031712425220220386), (2766, 0.031692430725282605), (2622, 0.03167800354373809), (3864, 0.03166305502996648), (4329, 0.03164338496317719), (3362, 0.03162754780288285), (2762, 0.03159746375620904), (1726, 0.03151113305984214), (729, 0.031487165821285044), (742, 0.03141565319869376), (2739, 0.031313588216466105), (3466, 0.03124794362322135), (442, 0.031119212437785863), (481, 0.031030977711513627), (4095, 0.03102733126106999), (3483, 0.031017199304851778), (2878, 0.03088462049712916), (4232, 0.03086112621223967), (3839, 0.030826460564526405), (1870, 0.030799079260503234), (3188, 0.03078271058509514), (2162, 0.03064208962012372), (3594, 0.03062730355541854), (2620, 0.03059054481183028), (2486, 0.030475034842394416), (1145, 0.03046758546197378), (1436, 0.030329938133031246), (1339, 0.03032935954332317), (2158, 0.030234175963848007), (2126, 0.03021156957597033), (2196, 0.03017464295886494), (4327, 0.030033771289458357), (682, 0.030019573102031447), (3445, 0.03000552491504681), (3111, 0.02991241729863895), (2191, 0.029910747011969503), (1395, 0.02983648129278447), (850, 0.029827029053092122), (1282, 0.029783190703326003), (2686, 0.029777479479132514), (543, 0.029718578189905934), (824, 0.029717886498277227), (447, 0.029628908563506032), (1561, 0.029621759324856126), (4233, 0.02950678952104121), (3843, 0.029487848827093717), (2310, 0.029458845326014813), (3697, 0.029409508606166458), (757, 0.029203985120553316), (4037, 0.029128902547144158), (2458, 0.029091932173658255), (3699, 0.029032014055214994), (2202, 0.0289679188592277), (4098, 0.028943927917164426), (2075, 0.028869984841364812), (727, 0.028785317452071982), (2908, 0.02876579887777001), (1527, 0.02867020956785118), (5, 0.028618935719880112), (496, 0.02847421006000067), (875, 0.02846035532143347), (2255, 0.028426416520199116), (3807, 0.02838442466330764), (70, 0.02836203943790204), (788, 0.028316091632092682), (3882, 0.0283120595119866), (3464, 0.028288638046869225), (3103, 0.02820514398712043), (1162, 0.0281700737742914), (1117, 0.0281458430887346), (1478, 0.028052799058729365), (2779, 0.027968928064487187), (2060, 0.027950034326412077), (2029, 0.027857623452128614), (1132, 0.027822713761016665), (1024, 0.02780042270747654), (3944, 0.027777380630437973), (3127, 0.027766491055763433), (699, 0.027651925275574567), (4557, 0.027506336902969837), (2443, 0.02749717651138093), (367, 0.027460750437789033), (3606, 0.02742819518034109), (4197, 0.027423964549161968), (4067, 0.027417409497222704), (4045, 0.027394957425659745), (976, 0.02733112827441727), (52, 0.027282668532535095), (1111, 0.027279674607488535), (3752, 0.027234713599767035), (4256, 0.0272020509093758), (2720, 0.02719092856875022), (217, 0.027153495364485695), (4380, 0.027144177854480398), (1383, 0.027099353865942356), (2441, 0.027063491953406797), (131, 0.027046216589438375), (408, 0.026977602131242673), (1875, 0.026904868994875698), (3525, 0.026732248832905238), (346, 0.026730464771920107), (2782, 0.026723311898337446), (116, 0.02664996153822144), (3418, 0.026585607795338955), (1585, 0.02653517093603227), (4663, 0.02653396718756064), (3392, 0.0264656793815132), (4684, 0.026462113338601764), (1443, 0.0264468198738877), (3899, 0.02635992115761979), (1958, 0.026355749241518837), (2352, 0.02633775868449115), (4264, 0.026306917303316833), (1461, 0.026109625445827355), (3890, 0.026025512163476917), (2280, 0.025687137568083458), (2964, 0.02565340153322052), (1865, 0.02561618150860856), (3218, 0.025593499074777485), (3235, 0.02559196139595782), (613, 0.025559420470068997), (3702, 0.02552387642052454), (563, 0.025461676404427015), (2884, 0.025434642484528803), (3508, 0.02541071543323794), (4421, 0.02536396431957419), (718, 0.025323949965995244), (2187, 0.025287192341640185), (3860, 0.02525872993768434), (322, 0.025241731724705414), (3480, 0.025212462154264433), (1643, 0.025203510897807358), (3308, 0.02518374564873062), (2057, 0.025147510509758393), (4040, 0.025072224901805846), (4216, 0.02505965780445549), (132, 0.02503387579295451), (3524, 0.025027838582770696), (2201, 0.025024440140024792), (730, 0.0250186998664261), (1018, 0.024996958179222713), (3186, 0.02498256771836106), (1694, 0.024734733896166778), (2924, 0.024670170396988933), (443, 0.024604093482831695), (3408, 0.02459961697745102), (4369, 0.02447314502790292), (1538, 0.024417662901960412), (2734, 0.024406575525590356), (1960, 0.024394871757088835), (1138, 0.024284370661574878), (739, 0.02427342923111863), (254, 0.024263856963645775), (2440, 0.024246941915128502), (2649, 0.024192518759344906), (4602, 0.02417392542868136), (3611, 0.024169920050476926), (188, 0.02413910912165801), (2589, 0.02401847708624979), (1843, 0.02400213401013641), (4699, 0.024000966009787593), (2595, 0.023897765068894954), (122, 0.0238870133880882), (1954, 0.02382952416349072), (291, 0.02363620310912855), (3737, 0.023629952126409573), (3842, 0.02360178178981872), (4720, 0.023582974053818352), (688, 0.023564636921897426), (855, 0.023517816177337055), (967, 0.023485625244926204), (3973, 0.02345853260338447), (3678, 0.023439730132202376), (2410, 0.023336168577419915), (2610, 0.02328501743340259), (3234, 0.023251635189628434), (4721, 0.023235292580039195), (1552, 0.02323105419583298), (501, 0.023186336911497078), (651, 0.023177220044388425), (1570, 0.02317161495218969), (2710, 0.023158525175344738), (4055, 0.023120470601930274), (3915, 0.02310517068303986), (1864, 0.023090025247824428), (3889, 0.023069965103076913), (2852, 0.02300113645550491), (461, 0.02298652786541871), (2477, 0.02298291208475147), (2177, 0.022950162102119448), (883, 0.02293233937028067), (2218, 0.022898110786844388), (1812, 0.02286405105218597), (791, 0.022852062641640466), (2744, 0.022834971738217226), (4653, 0.022825309648951367), (4057, 0.022784500328459308), (1140, 0.022776594497597898), (4003, 0.022752161380019193), (1926, 0.022743209862891717), (2723, 0.02269574049539561), (4371, 0.022693108989282063), (1324, 0.02269110005898991), (4028, 0.022690923796504624), (4169, 0.022659366096693646), (1779, 0.022647704715369955), (1778, 0.022631772323660364), (3172, 0.02262428695346257), (74, 0.022623689890970473), (2821, 0.02258266360631739), (3057, 0.022520668708317714), (4597, 0.022512323639357252), (208, 0.022466880379594944), (2496, 0.02245038641682332), (2675, 0.022437094293393346), (470, 0.022435380234639715), (99, 0.022426255651189296), (4454, 0.022415987805921), (4420, 0.022314276574184437), (1402, 0.02230618669153386), (629, 0.02229655432291649), (2368, 0.022250994482834092), (1902, 0.022243426235490825), (3919, 0.022237070313920006), (204, 0.022223562510142125), (1920, 0.022196841111508176), (899, 0.022129657154802442), (4262, 0.02208459742014268), (2487, 0.022078806694798), (2965, 0.022038296034725128), (4173, 0.02203701322803372), (4277, 0.021988987620514686), (606, 0.021966105287807132), (3820, 0.021965977209760335), (2988, 0.021939771289671922), (3109, 0.021936036908993303), (377, 0.02191757440908472), (3226, 0.02185753212553452), (871, 0.02185672227609104), (2894, 0.021829450821622732), (3596, 0.021805455889795617), (3000, 0.02177986702048421), (115, 0.02175121711239234), (1936, 0.021741034282737264), (969, 0.02171209501341849), (1621, 0.021701809604387088), (723, 0.021700044446525457), (401, 0.021692715271508543), (3208, 0.02165157291709194), (3027, 0.02160259139518351), (4281, 0.021577014521436705), (3386, 0.02155386747999751), (3792, 0.021520682548122574), (3335, 0.021492871817013932), (550, 0.021461324162521257), (182, 0.02144175830315185), (3117, 0.0214019497361143), (4517, 0.021400805605065625), (4576, 0.02140033845081557), (27, 0.021395452373690376), (88, 0.021387582764291802), (697, 0.021361058269823926), (2180, 0.02134041778065498), (2452, 0.021316051817276804), (460, 0.021303971187106033), (3816, 0.02127804321629475), (4242, 0.021277284215115787), (2558, 0.021274935304154505), (4688, 0.021252262203589906), (4427, 0.02124825915125428), (4150, 0.021191964635383455), (2853, 0.02116555461436173), (4056, 0.021157187648450974), (3665, 0.02111160916088357), (1616, 0.02109679116617673), (3435, 0.021065378102356532), (3216, 0.021058745412410207), (1059, 0.021056751312842497), (1831, 0.0210328249237186), (356, 0.021016416400622902), (1246, 0.02099021064918118), (1344, 0.020968251584567176), (3154, 0.020962455843001312), (2069, 0.020900229468290964), (1943, 0.020895489413714517), (1710, 0.020871060339658583), (4020, 0.020868929295106982), (3768, 0.020857895823194167), (1742, 0.020832977394467853), (2683, 0.02078790668579343), (3131, 0.020787486224722172), (4309, 0.02076223330683318), (127, 0.020712501069855404), (4324, 0.020696094213789772), (2499, 0.02065848545868488), (265, 0.020645303740338464), (4050, 0.020622875034190923), (3387, 0.02061586237262015), (2552, 0.020599558270631722), (1030, 0.020591234059800664), (2571, 0.020551986443755325), (1645, 0.02055014402264015), (982, 0.020536644003802215), (3010, 0.020512722948816963), (1555, 0.020511213826514392), (1463, 0.02050970872318159), (946, 0.02049646099253848), (817, 0.020478806583368772), (3352, 0.0204564903316124), (1167, 0.02045298988387774), (167, 0.020443707691175612), (3802, 0.020442166653202608), (1104, 0.020430734802505665), (4226, 0.02040965623270658), (2054, 0.020402020708193337), (2968, 0.020377593935582097), (1760, 0.020371033151621025), (3868, 0.0203538211596732), (355, 0.020316624355745407), (1667, 0.020288193286255897), (516, 0.0202530628260799), (1785, 0.020252918105349363), (3976, 0.020244250414355413), (3938, 0.0202418694430301), (2473, 0.020153998390440166), (164, 0.02013646616038573), (4620, 0.020131332668375294), (3510, 0.020126291560873935), (4739, 0.020116923427166138), (4399, 0.02010370104311883), (567, 0.020085209427213754), (388, 0.020081308136458996), (1933, 0.020076958185160858), (2824, 0.02006638079913761), (2803, 0.02005103640212373), (1177, 0.020038411920611045), (2355, 0.02001420847229871), (3175, 0.02000509248442213), (3774, 0.019991078809143293), (1575, 0.019989145769259278), (886, 0.019942758805328097), (3071, 0.01992463382782753), (975, 0.019913978636309407), (46, 0.019893371485238096), (3450, 0.019891221086186857), (243, 0.019879537132427644), (4254, 0.019870102650343734), (1407, 0.019839594284678498), (659, 0.019814813949336818), (2704, 0.0197821123363179), (2516, 0.019780948166501857), (2819, 0.019776806622619398), (3108, 0.0197752187685066), (3747, 0.019717904157398287), (2129, 0.019710891934302994), (1991, 0.019710651991646067), (815, 0.019684258003870744), (3462, 0.019671214137946758), (1448, 0.019655603279168807), (1956, 0.01965311440467832), (2790, 0.019628904142340604), (15, 0.01962069802854819), (569, 0.019611307927325846), (3627, 0.01958020934528454), (3460, 0.01956083707352483), (4176, 0.01956001322407325), (36, 0.01955929010371753), (1389, 0.01954299401974123), (3656, 0.01950279019175895), (1775, 0.019480151197964292), (3367, 0.01946051308545539), (1782, 0.01945573161181371), (2085, 0.019450747049978016), (2081, 0.01945050397788168), (4466, 0.019439824868728906), (1613, 0.01941864799803671), (1824, 0.01936068149012853), (4275, 0.019356852306183777), (1186, 0.01934641020646964), (3847, 0.019335575220201306), (3356, 0.01933368611632163), (189, 0.0193324932743811), (3474, 0.019329292809324963), (3895, 0.01928763148707705), (3229, 0.01927467513240643), (3463, 0.01925818729677677), (1195, 0.019237574725153708), (3716, 0.01923677384684307), (615, 0.019224765583874266), (2563, 0.019187478657154085), (4074, 0.019143426997278522), (3602, 0.01910470647204241), (1292, 0.01908803404514056), (4404, 0.019073399578265423), (3167, 0.01905031325739926), (1085, 0.01903218029565986), (3102, 0.019027221766610338), (1094, 0.019014846504992106), (1564, 0.01900733130364701), (3589, 0.018993624940719937), (2366, 0.018981297509064788), (1406, 0.018970881492968508), (2213, 0.018969663959964085), (2445, 0.018957219881407805), (1392, 0.018913040940474954), (3097, 0.018885491496287137), (4583, 0.018862402139095277), (1568, 0.018795820769007123), (2095, 0.018764915054700283), (123, 0.018738212468555997), (4683, 0.018731847320448147), (605, 0.018717733843676462), (1076, 0.018710846337080412), (4564, 0.01870834242465373), (3047, 0.018703627640353142), (3, 0.018700511685009146), (1873, 0.018687452540949646), (3910, 0.01867557165061303), (647, 0.018664192597828526), (4006, 0.018657978140622884), (1133, 0.018628829725660608), (1997, 0.01860785865466979), (1231, 0.018600403660382757), (893, 0.018572685963519426), (2014, 0.018568105757980242), (1379, 0.018551546566763385), (924, 0.018529024457560873), (4482, 0.018516275127841104), (2408, 0.018486414764861528), (4542, 0.01845760853192343), (1913, 0.018423353988588822), (1253, 0.018408440196145206), (1029, 0.018386653445260172), (3814, 0.018362754501735617), (2688, 0.018362685501852914), (1551, 0.01834860791181049), (1888, 0.018339114958243568), (4237, 0.01833692988363857), (927, 0.01831228918800205), (4029, 0.018295462618766724), (796, 0.018292361914359116), (1948, 0.01829222152091996), (3580, 0.01829077928965665), (1589, 0.01828743328513317), (1307, 0.018284769629894043), (84, 0.0182791863397636), (746, 0.01823076516754806), (1572, 0.018223849478264987), (4182, 0.01821341986408948), (2360, 0.018202966431267342), (2574, 0.018198350604651733), (4585, 0.018180925263536766), (68, 0.01816402347094241), (4534, 0.01815729952143334), (2204, 0.018143848534976203), (1592, 0.018106132190390863), (277, 0.018104978521791198), (1088, 0.018090092004997383), (1846, 0.01807913575549819), (2003, 0.018036020531356438), (1347, 0.018032352996524982), (3011, 0.01802758932337855), (1493, 0.017998580213242063), (3872, 0.017989862233208608), (3141, 0.017986281022558052), (3065, 0.017974873031827664), (427, 0.017906956172839675), (1545, 0.017902338882035594), (195, 0.0178799157824526), (3985, 0.017846811179993278), (1993, 0.01782468770471456), (1654, 0.01782020229847909), (4587, 0.01779296790375275), (4600, 0.01778114441244491), (2409, 0.017780746252911372), (2618, 0.017780285459227888), (2736, 0.017776258804628416), (1915, 0.017754373274695378), (3413, 0.017718939465204774), (1428, 0.017697034480428274), (1840, 0.01767842102643118), (489, 0.017647108263742477), (3077, 0.017630313995598945), (1376, 0.017622616436478694), (2098, 0.017618254721823337), (562, 0.017600670088374182), (4292, 0.017589523548238128), (170, 0.0175872899152445), (1049, 0.017492507879113595), (2509, 0.017480945864012998), (334, 0.017466258990165316), (2578, 0.01745027032777156), (1010, 0.0174206028862751), (2197, 0.017420429145755336), (2210, 0.017413477424641163), (163, 0.017373240379609887), (2827, 0.017366545160344422), (1430, 0.017359167621358973), (2917, 0.017354540907374295), (240, 0.01728004034043564), (248, 0.017270882843841377), (3094, 0.017261078901869016), (335, 0.01725914561237655), (786, 0.017250954411929177), (2497, 0.017242157350000054), (3528, 0.017197407696216055), (795, 0.01716624196511975), (4177, 0.017159344903297364), (4274, 0.017118425916686636), (4365, 0.01711399411263628), (160, 0.01711189305745915), (719, 0.017089578712913923), (4297, 0.017006790769104115), (4193, 0.01697787190617872), (2000, 0.016951514709650874), (2135, 0.016924169080707523), (847, 0.01691662087593577), (3471, 0.016913552461276668), (3946, 0.016894589424258016), (1795, 0.016880629397031967), (1485, 0.01684335614010614), (4295, 0.016842901315878022), (706, 0.016808227078994126), (998, 0.016723363730554455), (3148, 0.01670245694750613), (1750, 0.016684309794663395), (1978, 0.01663932184494864), (1671, 0.0165818105822156), (1747, 0.01655453359908223), (2579, 0.016535530450552935), (4396, 0.016504675852549455), (3830, 0.01644759703461223), (756, 0.01639349237845239), (4605, 0.01638628375393465), (2805, 0.01632518103915494), (2474, 0.016320342643872263), (4246, 0.01621632780104148), (1249, 0.01618529996342488), (2390, 0.016171926998919284), (3484, 0.016158489247809178), (1699, 0.016152273994587015), (2842, 0.0161409423171269), (1863, 0.01612332575039417), (1838, 0.01608863969424546), (2915, 0.0160424007129606), (3129, 0.01603956359417302), (4426, 0.016013339189073165), (3958, 0.01600972054787969), (2116, 0.015921600010939042), (4018, 0.015912022008388184), (2190, 0.015901305551981704), (2152, 0.01587558170587486), (4245, 0.0158497358479374), (2777, 0.01584747381878435), (3781, 0.015806113197666536), (872, 0.01579288576946907), (4111, 0.015792322115095105), (3806, 0.01574959946050345), (2627, 0.015710967663722656), (3306, 0.015701682831604717), (575, 0.01566157049933994), (1951, 0.01565154440223907), (726, 0.015610155055904537), (1342, 0.015589540241413263), (740, 0.015563498091053361), (3511, 0.015528516679992884), (1752, 0.015435218741944123), (1006, 0.015412094311516217), (929, 0.015344966453603616), (2405, 0.01534301650392615), (1364, 0.015317868034810368), (3517, 0.015274354582705648), (4141, 0.015270515681680944), (438, 0.01526203330682318), (4422, 0.015244700626479766), (4726, 0.015226207285113976), (1290, 0.015173295323232708), (1768, 0.015167149371275212), (176, 0.01515831141339215), (3809, 0.015114466054836533), (1077, 0.01507085761483759), (4679, 0.015057314783575847), (293, 0.01504673118475191), (3653, 0.015037713875991983), (3501, 0.014995311725685892), (1210, 0.014977167704943414), (2276, 0.014918659468123933), (4088, 0.014883965393134895), (2144, 0.014880222149726459), (628, 0.014873317462113032), (2109, 0.014870445644139727), (294, 0.014864649051126968), (2192, 0.014856080546106333), (369, 0.014855538901909989), (807, 0.014822641364179033), (145, 0.014805986074512898), (1112, 0.014693034728243988), (3673, 0.014692274922745944), (4511, 0.014672523362982453), (689, 0.014671108522071001), (2999, 0.014668368988877946), (2815, 0.014609509019680356), (3458, 0.01457364245228791), (3173, 0.014528005516634381), (3906, 0.014514156848782976), (169, 0.01449377591181885), (2980, 0.014467973487865632), (1084, 0.014455056120321306), (4362, 0.01444449932776502), (26, 0.014434075210538862), (4530, 0.014427372853823093), (181, 0.014427125210057746), (2009, 0.014388956407048415), (693, 0.014358031893986926), (755, 0.014336424468046914), (292, 0.014312637473392016), (1937, 0.014266122222771299), (3696, 0.014226504134117088), (1421, 0.014221450909976691), (646, 0.014186316900131012), (2117, 0.014150334210807003), (852, 0.014111422268557008), (2143, 0.014104312391917277), (1877, 0.014076995739915422), (2768, 0.014023104569034248), (611, 0.01394179966777975), (1759, 0.01393858500820035), (3615, 0.013891830757245881), (202, 0.013885902664028072), (154, 0.013847119733368421), (2138, 0.013769421282548827), (935, 0.013721242369156061), (3829, 0.013712881038503029), (2528, 0.013699510792473186), (4616, 0.013627245746579471), (324, 0.013596693285155184), (1721, 0.013590611694058171), (4479, 0.013586804692396384), (457, 0.013539552847119453), (3119, 0.013524443920216123), (2372, 0.013509129533914295), (4617, 0.013492301387740567), (3681, 0.013486622970271813), (465, 0.013467903988138338), (2093, 0.01343239441028595), (2402, 0.01335975669969254), (473, 0.013346272604866217), (947, 0.013307281619403453), (2741, 0.013282551413514632), (1625, 0.013265199401416291), (3863, 0.013256142751301804), (1004, 0.013222505363228177), (1762, 0.013160311561440399), (1009, 0.013086904061605755), (4104, 0.013076025251620781), (2932, 0.013043198343908314), (787, 0.013011545482704247), (317, 0.012917210319616004), (3076, 0.012910611271428299), (3442, 0.012886525450637535), (1578, 0.012795477327271211), (4410, 0.012785210734672777), (600, 0.01278352500185243), (2645, 0.012695864300486116), (286, 0.01265898738602329), (4411, 0.012638079415403437), (2154, 0.012636113456816611), (1833, 0.012631975880635865), (3376, 0.01259716243471119), (1352, 0.012530925244914006), (971, 0.012504922773854461), (3722, 0.012491036170698694), (2234, 0.012477665917301919), (3828, 0.012476325121189876), (1845, 0.012474987579537501), (2795, 0.012458287993089043), (1365, 0.012457233770981947), (175, 0.012456669995438815), (846, 0.012439902318899139), (2732, 0.012390080826498982), (2685, 0.012329448960666777), (4469, 0.012325760428584385), (3430, 0.012279110879102426), (1741, 0.012247156114099442), (312, 0.012232922796074979), (4609, 0.012232373958514568), (3034, 0.01222791485975428), (441, 0.012190549065115203), (3926, 0.01216838219506387), (4724, 0.012160721243643062), (3999, 0.01214700387986931), (849, 0.012140847150624957), (843, 0.012131605772986614), (1464, 0.012084005001594175), (724, 0.012065085988770667), (2318, 0.011991890729048596), (3350, 0.011985419370599415), (1447, 0.011982935401644206), (3746, 0.011959402730328436), (1064, 0.011951856986210558), (2913, 0.011912775127887019), (1264, 0.011883205471223833), (2663, 0.011877233416054837), (1953, 0.011804261900787505), (662, 0.011779126690740693), (1373, 0.011769797556941998), (3766, 0.011764396513777356), (3675, 0.011759578045036068), (2245, 0.011734189980830947), (309, 0.011733348796644288), (1506, 0.011728767388003387), (4637, 0.01170588477241213), (585, 0.011687063687013886), (179, 0.011677504943106473), (4735, 0.011673639808082519), (1912, 0.011631443818657402), (2118, 0.011610866296055365), (3824, 0.011595356700324204), (2406, 0.011587713582189737), (1073, 0.011550125936159032), (3275, 0.011530252422943322), (937, 0.01152560391632512), (4477, 0.011525212366900963), (1040, 0.011521960797970477), (185, 0.011485532212825512), (3019, 0.011484166625448494), (4203, 0.011435048743816914), (860, 0.011430046010534035), (1275, 0.011382830433275306), (607, 0.011367376108027554), (2625, 0.011334055785533339), (274, 0.011327080827045838), (2327, 0.011326921640966457), (2958, 0.011318175670899697), (3626, 0.011317863285839329), (271, 0.011305644052201098), (4244, 0.01130160845172362), (2450, 0.011293755462305365), (2615, 0.011285455799015383), (454, 0.011275252703197371), (549, 0.011271761434077399), (876, 0.011260114152362263), (351, 0.011254880744968613), (1184, 0.011254354595794299), (3883, 0.011245025077981186), (2346, 0.011216485225455361), (2638, 0.01120871224577252), (1979, 0.011178461853380126), (3043, 0.011167651817171128), (1148, 0.011138306489999557), (281, 0.011136650066306548), (4186, 0.011121008146386915), (3373, 0.011103331536673606), (1529, 0.011091958751956116), (1716, 0.011063586751538606), (2903, 0.011062995092980542), (3012, 0.011060223073452448), (3098, 0.01103655519766524), (1935, 0.011027553723459253), (701, 0.011012137148285278), (4293, 0.011008204746041042), (458, 0.011007491797028524), (3640, 0.011001828071126703), (4647, 0.010985730515454548), (1923, 0.010956082023304408), (888, 0.010933463700407365), (4531, 0.010932818815108216), (4551, 0.010917595447202541), (3961, 0.010888607071924603), (2112, 0.010888274086798934), (4619, 0.010884462890202659), (4106, 0.010876721244542512), (1754, 0.010867257574514575), (2996, 0.010856455935093018), (3924, 0.010844261902481975), (450, 0.010824816569321638), (4048, 0.010799661637743601), (2229, 0.01078086165712022), (896, 0.010776858532140166), (673, 0.010765362802708563), (3861, 0.010757513450615295), (4116, 0.01075515750557641), (2037, 0.0107509099826737), (342, 0.010746607170830138), (4669, 0.010744372307917908), (2097, 0.010735149562636988), (2214, 0.010726057591656936), (4358, 0.010718706997870843), (3642, 0.010697568553767493), (1325, 0.010692555862534916), (3694, 0.010676263963832477), (1015, 0.010663856178239282), (1874, 0.010661289167064172), (3086, 0.010656902036539522), (1707, 0.010652640286016183), (4558, 0.0106447265526626), (210, 0.010632058082305733), (1482, 0.01061912289703499), (3095, 0.010591095330567036), (2460, 0.010587570899581802), (2254, 0.01058615453986108), (485, 0.0105718994424949), (641, 0.010563893907417654), (1141, 0.010542515646142822), (1119, 0.01053259474215404), (4231, 0.010523387348183009), (2096, 0.010514873598111605), (2522, 0.010513910905593156), (792, 0.010493737895747616), (622, 0.010482465946276852), (206, 0.010464687072637103), (1234, 0.010446430697517052), (1853, 0.010442033779747716), (2849, 0.0104292583888487), (3777, 0.010423099480508598), (4123, 0.010416233224175077), (483, 0.010415865297327437), (831, 0.010414298579006727), (4474, 0.010387114864906347), (51, 0.01037920222271729), (3984, 0.010374819840961986), (1821, 0.010352072714650903), (429, 0.010338849479621336), (3437, 0.010327419736492436), (1736, 0.010327331413279794), (4007, 0.010325847526739073), (3382, 0.010293843498066706), (879, 0.010292061266946408), (1513, 0.010276461204973213), (2546, 0.01026968641248233), (1727, 0.010256964715076231), (2016, 0.010241171590703034), (216, 0.010227466463373244), (4379, 0.010221141635948384), (584, 0.010207595945807663), (58, 0.010186669327730019), (120, 0.0101741057374443), (1062, 0.01015817906901417), (2334, 0.010153835571815963), (2321, 0.010135416596684843), (1334, 0.010127014038600484), (2789, 0.010098329242370075), (4189, 0.0100908545183423), (652, 0.010090443062892576), (2784, 0.010083224161322148), (1337, 0.010067354552189867), (1740, 0.010063362938494294), (2489, 0.010053461925043094), (1942, 0.010036660230394234), (994, 0.010025283208700999), (4068, 0.010022181685712938), (2295, 0.010021905218990459), (1440, 0.010017354598655088), (544, 0.010010974560682302), (4004, 0.010004527990036528), (3949, 0.009982395173339258), (1985, 0.00996836198968804), (864, 0.009968320180303943), (1335, 0.009963288822261072), (1922, 0.009958533273061721), (209, 0.009954425534867717), (3210, 0.009950776367270339), (3670, 0.009949398491983582), (4503, 0.009949199741486845), (2934, 0.009936935101623828), (3155, 0.00993254405036802), (2284, 0.009918287598836322), (4435, 0.009912124086796046), (172, 0.009896341708976304), (1385, 0.009877467877290165), (2695, 0.009877230278545309), (4709, 0.00987075698449443), (3612, 0.009868832936097882), (986, 0.009857530569032104), (479, 0.009853412294639511), (370, 0.009849081262104192), (2212, 0.009843675016385701), (280, 0.009839267625922613), (2275, 0.009834171672319786), (1963, 0.00982934731749612), (4268, 0.009825218796570289), (1678, 0.009808698741022151), (4060, 0.009801110440100798), (2512, 0.00979427255009398), (3374, 0.00979029648513264), (1483, 0.00978854426289437), (4000, 0.009785104158726188), (105, 0.0097838311845346), (2174, 0.00977840365671856), (3553, 0.00977717623010743), (1646, 0.009775072070919138), (1252, 0.009773938139122001), (894, 0.009772389496826898), (1438, 0.009769771652450077), (3888, 0.009760968626571102), (534, 0.009743358873719968), (282, 0.009718629338249369), (2961, 0.009710364652512356), (989, 0.009703029483599185), (1338, 0.009702739392093453), (2216, 0.009668289361882687), (2910, 0.009652153618428154), (870, 0.009646239129377624), (4387, 0.00961916667280693), (799, 0.00961693016997172), (2279, 0.009611987113527655), (3370, 0.00957570458662517), (4442, 0.009568703968910084), (2808, 0.009559061824656719), (4192, 0.009552910900314637), (1481, 0.009548026884942664), (2080, 0.009531421501606342), (87, 0.009523212789203732), (112, 0.009497432192482991), (4658, 0.009484096476882935), (396, 0.00947998809149586), (18, 0.009459487755248151), (2948, 0.009456860954686017), (3504, 0.009448976646838159), (2024, 0.009446735245854104), (2752, 0.009435448468343443), (1854, 0.00941882896319298), (2886, 0.009411819194000675), (2228, 0.009398791237123404), (3171, 0.00938406453827085), (1160, 0.009363575430100897), (2224, 0.00936102897861834), (3293, 0.0093372342898137), (4124, 0.00933454280419653), (434, 0.00933284458462979), (828, 0.0093190045983808), (939, 0.009304856049500324), (276, 0.00930165536838767), (236, 0.009266406785174425), (3407, 0.009261271607896845), (287, 0.009256569749938503), (3941, 0.009244586312466052), (1665, 0.009236742951763492), (1620, 0.00922439570594116), (2398, 0.009172361682609393), (866, 0.00917098013969949), (111, 0.009164094508047166), (2600, 0.009161834236433308), (1183, 0.009156742415757776), (948, 0.009143620342467244), (463, 0.009142652842758888), (3120, 0.009133314662622884), (3854, 0.009122689965723381), (558, 0.009096749712279863), (669, 0.009076966722090232), (2581, 0.009074620213418151), (604, 0.009072807826927818), (43, 0.009054899259224331), (2939, 0.009044509001331405), (4122, 0.009018759393324636), (4502, 0.009010036810176827), (124, 0.009007914437775218), (1796, 0.009000952158345203), (199, 0.008995113753960185), (1360, 0.008978386327969733), (2363, 0.008974212526143327), (1680, 0.008959413365391156), (4053, 0.008951483594937843), (3267, 0.008951306047250963), (2055, 0.008940961385043267), (285, 0.008934559887669504), (1058, 0.008900860594070107), (3835, 0.008884722152270354), (842, 0.008879490289339098), (1000, 0.008873026701351804), (4475, 0.008871141342903342), (1739, 0.008870162655656046), (2077, 0.008856324150125881), (2607, 0.008842501862250291), (3801, 0.008838409414830575), (2727, 0.008734377402848423), (368, 0.008716746945133741), (1776, 0.008687978395243361), (1343, 0.008632690218649408), (3535, 0.008599049376001032), (653, 0.008583130143540644), (2692, 0.00856647521911965), (2412, 0.008565871083895659), (904, 0.008548353766441417), (147, 0.00853487579806023), (3384, 0.008513628451598667), (2635, 0.008508947875764724), (874, 0.008507389274304182), (2468, 0.008484858291995847), (1540, 0.00848313992653534), (2447, 0.00846100664604154), (251, 0.008455362707670958), (2070, 0.008438041416214667), (3741, 0.008435387853164219), (3312, 0.008434547495764364), (190, 0.008418462986746833), (753, 0.008418015553914651), (1591, 0.008410360253564163), (1050, 0.00840429010430525), (905, 0.008400458382187495), (3708, 0.00838462119777488), (2771, 0.00837079405261982), (1971, 0.008361607417114877), (4747, 0.008357506279563595), (760, 0.008330710206759354), (2076, 0.008320183933997997), (547, 0.008317325219846954), (1507, 0.008315976841392955), (38, 0.008298955700002438), (4610, 0.008279424484531528), (566, 0.008276401122704271), (4335, 0.008271523413572127), (4121, 0.008259450019328641), (1078, 0.008215453097852595), (207, 0.008202433958718348), (89, 0.008187931131630324), (2602, 0.008185529672316592), (2066, 0.008169283834707986), (3110, 0.00816921409884239), (4105, 0.00815132408968554), (139, 0.00814768883398562), (40, 0.008146057321064312), (4512, 0.008136810884410678), (4707, 0.008133581641388228), (2304, 0.008113808781300516), (1260, 0.008100599006993624), (3317, 0.008080014903838667), (2383, 0.008074462845943523), (1369, 0.008074259232280067), (3756, 0.008069429511342435), (1371, 0.008066721069459671), (385, 0.008038972929896379), (3652, 0.008023995332386036), (3192, 0.008022451318619938), (942, 0.008019964285246303), (4227, 0.008016572445479323), (1317, 0.007992929451530698), (1681, 0.00797265037627633), (1303, 0.007953786103678785), (1806, 0.00792804509338536), (1989, 0.00792348665832194), (1674, 0.00792170602982397), (2925, 0.00792061862720653), (678, 0.007916690358688179), (2082, 0.007878115006154684), (4118, 0.007831068480567182), (4656, 0.007830699214326746), (4436, 0.007830621594186012), (2252, 0.007824299639919284), (3586, 0.007815236841453473), (4727, 0.007801194209405137), (4094, 0.007782597692333046), (2316, 0.0077783716130697235), (1705, 0.007776297120338483), (2544, 0.007771077850279591), (180, 0.007760086715334871), (2963, 0.007753713648373582), (10, 0.007738840621165324), (1417, 0.007700615851431165), (1116, 0.007693214765487463), (4265, 0.007685361033997849), (3905, 0.007681505859202417), (3259, 0.007658534015006615), (654, 0.007653810703999566), (1185, 0.0076507596794725755), (3334, 0.00764052985921181), (667, 0.007634838039798241), (474, 0.007630440433190213), (853, 0.007627438422999155), (1393, 0.007625068637611963), (143, 0.007617876365036929), (106, 0.007593975180702303), (3018, 0.007583798154973795), (3945, 0.007580133030585554), (1536, 0.007551496608769864), (224, 0.007547747475308857), (4390, 0.007546231226926873), (3849, 0.007542533592589928), (1005, 0.00754033349423093), (1949, 0.0075285624918352435), (4486, 0.007527072548304794), (2780, 0.0075191233200194016), (1542, 0.007518608879579674), (2944, 0.007516550809167985), (918, 0.007515140288390423), (1847, 0.007497672158989175), (2519, 0.007490618361285536), (1735, 0.0074889545682066665), (137, 0.007476521700265472), (2235, 0.007462069570292015), (869, 0.007445587651328271), (3645, 0.007435725807836006), (4093, 0.007428375463646136), (42, 0.007427942008660293), (908, 0.007418686468998193), (1832, 0.007416657373710389), (2444, 0.007407411442117234), (2788, 0.00739306821531736), (83, 0.007358875455695228), (3245, 0.007337198624868762), (4581, 0.007329541698179651), (1945, 0.007317027121689747), (1471, 0.007315543127161385), (2994, 0.0073089821243814785), (494, 0.007295237075295815), (1388, 0.007293522235379819), (4184, 0.0072915359086117085), (560, 0.007283863799608085), (1419, 0.007270554941464234), (931, 0.007256888360016626), (2026, 0.007256129121515745), (684, 0.007238844985246333), (4623, 0.0072356794586715106), (2336, 0.007221141790811322), (81, 0.007195068570862824), (1986, 0.0071818329494605145), (2825, 0.00717388923908733), (530, 0.007148456126924185), (1330, 0.007128653332945266), (1128, 0.007115687143715141), (503, 0.007064127436024583), (2178, 0.007063496193231755), (3531, 0.007043520718972969), (825, 0.00704307613049367), (72, 0.0070428156447505125), (790, 0.007038468730517195), (345, 0.007038162776714958), (108, 0.007018699432074912), (1063, 0.007016453921580188), (2918, 0.006996277628014131), (3582, 0.006995752988658234), (4543, 0.006994680722608414), (915, 0.006987805064419475), (1125, 0.006978312543260776), (138, 0.00697268778238072), (1230, 0.006970237005914939), (2206, 0.006941225516674411), (4481, 0.0069383577648265615), (542, 0.0069178364883610306), (1412, 0.006911998652509673), (1738, 0.006893915186806828), (360, 0.006890626217981085), (1630, 0.006890452967501923), (827, 0.0068891643550236595), (2751, 0.006886437814541162), (3794, 0.006878169651866253), (1054, 0.006857164440815354), (2184, 0.006821585277861405), (311, 0.006816094346485291), (833, 0.006796236599552293), (1992, 0.0067843161158771745), (3280, 0.006760939155624451), (417, 0.006745365813808859), (532, 0.006743277640269371), (2874, 0.006739852794880148), (1509, 0.006739305974645345), (3775, 0.006739038089233209), (3118, 0.006738975349781209), (2119, 0.006736608554069778), (4325, 0.006735658460691936), (2429, 0.006731589376358579), (916, 0.006728857491894388), (2324, 0.006717355406466558), (745, 0.0067142004673783), (3993, 0.006709484314451126), (1789, 0.00670573863480099), (4165, 0.006696804394459702), (3711, 0.006690764871010475), (1987, 0.0066659299839663165), (2110, 0.0066628885024988364), (2791, 0.006659924630691872), (4235, 0.0066537479894815685), (801, 0.006652055927665706), (1259, 0.006637390353393158), (4164, 0.006631919098427922), (1236, 0.006604188714243121), (148, 0.006589915992331017), (2424, 0.006582208050216065), (1567, 0.00657819461126025), (632, 0.0065632276585945604), (1816, 0.006546099091382834), (1061, 0.006537656426671685), (4366, 0.0065295237129897685), (664, 0.00650950173370662), (3070, 0.006486882735590946), (2833, 0.006472972446451898), (497, 0.006462289176672951), (333, 0.006459320727900227), (3099, 0.006459281980179841), (2871, 0.006457042081572652), (47, 0.00644572187174975), (4450, 0.006437343466654111), (2388, 0.0063918518119914095), (1213, 0.00637913383424911), (1797, 0.006366475497916198), (4553, 0.006349802074984213), (3232, 0.006349222664301038), (1194, 0.006344738415317799), (862, 0.006326422125013648), (1348, 0.006325469238866965), (2971, 0.006318651251030599), (3684, 0.0063023068002001454), (4096, 0.0062913051604210745), (692, 0.006276424738293899), (86, 0.006245291941056877), (3731, 0.006192979064642787), (1781, 0.006178892544317168), (621, 0.006144200191249661), (1300, 0.006140472493048262), (3674, 0.006129958164310071), (3658, 0.006102229210341851), (1214, 0.006089240268134852), (1981, 0.0060644912941899215), (3713, 0.006054591209934766), (1092, 0.006052818982136064), (3045, 0.0059969351310885845), (1137, 0.005962252181082125), (2555, 0.005920433466635142), (435, 0.00588847371062523), (2524, 0.005851606774636628), (3391, 0.005803562092809516), (668, 0.005745169625411135), (1320, 0.005700605008558434), (2614, 0.005653110480668471), (844, 0.005611649437412777), (1276, 0.005416506269911088), (4261, 0.0053877548105321655), (0, 0.005218720586602568), (1442, 0.00515432586588866), (4719, 0.005041741610219134), (3240, 0.005031070110738679), (1019, 0.004940457048733651), (3137, 0.004832170118982227), (3932, 0.004801949937679305), (3325, 0.004650943170422459), (4151, 0.004472584744298975), (3534, 0.004298996992032334), (2678, 0.0042395259045868655), (3552, 0.004233771407135246), (2299, 0.004162732502428054), (4571, 0.004136479224305415), (3178, 0.004115733375192964), (3512, 0.003991717807266845), (3667, 0.003980445196197142), (3276, 0.003929573029073714), (4555, 0.003923338314048793), (2998, 0.003908020215413125), (3925, 0.0038747329658151246), (4607, 0.0037800790744109323), (2529, 0.003778772548203142), (2379, 0.003756848168071356), (2490, 0.0037519698996135546), (2937, 0.0037380286711444135), (3523, 0.003731689411678079), (4705, 0.003721842644009271), (3051, 0.003713241250503208), (2764, 0.0037086966014699407), (3672, 0.0036990331363135867), (2858, 0.0036897278360671555), (2137, 0.0036895218678887525), (3139, 0.003685583128342274), (4082, 0.0036774191313795434), (2722, 0.0036543897197253007), (2189, 0.0036541464993156037), (4202, 0.003639959818354892), (3040, 0.0036353597223580105), (2989, 0.0036272759557996847), (2251, 0.0036219564098697496), (3166, 0.003610890149478264), (2349, 0.003604306503283774), (2407, 0.003598369941810667), (3990, 0.0035931090942399437), (2889, 0.0035835174152319747), (2537, 0.003571026285751172), (4704, 0.0035562344126790113), (3052, 0.003555644664569139), (735, 0.003554617938598565), (3055, 0.0035422364288037293), (2404, 0.0035406643252898374), (2775, 0.003533949075165922), (4017, 0.003532519650404821), (2870, 0.0035288978136047405), (3561, 0.003528847619227866), (3042, 0.003527116815973649), (3030, 0.0035264974937846377), (627, 0.003524893493705846), (2883, 0.003522700032695014), (3635, 0.00351949231642616), (2923, 0.0035074106343055), (3291, 0.0034981952334976947), (2731, 0.003494243979019215), (4749, 0.0034935322406976746), (4222, 0.0034912096505501722), (4529, 0.0034903046110405602), (2484, 0.0034806015975787823), (4221, 0.0034804216744423896), (3479, 0.0034764544448538303), (4484, 0.003470748009789139), (4611, 0.0034697895045722347), (2694, 0.00346755209785885), (3939, 0.0034671093506545535), (2673, 0.003462909463566547), (2861, 0.0034504322508748255), (2655, 0.0034497680930378883), (4172, 0.003441418311944467), (2559, 0.0034220284977827145), (3878, 0.0034213544773535466), (4418, 0.0034188784187395437), (2832, 0.0034162567199398945), (4696, 0.0034103521715461347), (4444, 0.0034099951352811173), (2628, 0.003407754618192661), (4407, 0.0034049988843682833), (3219, 0.0034019340835059874), (2448, 0.0033996517402789537), (2392, 0.0033988938269169547), (3292, 0.0033982111504948127), (3762, 0.0033913757503027083), (2199, 0.003388582437944459), (3892, 0.0033840156195621097), (3282, 0.003375921958866502), (4423, 0.003375581169462137), (4019, 0.0033745394751174235), (2425, 0.0033737887623122723), (2643, 0.003366675561348413), (4546, 0.003364854039576954), (2257, 0.0033515216948159982), (3322, 0.003350298466895818), (889, 0.0033501803827971906), (3262, 0.0033495054707531518), (2350, 0.00334504662394915), (2901, 0.0033422209637521978), (4230, 0.003335444724847961), (4142, 0.0033281483440441937), (2838, 0.0033267779409825787), (2286, 0.00332672929133219), (1208, 0.003318793209507976), (4400, 0.003318442627217932), (2530, 0.0033085939304293285), (4102, 0.0033052177932222427), (3848, 0.003302599675493052), (3015, 0.0032987026006479777), (4606, 0.0032955927882970595), (2306, 0.0032934995317342158), (4710, 0.003290453811522176), (3239, 0.003281980217442254), (3128, 0.0032814374773868418), (2423, 0.003280624752669995), (3354, 0.0032774100912539507), (3140, 0.0032760664380796336), (526, 0.003273429444964847), (1711, 0.0032644204059373767), (1121, 0.0032613497302039583), (3249, 0.0032558039849792577), (3687, 0.003251372004768756), (4692, 0.0032494510724949185), (4521, 0.0032492256026774705), (4544, 0.0032473974370017793), (3363, 0.0032465543138497956), (3638, 0.0032455483717024956), (4612, 0.0032406871862923356), (3616, 0.003237132913081818), (3357, 0.0032357523391185875), (2834, 0.003229559197037058), (3537, 0.0032288221482449273), (2557, 0.0032285108606166417), (2438, 0.0032243968524323903), (3159, 0.003221800501464509), (4306, 0.0032183418876900655), (3577, 0.003217073910836665), (4107, 0.003214351885114852), (3922, 0.0032135317371153466), (2857, 0.0032133059016482505), (3613, 0.0032108241272581248), (4660, 0.0032100124004082694), (670, 0.003208098133939164), (3521, 0.0032069687554498404), (3004, 0.0032062937176451922), (2266, 0.0032053203218862687), (4572, 0.0031948389985301784), (3074, 0.003193794421836572), (4298, 0.00319359300316834), (4209, 0.0031898613834702395), (4443, 0.00318892735289237), (326, 0.003187963262020437), (2797, 0.0031862384844926575), (2957, 0.003184698167040355), (3874, 0.003183239267855814), (4723, 0.003182797735882401), (2488, 0.003181346687723677), (3031, 0.0031798972955255993), (3832, 0.0031779127738965638), (2848, 0.003177485966209573), (2188, 0.0031769455572961255), (3123, 0.0031752149891133706), (402, 0.003173408211124481), (3302, 0.003171709240066115), (2879, 0.0031702434465116073), (3620, 0.003169847685824135), (3544, 0.003168711635310413), (2459, 0.003168469736131868), (1655, 0.003166532848211442), (2966, 0.003164531816291036), (3358, 0.0031603337317389177), (3020, 0.0031602096131053345), (3228, 0.0031591252471124304), (2415, 0.0031587510859030416), (1593, 0.0031547049680254653), (4062, 0.0031529634536954796), (3206, 0.003149557678547961), (2778, 0.003147673538956185), (3779, 0.0031434015550065694), (2454, 0.003143390740273692), (2993, 0.0031398221384480855), (3901, 0.00313941095477884), (3257, 0.003136677304144059), (2619, 0.0031348530308860853), (1429, 0.0031294553841932026), (777, 0.003128706379018548), (1168, 0.0031259490603218537), (2895, 0.003115904863254776), (2434, 0.0031120286109995177), (4458, 0.003104671424498284), (4701, 0.0031025374268751262), (949, 0.003096355264923947), (2772, 0.0030836388982516177), (2986, 0.0030791319132104987), (4023, 0.0030741911907985397), (4717, 0.0030737667820686415), (2769, 0.003072580885066242), (2738, 0.0030720019877188286), (431, 0.003069969471183358), (4632, 0.0030689783456872774), (3763, 0.003067897265484867), (3935, 0.0030674329659207173), (2613, 0.0030667390734154315), (4594, 0.0030661761603110473), (4416, 0.0030641730120602247), (2570, 0.0030638373243785815), (3081, 0.0030635628310964327), (2378, 0.003063525234109664), (3621, 0.0030631584589507653), (3745, 0.0030622053421468986), (4584, 0.003060392387891905), (1792, 0.003059164833482995), (2089, 0.0030588272036473347), (4694, 0.003058636638098271), (1187, 0.003058463216260873), (4145, 0.0030578652949909786), (1968, 0.0030570660705186155), (2707, 0.003055218522287628), (518, 0.0030517603053924797), (1885, 0.0030501193751350255), (4412, 0.003049383470772043), (2417, 0.003047913219567354), (1748, 0.003047763891092831), (4030, 0.0030469049886971368), (4589, 0.0030468898026007538), (1169, 0.0030466367103793787), (2846, 0.003045965612802377), (4032, 0.0030375197354493813), (4075, 0.003037462949291619), (2142, 0.00303602707220465), (1547, 0.0030318768392995506), (4126, 0.0030291430218329974), (3884, 0.00302872857416389), (2320, 0.0030262315396506726), (2696, 0.0030260710569022828), (3072, 0.00302556687335055), (3307, 0.0030238267989127813), (2427, 0.0030237511698481974), (4002, 0.0030231476577998583), (1947, 0.0030219206509328853), (3754, 0.0030189122240128247), (4163, 0.003018058645378673), (3729, 0.003016829238315741), (3425, 0.003016266988193339), (1398, 0.003013461334240687), (4713, 0.0030134551385632446), (4398, 0.003008010059800723), (3230, 0.0030053170068893346), (2987, 0.0030052457553794583), (3364, 0.0030051132381970175), (448, 0.0030046880367405305), (3419, 0.0030041282542477192), (3337, 0.0030036428835747138), (3396, 0.0030026096403952887), (3506, 0.0030023392601523304), (2403, 0.0030002861940315447), (4650, 0.0029999801226347988), (2872, 0.0029964829859817424), (3355, 0.0029948479495604417), (925, 0.0029931966399533295), (3165, 0.0029899273513799974), (4267, 0.0029891306758377564), (2478, 0.0029883497213194893), (2560, 0.002987686022983071), (614, 0.002986745182740838), (3952, 0.0029852618344911605), (4516, 0.0029850427032953033), (1656, 0.0029844974259602306), (721, 0.0029826677249167625), (3903, 0.0029817037670072898), (3639, 0.002979238463093199), (2796, 0.002979071804308903), (3423, 0.002978597936330649), (3651, 0.002977910624685983), (985, 0.002977821088133012), (2702, 0.0029752261211652004), (1924, 0.002973959590902057), (4117, 0.0029715623230087474), (3661, 0.0029688913812815697), (4753, 0.0029683220313697373), (4243, 0.0029634927325952183), (3772, 0.002962387046957677), (3296, 0.0029607470718472305), (2223, 0.002959812024883262), (2051, 0.0029576074740216562), (2629, 0.002955013613878267), (2437, 0.002954711867247215), (1909, 0.002954679892419442), (2893, 0.002952037072079017), (3960, 0.0029511735245511266), (1887, 0.0029499978791809513), (999, 0.002948609597476526), (2881, 0.0029482461175845956), (2411, 0.0029476543225399206), (4731, 0.002947324667864787), (2936, 0.002946796744108527), (478, 0.002946110815646672), (4092, 0.002945895088418926), (2400, 0.002944310953164685), (2914, 0.0029439997976281446), (3680, 0.0029436644586338834), (4494, 0.0029408093619074415), (235, 0.0029382020381194278), (3013, 0.0029365729297016587), (737, 0.0029360864865001653), (576, 0.0029345021961516508), (1349, 0.0029330949811903176), (3274, 0.0029330407822129997), (3587, 0.002932380999220191), (419, 0.0029318423136970406), (4368, 0.0029297242297346357), (4333, 0.0029292023284668593), (1023, 0.002926129596813251), (1489, 0.002925077337069878), (3560, 0.002924890216853588), (813, 0.0029237179466193807), (3962, 0.0029236140440050003), (3822, 0.0029228897432885302), (2974, 0.0029226468737612505), (922, 0.002920576690608839), (4718, 0.0029195265459660636), (3196, 0.002919055105884331), (4160, 0.0029186328597235983), (596, 0.002916712871711684), (2916, 0.002915827419605103), (1862, 0.002915431943508549), (1499, 0.0029140424601629368), (3414, 0.002913960320293988), (3032, 0.002913782479171014), (4535, 0.0029136372577665895), (436, 0.002912488257681652), (3146, 0.002911761341680119), (308, 0.002910936165938294), (2356, 0.0029100416307721744), (2436, 0.0029094643867182773), (3593, 0.0029059087386328567), (4051, 0.0029042105036379794), (3804, 0.002903851729588048), (2840, 0.0029033473729745624), (3248, 0.0029031927232860957), (1474, 0.0029030735060494397), (444, 0.002900486651793419), (3877, 0.002898339011124293), (3273, 0.0028980997388959417), (2209, 0.0028980799790734608), (3157, 0.002897454132615989), (2830, 0.002897157131388272), (4397, 0.0028971256516180897), (41, 0.002896588839991409), (4593, 0.0028946312242966207), (1498, 0.0028940622303357567), (4706, 0.002892082630532519), (3003, 0.0028917777970376276), (4259, 0.002891509261674125), (4113, 0.0028913519185949387), (2854, 0.002891058681554947), (2505, 0.002890987930166235), (1890, 0.0028884923948112842), (3062, 0.002886021357012671), (2535, 0.0028852060162352007), (1658, 0.002882048191217567), (2592, 0.002881864695161872), (3026, 0.002876064953622594), (4042, 0.0028751439546791605), (857, 0.0028746203300626877), (62, 0.0028740311394370595), (2176, 0.0028736767253502928), (2428, 0.0028728089262119692), (715, 0.002872564935153082), (1580, 0.0028724870783402635), (2890, 0.002872467621144137), (2159, 0.00287049882703167), (2049, 0.0028698400660803476), (3417, 0.002867076925223127), (371, 0.002864489663014214), (587, 0.0028629071967131102), (3116, 0.0028605587444938602), (2375, 0.0028598242812073633), (476, 0.002857504937280145), (3677, 0.0028574417793938416), (4446, 0.002855623559215355), (4308, 0.0028547327681944477), (1733, 0.002854258123931627), (4046, 0.0028537661727052774), (3183, 0.002850581726886272), (4601, 0.0028492734953412284), (253, 0.0028460901927200204), (3714, 0.002845339058491765), (4130, 0.0028452364589945075), (318, 0.0028448169258643466), (1043, 0.002844715154759461), (3497, 0.002844225022825515), (1866, 0.002842449215408648), (4101, 0.002841214294867897), (3813, 0.00284031512411932), (4732, 0.002839283263036916), (4133, 0.0028384554813755567), (1905, 0.0028380440014920067), (3044, 0.002837560588742938), (2293, 0.0028374983843356383), (4522, 0.002836857405323173), (1805, 0.002836189736132085), (4013, 0.0028341422998036585), (350, 0.0028339562375755225), (499, 0.0028329327443551208), (3064, 0.0028325498803342805), (3516, 0.0028311171533724313), (2748, 0.002830717165791363), (3258, 0.00283065805832453), (887, 0.002830502137695743), (4087, 0.002829824676850287), (2882, 0.002828754248630866), (2507, 0.0028278087737730576), (8, 0.002827072520142396), (4528, 0.002827032711308926), (1897, 0.002822459571285952), (2888, 0.0028198333834917), (3771, 0.002819546609794616), (2705, 0.002818650294806152), (4545, 0.0028170248422750657), (3269, 0.0028158637454829905), (952, 0.0028139846020179327), (794, 0.002813229676994504), (4734, 0.002813212074387441), (3704, 0.0028131121568657686), (3449, 0.0028129622894258106), (3271, 0.002812711058750833), (3893, 0.002812190908032536), (4024, 0.0028111470426566156), (3757, 0.0028080619067073673), (728, 0.002807677893750666), (2494, 0.002806569438261321), (4579, 0.002805880450314133), (2776, 0.0028036623454148523), (1518, 0.002803605947070135), (3692, 0.0028028362657900544), (1848, 0.0028022761187619484), (1907, 0.0028020403072795915), (4132, 0.0028020092564349348), (430, 0.0028018516421131753), (4161, 0.002800484447311413), (2475, 0.0027994673823017718), (3112, 0.0027992051969403875), (1995, 0.002799130695498975), (1359, 0.002797227624098842), (4540, 0.002797093208509162), (3184, 0.0027959768936302943), (1708, 0.002795922183784643), (1798, 0.0027945852262125353), (991, 0.0027943001008909458), (3496, 0.0027942423774116906), (1637, 0.0027923081630674513), (4269, 0.002792237382310243), (4495, 0.002788274672346665), (2786, 0.002787692432150476), (1537, 0.0027870225692166756), (1683, 0.002785616705667877), (2260, 0.002784711213938588), (3904, 0.0027843532095799184), (2725, 0.0027839895272705317), (4431, 0.0027839212311667177), (3728, 0.0027836563945319004), (3873, 0.002783511685961348), (4680, 0.0027832834804538873), (2940, 0.0027823609121539715), (227, 0.0027820343015450095), (4005, 0.0027815545107902394), (2712, 0.002781345157771561), (3007, 0.0027809808357118714), (2391, 0.0027803134039518906), (12, 0.002779864697577408), (3780, 0.0027794527565007535), (1071, 0.002777971622099246), (2609, 0.002776586001049206), (826, 0.0027762463939016275), (3601, 0.002776227689051299), (2151, 0.0027754552224520585), (2664, 0.00277523209110431), (4357, 0.00277486359740755), (2970, 0.0027746860501022203), (1619, 0.0027741509882568353), (4355, 0.0027732414533073583), (3987, 0.0027725479801127277), (2105, 0.0027719796883211886), (4175, 0.002771881850731128), (3434, 0.0027694140527675733), (680, 0.00276841516690733), (246, 0.002768392739446929), (3590, 0.00276520559360318), (623, 0.0027647614500739925), (493, 0.0027638804822453377), (612, 0.0027638426239115746), (1896, 0.00276157443631114), (2565, 0.0027614495215720005), (2361, 0.002761171619057075), (3084, 0.002760937497212137), (4489, 0.002760893341675505), (3314, 0.002760844776522355), (4471, 0.002760476990524252), (2418, 0.0027593314277981596), (3618, 0.0027593143165889882), (456, 0.0027580110778596617), (2792, 0.002757906548665865), (3326, 0.0027570902644561226), (4505, 0.0027554365314131244), (2953, 0.0027553853935131556), (2714, 0.0027550160565944066), (4575, 0.0027543229128739848), (1685, 0.0027541824513182423), (2288, 0.0027534618705418105), (2755, 0.0027526132818147028), (193, 0.00275229602791968), (4052, 0.0027512273235183915), (4318, 0.0027507274838352675), (1918, 0.002749663459142617), (3264, 0.0027486897830114572), (1822, 0.0027479500856256124), (3037, 0.0027477797788195446), (1225, 0.002746183877294239), (1893, 0.002745623630860043), (4566, 0.0027441602996582048), (1400, 0.0027440180181109897), (1916, 0.0027431960411434895), (2394, 0.002742957029304632), (3388, 0.002742714802124025), (1075, 0.002742245073734973), (783, 0.0027422133633162133), (2385, 0.0027417806684211666), (1007, 0.002740479001802815), (1670, 0.0027398509569433547), (3187, 0.0027393802578850645), (178, 0.0027384231239098327), (3654, 0.002737738059609308), (2419, 0.0027348847595856413), (262, 0.0027346981894847194), (3372, 0.0027339333966310557), (4757, 0.0027336975494391728), (3242, 0.002733043688535731), (2633, 0.0027328918551810205), (4225, 0.002732611718093837), (1188, 0.002732280749678531), (716, 0.002729768576458459), (4624, 0.0027297126541012866), (1192, 0.0027273979468046545), (2088, 0.002727346871555282), (564, 0.002727197084243173), (4363, 0.0027264299968714377), (255, 0.002725939460195283), (1439, 0.002725610768875621), (4430, 0.0027254868771225665), (4497, 0.002725383697891023), (2083, 0.0027242446216906766), (3150, 0.0027236070753121695), (4354, 0.002723182043229314), (20, 0.002722813542177442), (2926, 0.002722422563176168), (3770, 0.002722170959730123), (211, 0.002720952183548769), (580, 0.0027201962056560025), (1660, 0.0027198627279165777), (660, 0.002719207788747171), (4448, 0.002718571344969111), (3599, 0.002718018572239358), (4083, 0.0027177283406331996), (1229, 0.002717684687842654), (3514, 0.0027176098102713736), (482, 0.002717101461810801), (3351, 0.0027168703288692536), (2561, 0.0027158163683444507), (3241, 0.0027157678708009452), (4629, 0.002715591250732809), (3845, 0.00271522179480513), (890, 0.0027149244543696383), (2601, 0.002714828507589492), (717, 0.002714660286220348), (4419, 0.0027137964329539497), (1475, 0.0027137463521523346), (2531, 0.002712959806527432), (23, 0.0027127138078096463), (2545, 0.0027120882541195666), (4136, 0.0027117987734050913), (3224, 0.0027102095722651163), (1851, 0.002710108928004258), (2911, 0.0027092332840832896), (3902, 0.0027085211684519015), (1083, 0.0027084787185412155), (884, 0.002708343639501534), (4361, 0.0027083169410780884), (2904, 0.002707569404322772), (3353, 0.002706335244144724), (1048, 0.002705110197373686), (588, 0.0027050122615258237), (2319, 0.002704275519836657), (3778, 0.0027039534588787976), (551, 0.002703493542147529), (4625, 0.002702894445965176), (3666, 0.0027028922349556887), (4756, 0.0027019815024624293), (3536, 0.002701016954489349), (3349, 0.0027007280973458656), (4025, 0.002700634659596394), (987, 0.002700033536961172), (1124, 0.002698818056923076), (4079, 0.0026985491507572224), (2148, 0.002698158817404983), (2072, 0.0026974185792028506), (774, 0.0026972542995974875), (637, 0.002695685408979088), (2123, 0.002694436555624617), (1703, 0.0026933797762106566), (3689, 0.0026925690776130867), (1765, 0.0026923528334676823), (4340, 0.0026923305242106065), (3527, 0.0026908677511227014), (4334, 0.00269050204768985), (980, 0.0026904323582002095), (4287, 0.002689387871292792), (3198, 0.002689165226512038), (1382, 0.002686940205524625), (4249, 0.0026859171570237134), (3623, 0.0026853778614864404), (2863, 0.0026840570458947356), (4470, 0.0026838298483275783), (3636, 0.0026826614884376504), (1494, 0.0026817505926371673), (1717, 0.0026809667917883587), (1516, 0.0026808948157733443), (3153, 0.0026805733688889197), (472, 0.0026799600692440162), (2048, 0.0026793148117271125), (3290, 0.0026789303652768074), (4643, 0.0026776919068261782), (631, 0.002676539143348861), (743, 0.0026749840089296093), (1946, 0.00267498041175024), (2466, 0.002673406221073758), (865, 0.00267292002009986), (3016, 0.002672381817205949), (1294, 0.0026723255294935403), (509, 0.0026695911277126883), (4563, 0.0026693508807741563), (3701, 0.002668722796015166), (1254, 0.002667937798157458), (71, 0.0026668495591454632), (1355, 0.002665767825684264), (2977, 0.0026653902221641917), (4533, 0.0026641907623290956), (3526, 0.002664047914536818), (4273, 0.002663850097987366), (3542, 0.002663420112862666), (3571, 0.0026618826534571378), (2386, 0.0026614244316301356), (1174, 0.00266121060877157), (1931, 0.002659692672087706), (933, 0.002658545282579196), (406, 0.0026559155156393303), (593, 0.0026551394136086833), (3113, 0.0026550886548557654), (238, 0.002655038429755354), (4283, 0.002653514817241652), (2073, 0.002653052476676588), (3182, 0.0026517869802568056), (1122, 0.002650250176595219), (3707, 0.0026494243901364414), (3303, 0.002649073010567848), (2397, 0.0026474932190411445), (832, 0.002646849286865392), (3643, 0.0026445412270356796), (353, 0.002643836570578889), (2798, 0.0026434274307295755), (2313, 0.0026429120841994676), (4049, 0.0026419252099119093), (1413, 0.002641892560808652), (2430, 0.002641106288221916), (4135, 0.0026400822190499476), (2091, 0.0026393913255612217), (4255, 0.00263887988092255), (579, 0.0026388228470005408), (2277, 0.0026387899639953123), (2374, 0.002638205069531763), (2887, 0.002637679957465409), (1476, 0.0026373501551945878), (2061, 0.0026366099972854125), (2647, 0.0026365533698502904), (4014, 0.002633875312876108), (1472, 0.0026334238893256597), (1872, 0.002632888212310576), (3739, 0.0026317779455487214), (2652, 0.002631701918626598), (1410, 0.0026309789600791767), (4391, 0.0026307470176514117), (4501, 0.0026299998869383197), (636, 0.0026289835518768837), (1722, 0.002628730819110958), (1510, 0.0026279838933346115), (2122, 0.0026279547045984105), (2745, 0.0026275263657072525), (3551, 0.0026273251496129702), (4137, 0.002627053203072841), (1574, 0.002626933015149803), (1706, 0.0026268680923139235), (2193, 0.0026268390982399827), (2396, 0.0026268182780675203), (4266, 0.0026267676872657347), (2554, 0.00262608727543156), (848, 0.00262529169527835), (3227, 0.0026247317978172974), (897, 0.0026229565686662288), (343, 0.002622900046643451), (993, 0.002622304302393716), (2606, 0.0026211374418025346), (696, 0.0026202249866646727), (2169, 0.0026199860381452794), (3436, 0.002619895969309549), (2783, 0.0026197446385454043), (104, 0.0026195930146777203), (2492, 0.0026194514448708364), (4686, 0.0026190294834016426), (504, 0.0026188909957618745), (2067, 0.0026188100112018863), (2533, 0.002618189031641589), (1876, 0.002618113414533674), (4081, 0.002617567075743459), (4604, 0.0026172200464234623), (2826, 0.0026170591645762486), (3125, 0.002616017120130194), (378, 0.0026143079030817493), (1191, 0.0026134255761376484), (3491, 0.0026133787870281874), (3564, 0.002613258741714043), (1223, 0.002613227717825737), (1131, 0.0026118465479200927), (3341, 0.0026104488388731363), (1488, 0.0026097040959764785), (2344, 0.0026085699562812367), (2831, 0.0026061498819518465), (1170, 0.0026060838577807353), (2354, 0.002605754414200119), (114, 0.002605634942367615), (749, 0.0026047239596161714), (4330, 0.002604610790083445), (1304, 0.002604024061414598), (761, 0.0026035456973310636), (3478, 0.0026031651537748953), (2495, 0.0026029289638857434), (226, 0.002602802220057822), (1179, 0.002602798084475548), (1378, 0.0026009482286093446), (3492, 0.0025999559367243597), (1163, 0.0025985710193360445), (66, 0.002598081295046884), (2387, 0.0025974982535068567), (4320, 0.0025965481675226582), (2195, 0.002596295217077977), (3174, 0.0025962093427056385), (4016, 0.002595992167002668), (79, 0.0025950420209419497), (2900, 0.0025948810532808813), (3330, 0.002594293869795153), (2943, 0.0025938032775039655), (1612, 0.0025922029642246737), (1298, 0.0025887373267369424), (4409, 0.002587759646522677), (3299, 0.002586708737020089), (2289, 0.0025851327719864496), (1102, 0.002583583429174016), (1811, 0.002582225157816668), (3441, 0.002581778283857502), (3477, 0.002581283572148227), (3727, 0.002581008951102946), (1891, 0.002580572300001646), (1634, 0.0025800455482998526), (400, 0.0025792583188302305), (3624, 0.0025790370580021107), (4520, 0.0025769600839726666), (348, 0.0025769072946914837), (3565, 0.0025762747459962803), (466, 0.0025736023195669236), (464, 0.002573095310517928), (1411, 0.002572358167513843), (2569, 0.002572232247123121), (3381, 0.0025720753996837315), (4228, 0.0025717814415640314), (3067, 0.002571638945557079), (174, 0.002571269502392722), (3237, 0.002571160039441924), (1598, 0.0025696948041179627), (374, 0.0025683451013354007), (1666, 0.0025670816483554302), (880, 0.0025657783120052475), (2416, 0.002565610573813522), (867, 0.002565530915260684), (1257, 0.002565175675942169), (1313, 0.002565170550604675), (4668, 0.002564985790464564), (4487, 0.002564662248165529), (2173, 0.0025633667007956495), (3093, 0.0025618734311523505), (2946, 0.0025618433855321794), (3195, 0.0025617557992345615), (3647, 0.0025611738040308032), (1100, 0.0025600767631543467), (4349, 0.0025597160694616167), (2463, 0.002558794944639692), (215, 0.0025574112426147025), (3499, 0.002557311137950699), (4685, 0.0025557204634312986), (4284, 0.0025541836097769033), (119, 0.0025539350363243223), (1807, 0.002553380708750196), (3046, 0.002553170561568633), (3557, 0.0025527269245986077), (3827, 0.0025523367363594306), (3379, 0.002552158842570849), (1286, 0.0025520060985798117), (1882, 0.002550539892904446), (98, 0.0025489935403967038), (2945, 0.0025481622350344377), (2087, 0.002546072808460056), (2226, 0.0025454310801377496), (2802, 0.0025454283110423696), (4687, 0.002545361249019702), (2102, 0.0025448745868653557), (3220, 0.0025441588406112845), (3447, 0.0025437015186622895), (4036, 0.002543520770082105), (4641, 0.0025429735252281674), (3069, 0.002542115210634567), (2632, 0.0025419704467890877), (1617, 0.002541363533064002), (3719, 0.002540829083807026), (3706, 0.0025404989207856834), (4743, 0.0025399546984415785), (446, 0.0025394016232546204), (3412, 0.00253882253664166), (2909, 0.0025388162021771792), (1653, 0.002538520650714578), (3402, 0.002536724338982698), (2698, 0.0025362666672411366), (1350, 0.002535704158212711), (1408, 0.0025352932551850694), (2103, 0.0025347660197867178), (1422, 0.0025345765448491005), (1096, 0.0025325166352841697), (4395, 0.0025324689726550632), (358, 0.0025317557820656545), (2008, 0.00253155749886089), (2401, 0.002529922815977054), (3765, 0.0025286654020620857), (4693, 0.002528634662891598), (3075, 0.002528200272293472), (1813, 0.002527268668846556), (2422, 0.0025268911757119574), (522, 0.0025268865598973567), (329, 0.0025252665020577764), (349, 0.002524735104547003), (2461, 0.0025239840271721486), (4381, 0.0025236609891045665), (4550, 0.0025236057964711065), (4573, 0.0025235441009223702), (1245, 0.002523334660956996), (1044, 0.0025217354720503135), (2912, 0.002520619332210611), (4129, 0.002519675522175885), (3348, 0.0025192320864004035), (4472, 0.002516349776222239), (3028, 0.00251555611539189), (3298, 0.002514588067290933), (4336, 0.002514427775620324), (4069, 0.0025143728084023246), (1247, 0.0025142960216846992), (2612, 0.0025141008943611685), (2268, 0.002514077308199219), (3641, 0.0025140764785995125), (4139, 0.0025137562272192), (4504, 0.002512439574517877), (1969, 0.002512181480103537), (2653, 0.002512013503345793), (1060, 0.002511607316654796), (19, 0.00251159267952188), (2467, 0.0025115323408494133), (2027, 0.0025110290982941173), (2642, 0.0025080316415074405), (1597, 0.002507596391270366), (2716, 0.0025074157306556027), (4461, 0.0025060306999817204), (3917, 0.0025041082991978988), (3900, 0.002503176530093255), (3487, 0.0025028518037128367), (3826, 0.0025026115688233136), (4729, 0.00250047195467559), (782, 0.002497943937007782), (1020, 0.0024974420365610982), (3503, 0.002496173273553045), (3246, 0.002495555326332962), (1033, 0.0024951948598459857), (1446, 0.002494604272718862), (4670, 0.002493573302227387), (1034, 0.0024929302298859835), (487, 0.0024919480014911105), (2367, 0.00249181471807105), (731, 0.0024901110306887564), (1027, 0.002489224874876376), (2141, 0.002488140000225262), (4567, 0.0024879442446905007), (1416, 0.0024876130941994066), (4536, 0.0024870398747682174), (3315, 0.002486750789033596), (2309, 0.0024866793915152277), (3214, 0.002485211628963508), (3268, 0.002484540569495487), (854, 0.0024843335367714043), (798, 0.0024841961125403665), (1744, 0.002483362147931812), (3122, 0.002483335078751966), (1929, 0.0024816501834847497), (2540, 0.00248101192669993), (1002, 0.0024802786720266885), (3151, 0.0024796936325112233), (3733, 0.0024792638721271043), (157, 0.0024792286332692777), (29, 0.002478954232936367), (3035, 0.002478186966037363), (3784, 0.0024777739830080595), (4085, 0.0024776205238373076), (1273, 0.0024774736369676297), (3691, 0.0024770266423977945), (3170, 0.002476488100246424), (984, 0.002476140174175711), (4213, 0.0024753218859153636), (221, 0.0024750429419508734), (3036, 0.002474932904982703), (2706, 0.0024748148751821504), (2765, 0.0024744061377815338), (2242, 0.0024742949181456183), (1375, 0.0024741602739069765), (1123, 0.0024740177452163125), (2068, 0.002473610193287183), (505, 0.0024729508256069047), (644, 0.00247288973028519), (4206, 0.002472700458412756), (4428, 0.002471834127393493), (1878, 0.002471676932951032), (2892, 0.002471028186833175), (3898, 0.002470305047749034), (437, 0.002470040336443481), (767, 0.0024693662860304564), (4345, 0.002469212039773317), (962, 0.002468357478112908), (2859, 0.0024679807851201285), (3799, 0.0024675872568413865), (2995, 0.002467145228862904), (373, 0.002467070096571566), (911, 0.0024661903267356785), (2572, 0.002465901442621894), (2679, 0.0024632859121423325), (203, 0.002463097307159381), (698, 0.0024629141467948142), (2651, 0.0024628960089187984), (2133, 0.002462210750518936), (3646, 0.002461457798306699), (1404, 0.0024606783419331914), (2997, 0.0024604665150216426), (325, 0.0024598989421129357), (2800, 0.0024594163052698826), (818, 0.0024592212923527663), (197, 0.0024579292291044856), (966, 0.0024578424197182285), (3194, 0.0024570444077450988), (578, 0.0024568487720607575), (3954, 0.0024568082852948693), (3734, 0.0024552321417906247), (1036, 0.002455165326581155), (2303, 0.002455128663198577), (387, 0.0024550858472649896), (3811, 0.0024540318314693094), (2972, 0.002453732455981118), (2812, 0.0024532720283316533), (4257, 0.0024522503836795937), (2348, 0.002451963021265713), (2166, 0.0024516101101154982), (2525, 0.002451248474476603), (31, 0.0024481959231392285), (2004, 0.0024466350539288475), (4011, 0.0024447609037890864), (507, 0.002444293548322782), (1203, 0.002444146783005985), (1693, 0.002444144720835315), (1682, 0.0024428448554539256), (1372, 0.0024419215417291118), (903, 0.0024401181166196057), (941, 0.002438117208200694), (734, 0.0024379345648813592), (212, 0.002436156907775838), (1206, 0.0024334698014348934), (963, 0.002433319165530203), (2099, 0.00243311760069044), (1884, 0.002433091621555575), (2634, 0.0024323480395311322), (2149, 0.002432253827622576), (3399, 0.0024320372730242657), (471, 0.0024309747847696974), (4634, 0.0024290348764600066), (4603, 0.00242822508541545), (3452, 0.0024273926979847134), (229, 0.0024269078576766656), (2862, 0.0024260070110283106), (372, 0.0024254788122409134), (598, 0.0024254217455939005), (944, 0.0024253113224288235), (895, 0.0024252565943533064), (1819, 0.002425205974144566), (3725, 0.002423847633167668), (921, 0.0024227177942953595), (410, 0.002421826913641959), (4591, 0.002421079274656098), (4356, 0.002420960945329325), (838, 0.0024205730003272192), (1558, 0.002419841608535006), (2446, 0.0024178026156176187), (3342, 0.00241724930935459), (868, 0.0024169319249956298), (1456, 0.002416222191693714), (3500, 0.0024151060374922907), (2907, 0.00241426383981471), (1650, 0.002413861090428306), (2556, 0.002413803293819244), (589, 0.0024125327092358925), (399, 0.0024120994574122322), (1642, 0.002409259936696048), (1514, 0.0024091398432394447), (766, 0.0024086374803933986), (2317, 0.002408623141537522), (2868, 0.002408404146739651), (744, 0.002407364283341937), (4402, 0.0024070601225408337), (136, 0.002403904770384803), (2735, 0.002403494896440821), (3558, 0.002403270372560125), (3913, 0.00240323391311677), (2399, 0.002402919082966794), (2593, 0.0024017258403905162), (3369, 0.0024011603697894224), (1477, 0.002401047395216901), (2482, 0.0023994676002791304), (590, 0.0023992370393755577), (1357, 0.002398933893496372), (1114, 0.0023976733749304945), (1814, 0.0023968657093500125), (2674, 0.0023962733944411195), (4282, 0.0023962280888697313), (4348, 0.0023939243550865617), (907, 0.0023938941407827177), (1079, 0.002393848325618965), (2453, 0.0023925314983917977), (121, 0.0023925230305364763), (3767, 0.0023912678090360203), (4649, 0.0023906382310678377), (3455, 0.0023902076870276926), (359, 0.002388934045222237), (1308, 0.002388295889147218), (1462, 0.0023876715913195906), (183, 0.002387396692720078), (4326, 0.0023866313561401917), (2362, 0.002386225651152545), (416, 0.0023854649894796713), (3050, 0.002384982274194591), (3284, 0.0023841445165115743), (1672, 0.0023830365760586546), (910, 0.002382925079561606), (1628, 0.002381878040071011), (2920, 0.0023817928339349387), (2301, 0.0023812294673811085), (624, 0.0023810414604998704), (863, 0.0023795039037996873), (1065, 0.0023792755891465897), (3742, 0.002377783477061024), (957, 0.0023769930967131774), (2954, 0.0023769052388092895), (1434, 0.002376677943314291), (218, 0.002376563905799861), (4638, 0.0023746057030628698), (1730, 0.002373269277414651), (3563, 0.0023725438309993418), (934, 0.0023724650894820566), (1675, 0.002371470161687739), (759, 0.002370099215948821), (2728, 0.00236946531480924), (3953, 0.002368507650812214), (2011, 0.0023670581241934372), (3278, 0.002367010909624253), (1528, 0.0023644027813086257), (1892, 0.002363787592992012), (2265, 0.0023632008526061556), (2236, 0.0023621832018824087), (1216, 0.0023605421776441257), (1503, 0.0023602000336321732), (608, 0.002359690674143108), (968, 0.002358076047011368), (3304, 0.002357127103563522), (1869, 0.002356899832598245), (3705, 0.002355556876007869), (3311, 0.002354774550482063), (449, 0.002354326637762087), (1826, 0.002353938165919283), (4154, 0.0023522480265707026), (2338, 0.0023519078770216006), (1605, 0.0023517607166335577), (428, 0.0023502220138695577), (1161, 0.002349850158214701), (1220, 0.0023495225347722162), (1719, 0.0023493375623819214), (2031, 0.0023490431481467925), (1366, 0.0023481637534633203), (4350, 0.002346340053171436), (581, 0.002345863164722533), (1690, 0.0023453559604600213), (981, 0.002343564221155125), (3974, 0.0023429959440673205), (2285, 0.0023423777021944567), (936, 0.0023422414250969794), (2457, 0.0023416494299814887), (804, 0.00234133847845634), (2248, 0.002340295314707845), (597, 0.0023400367435532587), (4143, 0.0023399610827235452), (161, 0.0023398568448706894), (800, 0.0023398044652458653), (722, 0.0023390444521140504), (1219, 0.0023353051944497694), (158, 0.002335047124375712), (3327, 0.002334943439240198), (885, 0.0023349119999365167), (1980, 0.0023348489897531267), (1808, 0.002334596113344002), (3841, 0.0023344716185349475), (4080, 0.0023340649541302703), (2976, 0.00233192353857647), (4590, 0.0023309787175928892), (917, 0.002330068325383272), (3795, 0.0023285987053083992), (3556, 0.00232756519349188), (1921, 0.002326444885025456), (4205, 0.0023251415609329925), (2580, 0.002324710491778619), (1934, 0.002324360801334488), (732, 0.0023238397567486246), (2163, 0.0023227598582395113), (1414, 0.002322338815421353), (268, 0.0023217620873416294), (1318, 0.002321603447136899), (672, 0.002321239696947537), (1539, 0.002321205866716597), (1977, 0.002317727039749439), (2724, 0.002313160977913003), (657, 0.0023116588587309343), (1423, 0.0023102807651416706), (2587, 0.0023101155705697205), (4608, 0.0023100545098061307), (4661, 0.0023074789571432613), (252, 0.002305836200531648), (1251, 0.0023035231153523007), (4343, 0.00230253703148918), (495, 0.0023023956757655542), (3755, 0.0023006556428747907), (2047, 0.0023003200572212306), (200, 0.002300167605145808), (519, 0.0022984516623464385), (1608, 0.0022977647512855263), (2502, 0.0022967429285150475), (4220, 0.002296444270636675), (1199, 0.0022963635376379845), (808, 0.0022948985737286354), (2753, 0.002293285813202407), (184, 0.0022922991288998086), (222, 0.0022911972876239507), (92, 0.0022908812788003494), (4247, 0.00228797803537673), (2975, 0.00228697639148301), (4066, 0.002286071419663193), (97, 0.002284449633546706), (2240, 0.002284402014965045), (480, 0.0022842666721985226), (2237, 0.0022842309189564022), (3894, 0.0022830268269808983), (249, 0.0022829573555505278), (32, 0.002282814585002912), (1136, 0.0022821499445200852), (4156, 0.0022818722004681355), (4432, 0.002278475658038367), (1301, 0.0022742477327232628), (3880, 0.002271105009716788), (4296, 0.00226746233844294), (4473, 0.0022671815825007747), (3655, 0.002265459058506808), (3096, 0.002262848004863375), (2721, 0.002261923347908749), (4429, 0.0022602166429054387), (1217, 0.0022599657470092995), (1465, 0.002256886325118523), (2520, 0.0022566315204146114), (103, 0.0022547093172337984), (4748, 0.0022545107856798917), (3211, 0.0022538649563958913), (242, 0.002253825145571593), (2942, 0.002252571584402518), (1397, 0.0022511203085719537), (165, 0.0022503305730168723), (2270, 0.002249175945220063), (642, 0.002248514632253852), (357, 0.0022463637715513275), (1828, 0.0022461680269500683), (4386, 0.0022451123493389194), (1370, 0.002244564914008243), (1450, 0.0022432975408927477), (278, 0.002242005798071716), (861, 0.002241645865166812), (2761, 0.0022401250229922543), (364, 0.0022395113205897535), (2527, 0.0022389152101772174), (3393, 0.00223885791391798), (3629, 0.002235628527831805), (269, 0.002233686542283484), (4627, 0.002233680317136339), (3569, 0.0022318810646861347), (2743, 0.002231852682542102), (2382, 0.0022299249981659443), (1763, 0.0022292045886682112), (1215, 0.002228208874250479), (4476, 0.002227527852230325), (60, 0.002226813104138751), (4344, 0.0022252194260271954), (1627, 0.0022252009008462835), (1565, 0.0022250825055392647), (2146, 0.002224644625851527), (3579, 0.002222004010871691), (1691, 0.002221167387927888), (3409, 0.0022209139700278967), (1743, 0.0022157822431664344), (432, 0.002214552527128901), (2933, 0.0022106902657979205), (3855, 0.0022088130141444083), (403, 0.002206413189575218), (626, 0.002206059476114692), (3669, 0.002206056358072959), (267, 0.0022060274355034637), (2035, 0.0022052768319561315), (3668, 0.002203368224189521), (1356, 0.002203283056649547), (3634, 0.0022009574229354665), (617, 0.0021978219236142567), (1312, 0.0021967999572194957), (3657, 0.00219676691752363), (4636, 0.002195242109401173), (2039, 0.0021896908729451717), (707, 0.0021895211135866564), (2157, 0.0021888975268633975), (196, 0.0021864991726909338), (2603, 0.002186337115200003), (1801, 0.0021861609171144407), (2127, 0.0021853360361287428), (3347, 0.0021848675641349354), (3821, 0.0021831263025693087), (3091, 0.002178881692244159), (2132, 0.002174762730994739), (3928, 0.0021744529924191233), (2876, 0.0021741172550235168), (1042, 0.002174116622800165), (2359, 0.0021727402599556233), (4733, 0.002172043092152407), (2287, 0.0021717888939499163), (2985, 0.002171325230466923), (16, 0.0021697007036063348), (616, 0.0021693269234619676), (1209, 0.0021692779136677958), (3252, 0.002169096054180178), (2481, 0.00216782208109667), (3927, 0.002166736249599557), (2221, 0.0021641090915298293), (2969, 0.0021590304254655323), (3056, 0.0021565215664132407), (3024, 0.002153412561612389), (25, 0.0021533305779052243), (4200, 0.0021522631094271407), (1571, 0.0021521960729859566), (1305, 0.002152062280624128), (2844, 0.002149974850865952), (3957, 0.0021456508797134304), (2034, 0.002144672709718962), (113, 0.0021406524511647426), (1241, 0.002139998529139511), (3751, 0.0021395999600484507), (1427, 0.0021339104874973725), (1415, 0.002132790124968315), (2526, 0.0021298839059843808), (433, 0.0021293682877571154), (3254, 0.0021284591879067644), (1950, 0.002126303410511807), (645, 0.0021261086159382776), (3313, 0.0021252835973452765), (1098, 0.00212272336849498), (1624, 0.002118314499346536), (1037, 0.002117575007102549), (3875, 0.0021158599353080154), (4311, 0.002114926251404017), (156, 0.002114694383273965), (4744, 0.0021102619198517143), (4626, 0.0021046327342991956), (3575, 0.00210303533109424), (953, 0.0020959485980701588), (3410, 0.0020947840731949724), (4674, 0.0020907763829159454), (3431, 0.0020904138650189937), (407, 0.0020886876887022737), (194, 0.002088577664693566), (510, 0.0020808054079972807), (3538, 0.00207567265575148), (1144, 0.002075412426697029), (1871, 0.0020718952496869333), (63, 0.00207176757326572), (1886, 0.002069047217255854), (609, 0.002065437229532044), (527, 0.002060829549173785), (2010, 0.0020557523495170005), (1677, 0.002048005949503123), (3301, 0.0020384912245964408), (2469, 0.002038114996417394), (159, 0.0020373628041533472), (3152, 0.0020313766829826063), (2767, 0.002030913450351923), (571, 0.0020070761457853417), (266, 0.002002954699082878), (3316, 0.0020024292895395746), (1403, 0.0020000443105066194), (453, 0.001990550468300836), (4652, 0.0019897323458028917), (82, 0.0019754159637020647), (228, 0.001971512208577585), (452, 0.0019606172898053525), (2636, 0.0019543564042153933), (4445, 0.001954216482756833), (296, 0.0019510121697334842), (1277, 0.0019466555358296752), (2550, 0.0019465891895478825), (1648, 0.0019440087320960738), (4301, 0.0019313403121179564), (1351, 0.001919757084141214), (2902, 0.001914553060176274), (283, 0.0019049976554864642), (1306, 0.001897664513396442), (7, 0.001870011214968109), (4752, 0.0018646603215131752), (455, 0.0018472069195721087), (4171, 0.0018397560167767377), (3365, 0.0018357575783363488), (330, 0.0017986775851914984), (858, 0.0017576469829978338), (24, 0.00170019327261827), (1780, 0.0016981369695293093), (3608, 0.001695566720666873), (2538, 0.0015575499058607689), (2841, 0.0014540121469141403), (2534, 0.0011612430293695335), (475, 0.0009100374393659767), (1, 0.0), (6, 0.0), (9, 0.0), (13, 0.0), (17, 0.0), (22, 0.0), (28, 0.0), (30, 0.0), (35, 0.0), (37, 0.0), (39, 0.0), (49, 0.0), (54, 0.0), (55, 0.0), (56, 0.0), (57, 0.0), (59, 0.0), (64, 0.0), (65, 0.0), (67, 0.0), (69, 0.0), (75, 0.0), (76, 0.0), (77, 0.0), (78, 0.0), (80, 0.0), (90, 0.0), (91, 0.0), (93, 0.0), (94, 0.0), (95, 0.0), (100, 0.0), (101, 0.0), (102, 0.0), (110, 0.0), (117, 0.0), (118, 0.0), (125, 0.0), (128, 0.0), (130, 0.0), (133, 0.0), (134, 0.0), (135, 0.0), (141, 0.0), (150, 0.0), (151, 0.0), (152, 0.0), (153, 0.0), (155, 0.0), (168, 0.0), (171, 0.0), (177, 0.0), (186, 0.0), (187, 0.0), (191, 0.0), (214, 0.0), (219, 0.0), (220, 0.0), (223, 0.0), (225, 0.0), (230, 0.0), (231, 0.0), (232, 0.0), (233, 0.0), (234, 0.0), (239, 0.0), (241, 0.0), (245, 0.0), (250, 0.0), (257, 0.0), (258, 0.0), (259, 0.0), (260, 0.0), (261, 0.0), (263, 0.0), (264, 0.0), (272, 0.0), (273, 0.0), (275, 0.0), (284, 0.0), (288, 0.0), (289, 0.0), (290, 0.0), (295, 0.0), (297, 0.0), (298, 0.0), (299, 0.0), (300, 0.0), (301, 0.0), (302, 0.0), (303, 0.0), (305, 0.0), (306, 0.0), (310, 0.0), (313, 0.0), (314, 0.0), (315, 0.0), (316, 0.0), (319, 0.0), (320, 0.0), (321, 0.0), (323, 0.0), (327, 0.0), (328, 0.0), (331, 0.0), (332, 0.0), (336, 0.0), (337, 0.0), (338, 0.0), (339, 0.0), (340, 0.0), (341, 0.0), (344, 0.0), (347, 0.0), (352, 0.0), (354, 0.0), (361, 0.0), (362, 0.0), (363, 0.0), (365, 0.0), (366, 0.0), (376, 0.0), (379, 0.0), (380, 0.0), (381, 0.0), (382, 0.0), (383, 0.0), (384, 0.0), (386, 0.0), (389, 0.0), (390, 0.0), (391, 0.0), (392, 0.0), (393, 0.0), (394, 0.0), (398, 0.0), (404, 0.0), (405, 0.0), (409, 0.0), (411, 0.0), (413, 0.0), (414, 0.0), (415, 0.0), (420, 0.0), (421, 0.0), (424, 0.0), (425, 0.0), (426, 0.0), (439, 0.0), (440, 0.0), (459, 0.0), (462, 0.0), (467, 0.0), (468, 0.0), (469, 0.0), (477, 0.0), (486, 0.0), (491, 0.0), (492, 0.0), (498, 0.0), (506, 0.0), (511, 0.0), (512, 0.0), (513, 0.0), (514, 0.0), (520, 0.0), (521, 0.0), (523, 0.0), (525, 0.0), (528, 0.0), (529, 0.0), (531, 0.0), (535, 0.0), (536, 0.0), (537, 0.0), (538, 0.0), (545, 0.0), (546, 0.0), (552, 0.0), (553, 0.0), (554, 0.0), (555, 0.0), (557, 0.0), (559, 0.0), (561, 0.0), (568, 0.0), (572, 0.0), (573, 0.0), (574, 0.0), (582, 0.0), (583, 0.0), (586, 0.0), (591, 0.0), (592, 0.0), (595, 0.0), (599, 0.0), (601, 0.0), (602, 0.0), (603, 0.0), (610, 0.0), (618, 0.0), (619, 0.0), (625, 0.0), (630, 0.0), (633, 0.0), (634, 0.0), (635, 0.0), (639, 0.0), (640, 0.0), (648, 0.0), (649, 0.0), (650, 0.0), (656, 0.0), (658, 0.0), (661, 0.0), (663, 0.0), (665, 0.0), (674, 0.0), (679, 0.0), (681, 0.0), (685, 0.0), (686, 0.0), (687, 0.0), (690, 0.0), (700, 0.0), (702, 0.0), (704, 0.0), (710, 0.0), (711, 0.0), (713, 0.0), (714, 0.0), (720, 0.0), (725, 0.0), (736, 0.0), (738, 0.0), (741, 0.0), (747, 0.0), (748, 0.0), (754, 0.0), (758, 0.0), (762, 0.0), (763, 0.0), (764, 0.0), (765, 0.0), (768, 0.0), (770, 0.0), (771, 0.0), (772, 0.0), (775, 0.0), (776, 0.0), (778, 0.0), (779, 0.0), (780, 0.0), (781, 0.0), (784, 0.0), (785, 0.0), (789, 0.0), (793, 0.0), (797, 0.0), (802, 0.0), (803, 0.0), (809, 0.0), (811, 0.0), (812, 0.0), (814, 0.0), (819, 0.0), (820, 0.0), (821, 0.0), (822, 0.0), (834, 0.0), (835, 0.0), (837, 0.0), (839, 0.0), (840, 0.0), (841, 0.0), (859, 0.0), (877, 0.0), (881, 0.0), (882, 0.0), (891, 0.0), (898, 0.0), (902, 0.0), (906, 0.0), (909, 0.0), (912, 0.0), (913, 0.0), (914, 0.0), (919, 0.0), (920, 0.0), (926, 0.0), (938, 0.0), (943, 0.0), (945, 0.0), (950, 0.0), (954, 0.0), (955, 0.0), (956, 0.0), (960, 0.0), (961, 0.0), (964, 0.0), (965, 0.0), (970, 0.0), (972, 0.0), (977, 0.0), (983, 0.0), (990, 0.0), (992, 0.0), (995, 0.0), (996, 0.0), (997, 0.0), (1003, 0.0), (1008, 0.0), (1011, 0.0), (1013, 0.0), (1014, 0.0), (1016, 0.0), (1022, 0.0), (1025, 0.0), (1028, 0.0), (1031, 0.0), (1039, 0.0), (1045, 0.0), (1046, 0.0), (1051, 0.0), (1055, 0.0), (1056, 0.0), (1057, 0.0), (1066, 0.0), (1069, 0.0), (1070, 0.0), (1081, 0.0), (1082, 0.0), (1086, 0.0), (1089, 0.0), (1090, 0.0), (1091, 0.0), (1093, 0.0), (1095, 0.0), (1097, 0.0), (1099, 0.0), (1105, 0.0), (1106, 0.0), (1108, 0.0), (1113, 0.0), (1118, 0.0), (1120, 0.0), (1126, 0.0), (1127, 0.0), (1129, 0.0), (1134, 0.0), (1135, 0.0), (1139, 0.0), (1142, 0.0), (1146, 0.0), (1147, 0.0), (1149, 0.0), (1150, 0.0), (1151, 0.0), (1152, 0.0), (1154, 0.0), (1155, 0.0), (1157, 0.0), (1158, 0.0), (1159, 0.0), (1164, 0.0), (1165, 0.0), (1166, 0.0), (1171, 0.0), (1172, 0.0), (1178, 0.0), (1180, 0.0), (1181, 0.0), (1189, 0.0), (1190, 0.0), (1193, 0.0), (1196, 0.0), (1197, 0.0), (1198, 0.0), (1200, 0.0), (1201, 0.0), (1205, 0.0), (1207, 0.0), (1211, 0.0), (1212, 0.0), (1218, 0.0), (1221, 0.0), (1222, 0.0), (1227, 0.0), (1228, 0.0), (1233, 0.0), (1235, 0.0), (1238, 0.0), (1240, 0.0), (1242, 0.0), (1244, 0.0), (1250, 0.0), (1256, 0.0), (1258, 0.0), (1262, 0.0), (1263, 0.0), (1265, 0.0), (1266, 0.0), (1267, 0.0), (1268, 0.0), (1269, 0.0), (1270, 0.0), (1274, 0.0), (1278, 0.0), (1279, 0.0), (1280, 0.0), (1283, 0.0), (1285, 0.0), (1287, 0.0), (1288, 0.0), (1289, 0.0), (1291, 0.0), (1293, 0.0), (1296, 0.0), (1297, 0.0), (1302, 0.0), (1309, 0.0), (1310, 0.0), (1311, 0.0), (1315, 0.0), (1316, 0.0), (1321, 0.0), (1322, 0.0), (1323, 0.0), (1326, 0.0), (1327, 0.0), (1328, 0.0), (1331, 0.0), (1332, 0.0), (1333, 0.0), (1336, 0.0), (1345, 0.0), (1346, 0.0), (1354, 0.0), (1358, 0.0), (1363, 0.0), (1368, 0.0), (1374, 0.0), (1380, 0.0), (1381, 0.0), (1384, 0.0), (1386, 0.0), (1390, 0.0), (1391, 0.0), (1396, 0.0), (1399, 0.0), (1401, 0.0), (1418, 0.0), (1420, 0.0), (1424, 0.0), (1426, 0.0), (1431, 0.0), (1435, 0.0), (1437, 0.0), (1441, 0.0), (1444, 0.0), (1445, 0.0), (1449, 0.0), (1451, 0.0), (1452, 0.0), (1457, 0.0), (1458, 0.0), (1459, 0.0), (1460, 0.0), (1466, 0.0), (1467, 0.0), (1470, 0.0), (1473, 0.0), (1486, 0.0), (1487, 0.0), (1490, 0.0), (1491, 0.0), (1495, 0.0), (1496, 0.0), (1501, 0.0), (1502, 0.0), (1508, 0.0), (1511, 0.0), (1512, 0.0), (1515, 0.0), (1517, 0.0), (1520, 0.0), (1521, 0.0), (1522, 0.0), (1524, 0.0), (1525, 0.0), (1526, 0.0), (1530, 0.0), (1531, 0.0), (1534, 0.0), (1535, 0.0), (1541, 0.0), (1546, 0.0), (1549, 0.0), (1554, 0.0), (1556, 0.0), (1560, 0.0), (1563, 0.0), (1566, 0.0), (1573, 0.0), (1577, 0.0), (1579, 0.0), (1581, 0.0), (1583, 0.0), (1584, 0.0), (1586, 0.0), (1587, 0.0), (1588, 0.0), (1590, 0.0), (1596, 0.0), (1599, 0.0), (1600, 0.0), (1601, 0.0), (1602, 0.0), (1603, 0.0), (1604, 0.0), (1606, 0.0), (1607, 0.0), (1609, 0.0), (1610, 0.0), (1611, 0.0), (1615, 0.0), (1618, 0.0), (1623, 0.0), (1626, 0.0), (1631, 0.0), (1632, 0.0), (1633, 0.0), (1635, 0.0), (1636, 0.0), (1638, 0.0), (1639, 0.0), (1640, 0.0), (1644, 0.0), (1649, 0.0), (1652, 0.0), (1657, 0.0), (1659, 0.0), (1661, 0.0), (1662, 0.0), (1664, 0.0), (1668, 0.0), (1669, 0.0), (1676, 0.0), (1679, 0.0), (1684, 0.0), (1686, 0.0), (1689, 0.0), (1692, 0.0), (1695, 0.0), (1696, 0.0), (1697, 0.0), (1698, 0.0), (1700, 0.0), (1701, 0.0), (1702, 0.0), (1704, 0.0), (1709, 0.0), (1713, 0.0), (1714, 0.0), (1718, 0.0), (1723, 0.0), (1724, 0.0), (1725, 0.0), (1728, 0.0), (1729, 0.0), (1731, 0.0), (1732, 0.0), (1734, 0.0), (1737, 0.0), (1745, 0.0), (1746, 0.0), (1749, 0.0), (1751, 0.0), (1753, 0.0), (1755, 0.0), (1756, 0.0), (1757, 0.0), (1758, 0.0), (1761, 0.0), (1766, 0.0), (1767, 0.0), (1769, 0.0), (1770, 0.0), (1771, 0.0), (1772, 0.0), (1773, 0.0), (1777, 0.0), (1783, 0.0), (1786, 0.0), (1787, 0.0), (1788, 0.0), (1790, 0.0), (1791, 0.0), (1794, 0.0), (1799, 0.0), (1800, 0.0), (1803, 0.0), (1804, 0.0), (1809, 0.0), (1810, 0.0), (1817, 0.0), (1818, 0.0), (1820, 0.0), (1823, 0.0), (1825, 0.0), (1834, 0.0), (1835, 0.0), (1836, 0.0), (1837, 0.0), (1839, 0.0), (1841, 0.0), (1844, 0.0), (1849, 0.0), (1850, 0.0), (1852, 0.0), (1855, 0.0), (1856, 0.0), (1857, 0.0), (1859, 0.0), (1867, 0.0), (1868, 0.0), (1879, 0.0), (1880, 0.0), (1881, 0.0), (1883, 0.0), (1889, 0.0), (1894, 0.0), (1898, 0.0), (1899, 0.0), (1900, 0.0), (1904, 0.0), (1906, 0.0), (1908, 0.0), (1910, 0.0), (1911, 0.0), (1914, 0.0), (1917, 0.0), (1925, 0.0), (1928, 0.0), (1930, 0.0), (1932, 0.0), (1938, 0.0), (1939, 0.0), (1940, 0.0), (1941, 0.0), (1952, 0.0), (1955, 0.0), (1957, 0.0), (1961, 0.0), (1962, 0.0), (1965, 0.0), (1966, 0.0), (1972, 0.0), (1975, 0.0), (1976, 0.0), (1982, 0.0), (1984, 0.0), (1988, 0.0), (1990, 0.0), (1994, 0.0), (1996, 0.0), (1998, 0.0), (1999, 0.0), (2002, 0.0), (2005, 0.0), (2006, 0.0), (2007, 0.0), (2012, 0.0), (2013, 0.0), (2015, 0.0), (2017, 0.0), (2018, 0.0), (2019, 0.0), (2020, 0.0), (2021, 0.0), (2022, 0.0), (2025, 0.0), (2028, 0.0), (2030, 0.0), (2032, 0.0), (2033, 0.0), (2036, 0.0), (2038, 0.0), (2041, 0.0), (2042, 0.0), (2043, 0.0), (2044, 0.0), (2046, 0.0), (2050, 0.0), (2052, 0.0), (2056, 0.0), (2058, 0.0), (2059, 0.0), (2062, 0.0), (2063, 0.0), (2064, 0.0), (2071, 0.0), (2074, 0.0), (2078, 0.0), (2079, 0.0), (2084, 0.0), (2086, 0.0), (2090, 0.0), (2092, 0.0), (2094, 0.0), (2101, 0.0), (2106, 0.0), (2107, 0.0), (2114, 0.0), (2115, 0.0), (2120, 0.0), (2124, 0.0), (2125, 0.0), (2128, 0.0), (2130, 0.0), (2136, 0.0), (2139, 0.0), (2140, 0.0), (2145, 0.0), (2147, 0.0), (2150, 0.0), (2153, 0.0), (2156, 0.0), (2160, 0.0), (2161, 0.0), (2164, 0.0), (2165, 0.0), (2167, 0.0), (2168, 0.0), (2170, 0.0), (2171, 0.0), (2172, 0.0), (2175, 0.0), (2179, 0.0), (2181, 0.0), (2182, 0.0), (2183, 0.0), (2185, 0.0), (2186, 0.0), (2194, 0.0), (2198, 0.0), (2200, 0.0), (2203, 0.0), (2205, 0.0), (2207, 0.0), (2208, 0.0), (2215, 0.0), (2217, 0.0), (2219, 0.0), (2220, 0.0), (2222, 0.0), (2225, 0.0), (2231, 0.0), (2232, 0.0), (2233, 0.0), (2238, 0.0), (2239, 0.0), (2241, 0.0), (2243, 0.0), (2244, 0.0), (2246, 0.0), (2247, 0.0), (2249, 0.0), (2253, 0.0), (2259, 0.0), (2261, 0.0), (2262, 0.0), (2263, 0.0), (2267, 0.0), (2271, 0.0), (2272, 0.0), (2273, 0.0), (2274, 0.0), (2278, 0.0), (2281, 0.0), (2282, 0.0), (2283, 0.0), (2290, 0.0), (2291, 0.0), (2294, 0.0), (2296, 0.0), (2300, 0.0), (2305, 0.0), (2307, 0.0), (2308, 0.0), (2311, 0.0), (2312, 0.0), (2315, 0.0), (2325, 0.0), (2326, 0.0), (2328, 0.0), (2329, 0.0), (2330, 0.0), (2331, 0.0), (2332, 0.0), (2333, 0.0), (2335, 0.0), (2337, 0.0), (2339, 0.0), (2341, 0.0), (2342, 0.0), (2343, 0.0), (2345, 0.0), (2357, 0.0), (2358, 0.0), (2364, 0.0), (2365, 0.0), (2371, 0.0), (2373, 0.0), (2376, 0.0), (2377, 0.0), (2380, 0.0), (2381, 0.0), (2384, 0.0), (2389, 0.0), (2395, 0.0), (2413, 0.0), (2414, 0.0), (2420, 0.0), (2421, 0.0), (2426, 0.0), (2431, 0.0), (2432, 0.0), (2433, 0.0), (2435, 0.0), (2442, 0.0), (2449, 0.0), (2451, 0.0), (2455, 0.0), (2456, 0.0), (2462, 0.0), (2470, 0.0), (2471, 0.0), (2472, 0.0), (2476, 0.0), (2479, 0.0), (2483, 0.0), (2485, 0.0), (2491, 0.0), (2493, 0.0), (2498, 0.0), (2500, 0.0), (2501, 0.0), (2503, 0.0), (2504, 0.0), (2506, 0.0), (2508, 0.0), (2510, 0.0), (2511, 0.0), (2513, 0.0), (2515, 0.0), (2517, 0.0), (2518, 0.0), (2521, 0.0), (2532, 0.0), (2536, 0.0), (2539, 0.0), (2541, 0.0), (2542, 0.0), (2543, 0.0), (2549, 0.0), (2551, 0.0), (2562, 0.0), (2564, 0.0), (2566, 0.0), (2567, 0.0), (2573, 0.0), (2575, 0.0), (2576, 0.0), (2577, 0.0), (2582, 0.0), (2583, 0.0), (2584, 0.0), (2586, 0.0), (2588, 0.0), (2590, 0.0), (2594, 0.0), (2596, 0.0), (2597, 0.0), (2599, 0.0), (2604, 0.0), (2605, 0.0), (2608, 0.0), (2616, 0.0), (2626, 0.0), (2630, 0.0), (2631, 0.0), (2637, 0.0), (2641, 0.0), (2644, 0.0), (2646, 0.0), (2648, 0.0), (2657, 0.0), (2658, 0.0), (2659, 0.0), (2660, 0.0), (2662, 0.0), (2665, 0.0), (2666, 0.0), (2667, 0.0), (2669, 0.0), (2670, 0.0), (2671, 0.0), (2672, 0.0), (2676, 0.0), (2677, 0.0), (2680, 0.0), (2681, 0.0), (2682, 0.0), (2684, 0.0), (2690, 0.0), (2691, 0.0), (2693, 0.0), (2699, 0.0), (2700, 0.0), (2701, 0.0), (2703, 0.0), (2708, 0.0), (2709, 0.0), (2711, 0.0), (2713, 0.0), (2715, 0.0), (2717, 0.0), (2718, 0.0), (2719, 0.0), (2726, 0.0), (2729, 0.0), (2730, 0.0), (2733, 0.0), (2737, 0.0), (2749, 0.0), (2750, 0.0), (2754, 0.0), (2756, 0.0), (2763, 0.0), (2770, 0.0), (2773, 0.0), (2774, 0.0), (2781, 0.0), (2785, 0.0), (2787, 0.0), (2793, 0.0), (2794, 0.0), (2799, 0.0), (2804, 0.0), (2806, 0.0), (2807, 0.0), (2810, 0.0), (2811, 0.0), (2813, 0.0), (2814, 0.0), (2817, 0.0), (2818, 0.0), (2820, 0.0), (2828, 0.0), (2829, 0.0), (2836, 0.0), (2837, 0.0), (2839, 0.0), (2843, 0.0), (2847, 0.0), (2850, 0.0), (2851, 0.0), (2855, 0.0), (2856, 0.0), (2860, 0.0), (2865, 0.0), (2866, 0.0), (2867, 0.0), (2869, 0.0), (2873, 0.0), (2875, 0.0), (2877, 0.0), (2880, 0.0), (2885, 0.0), (2891, 0.0), (2896, 0.0), (2898, 0.0), (2905, 0.0), (2906, 0.0), (2921, 0.0), (2922, 0.0), (2927, 0.0), (2928, 0.0), (2929, 0.0), (2930, 0.0), (2935, 0.0), (2938, 0.0), (2941, 0.0), (2947, 0.0), (2950, 0.0), (2951, 0.0), (2952, 0.0), (2955, 0.0), (2959, 0.0), (2960, 0.0), (2967, 0.0), (2973, 0.0), (2979, 0.0), (2982, 0.0), (2983, 0.0), (2984, 0.0), (2990, 0.0), (2991, 0.0), (2992, 0.0), (3001, 0.0), (3002, 0.0), (3006, 0.0), (3008, 0.0), (3009, 0.0), (3017, 0.0), (3021, 0.0), (3022, 0.0), (3023, 0.0), (3025, 0.0), (3033, 0.0), (3038, 0.0), (3039, 0.0), (3041, 0.0), (3048, 0.0), (3049, 0.0), (3053, 0.0), (3054, 0.0), (3059, 0.0), (3060, 0.0), (3063, 0.0), (3066, 0.0), (3068, 0.0), (3073, 0.0), (3078, 0.0), (3079, 0.0), (3080, 0.0), (3082, 0.0), (3087, 0.0), (3088, 0.0), (3089, 0.0), (3090, 0.0), (3100, 0.0), (3105, 0.0), (3106, 0.0), (3107, 0.0), (3114, 0.0), (3115, 0.0), (3121, 0.0), (3126, 0.0), (3130, 0.0), (3132, 0.0), (3133, 0.0), (3134, 0.0), (3135, 0.0), (3136, 0.0), (3138, 0.0), (3143, 0.0), (3144, 0.0), (3145, 0.0), (3156, 0.0), (3160, 0.0), (3161, 0.0), (3162, 0.0), (3164, 0.0), (3168, 0.0), (3169, 0.0), (3176, 0.0), (3177, 0.0), (3180, 0.0), (3181, 0.0), (3185, 0.0), (3189, 0.0), (3190, 0.0), (3191, 0.0), (3193, 0.0), (3197, 0.0), (3201, 0.0), (3202, 0.0), (3203, 0.0), (3204, 0.0), (3205, 0.0), (3207, 0.0), (3209, 0.0), (3213, 0.0), (3215, 0.0), (3217, 0.0), (3221, 0.0), (3222, 0.0), (3223, 0.0), (3231, 0.0), (3244, 0.0), (3247, 0.0), (3251, 0.0), (3253, 0.0), (3255, 0.0), (3256, 0.0), (3261, 0.0), (3263, 0.0), (3265, 0.0), (3266, 0.0), (3270, 0.0), (3272, 0.0), (3277, 0.0), (3281, 0.0), (3286, 0.0), (3287, 0.0), (3294, 0.0), (3295, 0.0), (3305, 0.0), (3309, 0.0), (3319, 0.0), (3320, 0.0), (3321, 0.0), (3323, 0.0), (3324, 0.0), (3332, 0.0), (3338, 0.0), (3339, 0.0), (3340, 0.0), (3343, 0.0), (3345, 0.0), (3361, 0.0), (3366, 0.0), (3368, 0.0), (3371, 0.0), (3375, 0.0), (3383, 0.0), (3385, 0.0), (3395, 0.0), (3397, 0.0), (3398, 0.0), (3400, 0.0), (3401, 0.0), (3404, 0.0), (3411, 0.0), (3420, 0.0), (3422, 0.0), (3424, 0.0), (3426, 0.0), (3427, 0.0), (3428, 0.0), (3429, 0.0), (3432, 0.0), (3438, 0.0), (3439, 0.0), (3440, 0.0), (3443, 0.0), (3444, 0.0), (3446, 0.0), (3448, 0.0), (3451, 0.0), (3454, 0.0), (3456, 0.0), (3457, 0.0), (3459, 0.0), (3467, 0.0), (3468, 0.0), (3469, 0.0), (3470, 0.0), (3472, 0.0), (3473, 0.0), (3475, 0.0), (3476, 0.0), (3481, 0.0), (3482, 0.0), (3485, 0.0), (3486, 0.0), (3488, 0.0), (3489, 0.0), (3490, 0.0), (3494, 0.0), (3495, 0.0), (3502, 0.0), (3505, 0.0), (3509, 0.0), (3513, 0.0), (3515, 0.0), (3518, 0.0), (3519, 0.0), (3520, 0.0), (3522, 0.0), (3529, 0.0), (3530, 0.0), (3532, 0.0), (3543, 0.0), (3545, 0.0), (3547, 0.0), (3549, 0.0), (3554, 0.0), (3555, 0.0), (3562, 0.0), (3566, 0.0), (3567, 0.0), (3568, 0.0), (3572, 0.0), (3573, 0.0), (3574, 0.0), (3576, 0.0), (3578, 0.0), (3581, 0.0), (3583, 0.0), (3584, 0.0), (3585, 0.0), (3588, 0.0), (3591, 0.0), (3592, 0.0), (3595, 0.0), (3598, 0.0), (3600, 0.0), (3603, 0.0), (3604, 0.0), (3605, 0.0), (3607, 0.0), (3610, 0.0), (3617, 0.0), (3622, 0.0), (3625, 0.0), (3628, 0.0), (3630, 0.0), (3631, 0.0), (3632, 0.0), (3633, 0.0), (3644, 0.0), (3648, 0.0), (3649, 0.0), (3663, 0.0), (3664, 0.0), (3671, 0.0), (3676, 0.0), (3679, 0.0), (3682, 0.0), (3683, 0.0), (3685, 0.0), (3690, 0.0), (3693, 0.0), (3695, 0.0), (3700, 0.0), (3703, 0.0), (3709, 0.0), (3710, 0.0), (3712, 0.0), (3715, 0.0), (3717, 0.0), (3718, 0.0), (3720, 0.0), (3721, 0.0), (3723, 0.0), (3724, 0.0), (3726, 0.0), (3730, 0.0), (3732, 0.0), (3735, 0.0), (3736, 0.0), (3740, 0.0), (3743, 0.0), (3744, 0.0), (3748, 0.0), (3750, 0.0), (3753, 0.0), (3758, 0.0), (3759, 0.0), (3760, 0.0), (3761, 0.0), (3764, 0.0), (3769, 0.0), (3773, 0.0), (3776, 0.0), (3783, 0.0), (3785, 0.0), (3786, 0.0), (3787, 0.0), (3788, 0.0), (3789, 0.0), (3790, 0.0), (3793, 0.0), (3796, 0.0), (3798, 0.0), (3800, 0.0), (3803, 0.0), (3805, 0.0), (3810, 0.0), (3812, 0.0), (3815, 0.0), (3817, 0.0), (3818, 0.0), (3823, 0.0), (3825, 0.0), (3831, 0.0), (3834, 0.0), (3836, 0.0), (3837, 0.0), (3838, 0.0), (3840, 0.0), (3844, 0.0), (3846, 0.0), (3850, 0.0), (3851, 0.0), (3858, 0.0), (3859, 0.0), (3865, 0.0), (3869, 0.0), (3879, 0.0), (3881, 0.0), (3885, 0.0), (3887, 0.0), (3891, 0.0), (3896, 0.0), (3897, 0.0), (3907, 0.0), (3908, 0.0), (3914, 0.0), (3918, 0.0), (3921, 0.0), (3923, 0.0), (3929, 0.0), (3930, 0.0), (3931, 0.0), (3933, 0.0), (3934, 0.0), (3936, 0.0), (3937, 0.0), (3940, 0.0), (3942, 0.0), (3950, 0.0), (3955, 0.0), (3963, 0.0), (3964, 0.0), (3966, 0.0), (3968, 0.0), (3969, 0.0), (3970, 0.0), (3971, 0.0), (3972, 0.0), (3975, 0.0), (3977, 0.0), (3980, 0.0), (3981, 0.0), (3982, 0.0), (3988, 0.0), (3989, 0.0), (3991, 0.0), (3994, 0.0), (3995, 0.0), (3996, 0.0), (3997, 0.0), (3998, 0.0), (4008, 0.0), (4009, 0.0), (4010, 0.0), (4012, 0.0), (4021, 0.0), (4026, 0.0), (4027, 0.0), (4031, 0.0), (4034, 0.0), (4035, 0.0), (4039, 0.0), (4044, 0.0), (4058, 0.0), (4061, 0.0), (4064, 0.0), (4065, 0.0), (4070, 0.0), (4071, 0.0), (4072, 0.0), (4073, 0.0), (4076, 0.0), (4077, 0.0), (4078, 0.0), (4086, 0.0), (4090, 0.0), (4091, 0.0), (4097, 0.0), (4100, 0.0), (4103, 0.0), (4108, 0.0), (4109, 0.0), (4110, 0.0), (4112, 0.0), (4114, 0.0), (4115, 0.0), (4119, 0.0), (4120, 0.0), (4127, 0.0), (4128, 0.0), (4131, 0.0), (4134, 0.0), (4144, 0.0), (4146, 0.0), (4149, 0.0), (4157, 0.0), (4158, 0.0), (4162, 0.0), (4166, 0.0), (4167, 0.0), (4168, 0.0), (4170, 0.0), (4179, 0.0), (4180, 0.0), (4181, 0.0), (4185, 0.0), (4188, 0.0), (4190, 0.0), (4194, 0.0), (4195, 0.0), (4196, 0.0), (4198, 0.0), (4199, 0.0), (4201, 0.0), (4204, 0.0), (4207, 0.0), (4208, 0.0), (4211, 0.0), (4212, 0.0), (4214, 0.0), (4215, 0.0), (4217, 0.0), (4218, 0.0), (4219, 0.0), (4223, 0.0), (4224, 0.0), (4229, 0.0), (4234, 0.0), (4236, 0.0), (4238, 0.0), (4239, 0.0), (4240, 0.0), (4248, 0.0), (4250, 0.0), (4251, 0.0), (4252, 0.0), (4258, 0.0), (4260, 0.0), (4270, 0.0), (4271, 0.0), (4272, 0.0), (4276, 0.0), (4278, 0.0), (4279, 0.0), (4285, 0.0), (4290, 0.0), (4291, 0.0), (4294, 0.0), (4300, 0.0), (4302, 0.0), (4303, 0.0), (4305, 0.0), (4307, 0.0), (4310, 0.0), (4312, 0.0), (4313, 0.0), (4314, 0.0), (4315, 0.0), (4316, 0.0), (4317, 0.0), (4319, 0.0), (4322, 0.0), (4323, 0.0), (4331, 0.0), (4332, 0.0), (4338, 0.0), (4339, 0.0), (4341, 0.0), (4342, 0.0), (4346, 0.0), (4347, 0.0), (4351, 0.0), (4352, 0.0), (4353, 0.0), (4360, 0.0), (4364, 0.0), (4367, 0.0), (4370, 0.0), (4372, 0.0), (4373, 0.0), (4376, 0.0), (4377, 0.0), (4378, 0.0), (4383, 0.0), (4384, 0.0), (4385, 0.0), (4388, 0.0), (4389, 0.0), (4392, 0.0), (4393, 0.0), (4405, 0.0), (4406, 0.0), (4408, 0.0), (4413, 0.0), (4414, 0.0), (4415, 0.0), (4417, 0.0), (4424, 0.0), (4425, 0.0), (4434, 0.0), (4437, 0.0), (4438, 0.0), (4439, 0.0), (4441, 0.0), (4447, 0.0), (4449, 0.0), (4452, 0.0), (4453, 0.0), (4455, 0.0), (4456, 0.0), (4457, 0.0), (4459, 0.0), (4460, 0.0), (4462, 0.0), (4463, 0.0), (4464, 0.0), (4467, 0.0), (4468, 0.0), (4478, 0.0), (4480, 0.0), (4483, 0.0), (4488, 0.0), (4491, 0.0), (4492, 0.0), (4493, 0.0), (4496, 0.0), (4499, 0.0), (4500, 0.0), (4506, 0.0), (4508, 0.0), (4509, 0.0), (4513, 0.0), (4514, 0.0), (4515, 0.0), (4518, 0.0), (4519, 0.0), (4524, 0.0), (4525, 0.0), (4526, 0.0), (4527, 0.0), (4537, 0.0), (4538, 0.0), (4539, 0.0), (4541, 0.0), (4547, 0.0), (4548, 0.0), (4549, 0.0), (4552, 0.0), (4556, 0.0), (4559, 0.0), (4560, 0.0), (4561, 0.0), (4562, 0.0), (4565, 0.0), (4568, 0.0), (4569, 0.0), (4570, 0.0), (4577, 0.0), (4578, 0.0), (4580, 0.0), (4586, 0.0), (4588, 0.0), (4592, 0.0), (4595, 0.0), (4596, 0.0), (4599, 0.0), (4613, 0.0), (4615, 0.0), (4618, 0.0), (4621, 0.0), (4622, 0.0), (4630, 0.0), (4631, 0.0), (4635, 0.0), (4639, 0.0), (4642, 0.0), (4645, 0.0), (4646, 0.0), (4648, 0.0), (4651, 0.0), (4654, 0.0), (4655, 0.0), (4659, 0.0), (4662, 0.0), (4664, 0.0), (4665, 0.0), (4666, 0.0), (4667, 0.0), (4671, 0.0), (4672, 0.0), (4675, 0.0), (4676, 0.0), (4678, 0.0), (4681, 0.0), (4682, 0.0), (4689, 0.0), (4690, 0.0), (4695, 0.0), (4697, 0.0), (4698, 0.0), (4700, 0.0), (4702, 0.0), (4708, 0.0), (4711, 0.0), (4714, 0.0), (4716, 0.0), (4725, 0.0), (4728, 0.0), (4730, 0.0), (4736, 0.0), (4738, 0.0), (4741, 0.0), (4742, 0.0), (4745, 0.0), (4746, 0.0), (4750, 0.0), (4751, 0.0), (4754, 0.0), (4755, 0.0), (4758, 0.0), (4759, 0.0)]\n"
          ]
        }
      ]
    },
    {
      "cell_type": "code",
      "source": [
        "#print the similar movies based on index\n",
        "print(\"Top 30 Movies suggested for you : \")\n",
        "\n",
        "i=1\n",
        "\n",
        "for movie in sorted_similar_movie:\n",
        "  index=movie[0]\n",
        "  title_from_index=df[df.index==index]['Movie_Title'].values[0]\n",
        "  if(i>30):\n",
        "    break;\n",
        "  print(i,'. ',title_from_index,sep=\"\")\n",
        "  i+=1"
      ],
      "metadata": {
        "colab": {
          "base_uri": "https://localhost:8080/"
        },
        "id": "GAqV4A-R-JaI",
        "outputId": "d3edb4d9-98dd-45ee-fae1-d36c7cbb8939"
      },
      "execution_count": 43,
      "outputs": [
        {
          "output_type": "stream",
          "name": "stdout",
          "text": [
            "Top 30 Movies suggested for you : \n",
            "1. The Place Beyond the Pines\n",
            "2. Blue Valentine\n",
            "3. Like Mike\n",
            "4. Metallica: Through the Never\n",
            "5. The Spirit\n",
            "6. ZMD: Zombies of Mass Destruction\n",
            "7. City of God\n",
            "8. Chronicle\n",
            "9. Days of Thunder\n",
            "10. We Own the Night\n",
            "11. Road House\n",
            "12. Once Upon a Time in Mexico\n",
            "13. Midnight Special\n",
            "14. The Midnight Meat Train\n",
            "15. Train\n",
            "16. Valentine's Day\n",
            "17. Night of the Living Dead\n",
            "18. Ali\n",
            "19. Two Lovers and a Bear\n",
            "20. Closer\n",
            "21. Alleluia! The Devil's Carnival\n",
            "22. Snitch\n",
            "23. Enemy of the State\n",
            "24. The Amazing Spider-Man 2\n",
            "25. Real Steel\n",
            "26. Aloha\n",
            "27. Dear Frankie\n",
            "28. The Slaughter Rule\n",
            "29. My Own Private Idaho\n",
            "30. He Got Game\n"
          ]
        }
      ]
    },
    {
      "cell_type": "markdown",
      "source": [
        "#Top 10 Movie Recomandation System"
      ],
      "metadata": {
        "id": "R2Uqci6w_fIs"
      }
    },
    {
      "cell_type": "code",
      "source": [
        "Favorite_movie_name=input(\"Enter your favorite movie name: \")\n",
        "All_movie_title_list=df['Movie_Title'].tolist()\n",
        "movie_recomandation=difflib.get_close_matches(Favorite_movie_name,All_movie_title_list)\n",
        "close_match=movie_recomandation[0]\n",
        "Index_0f_Close_Match_Movie = df[df.Movie_Title==close_match]['Movie_ID'].values[0]\n",
        "Recomandation_score = list(enumerate(Similarity_score[Index_0f_Close_Match_Movie]))\n",
        "sorted_similar_movie = sorted(Recomandation_score,key = lambda x:x[1],reverse = True)\n",
        "print(\"Top 10 Movies suggested for you : \")\n",
        "i=1\n",
        "for movie in sorted_similar_movie:\n",
        "  index=movie[0]\n",
        "  title_from_index=df[df.index==index]['Movie_Title'].values[0]\n",
        "  if(i>10):\n",
        "    break;\n",
        "  print(i,'. ',title_from_index,sep=\"\")\n",
        "  i+=1"
      ],
      "metadata": {
        "colab": {
          "base_uri": "https://localhost:8080/"
        },
        "id": "-f8w6FOR_lBy",
        "outputId": "c4e369b5-9e70-4802-f360-72e24ae04b98"
      },
      "execution_count": 45,
      "outputs": [
        {
          "output_type": "stream",
          "name": "stdout",
          "text": [
            "Enter your favorite movie name: avtaar\n",
            "Top 10 Movies suggested for you : \n",
            "1. Niagara\n",
            "2. Caravans\n",
            "3. My Week with Marilyn\n",
            "4. Brokeback Mountain\n",
            "5. Harry Brown\n",
            "6. Night of the Living Dead\n",
            "7. The Curse of Downers Grove\n",
            "8. The Boy Next Door\n",
            "9. Back to the Future\n",
            "10. The Juror\n"
          ]
        }
      ]
    }
  ]
}